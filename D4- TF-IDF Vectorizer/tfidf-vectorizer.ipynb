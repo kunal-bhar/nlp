{
 "cells": [
  {
   "cell_type": "code",
   "execution_count": 1,
   "id": "a4712676-7148-49b7-87fc-173972ec39dd",
   "metadata": {},
   "outputs": [],
   "source": [
    "import nltk\n",
    "from nltk.corpus import stopwords\n",
    "from nltk.stem import WordNetLemmatizer\n",
    "import numpy"
   ]
  },
  {
   "cell_type": "code",
   "execution_count": 2,
   "id": "8a0e2bfa-77d8-43c6-8894-068d8cc8dd6e",
   "metadata": {},
   "outputs": [],
   "source": [
    "import re\n",
    "from sklearn.feature_extraction.text import TfidfVectorizer"
   ]
  },
  {
   "cell_type": "code",
   "execution_count": 3,
   "id": "d0fd1837-5332-42d1-b9ba-d891cc3f01f6",
   "metadata": {},
   "outputs": [],
   "source": [
    "corpus = \"Life doesn’t have to be so damn hard. It really doesn’t. Most people, my past self included, have spent too much time convincing themselves that life has to be hard, a resignation to 9-to-5 drudgery in exchange for (sometimes) relaxing weekends and the occasional keep-it-short-or-get-fired vacation. The truth, at least the truth I live and will share in this book, is quite different. From leveraging currency differences to outsourcing your life and disappearing, I’ll show you how a small underground uses economic sleight-of-hand to do what most consider impossible. If you’ve picked up this book, chances are that you don’t want to sit behind a desk until you are 62. Whether your dream is escaping the rat race, real-life fantasy travel, long-term wandering, setting world records, or simply a dramatic career change, this book will give you all the tools you need to make it a reality in the here-and-now instead of in the often elusive retirement. There is a way to get the rewards for a life of hard work without waiting until the end\""
   ]
  },
  {
   "cell_type": "code",
   "execution_count": 4,
   "id": "74a6b2b5-ae1f-4c62-a69d-48ca529f2e34",
   "metadata": {},
   "outputs": [],
   "source": [
    "wordnet = WordNetLemmatizer()\n",
    "sentences = nltk.sent_tokenize(corpus)"
   ]
  },
  {
   "cell_type": "code",
   "execution_count": 5,
   "id": "897baece-f744-4ddc-bc54-51ac770c6636",
   "metadata": {},
   "outputs": [
    {
     "data": {
      "text/plain": [
       "['Life doesn’t have to be so damn hard.',\n",
       " 'It really doesn’t.',\n",
       " 'Most people, my past self included, have spent too much time convincing themselves that life has to be hard, a resignation to 9-to-5 drudgery in exchange for (sometimes) relaxing weekends and the occasional keep-it-short-or-get-fired vacation.',\n",
       " 'The truth, at least the truth I live and will share in this book, is quite different.',\n",
       " 'From leveraging currency differences to outsourcing your life and disappearing, I’ll show you how a small underground uses economic sleight-of-hand to do what most consider impossible.']"
      ]
     },
     "execution_count": 5,
     "metadata": {},
     "output_type": "execute_result"
    }
   ],
   "source": [
    "sentences[0:5]"
   ]
  },
  {
   "cell_type": "code",
   "execution_count": 6,
   "id": "cfe3222f-ea98-4231-b54f-94e691dc2d43",
   "metadata": {},
   "outputs": [],
   "source": [
    "content = []"
   ]
  },
  {
   "cell_type": "markdown",
   "id": "df328788-ba6c-461c-bd27-3a8dec0c784e",
   "metadata": {},
   "source": [
    "### Removing Punctuation, Numbers and Fluff"
   ]
  },
  {
   "cell_type": "code",
   "execution_count": 7,
   "id": "f6726112-e9b7-4406-9245-e35cb7416e0a",
   "metadata": {},
   "outputs": [],
   "source": [
    "for i in range(len(sentences)):\n",
    "    temp = re.sub('[^a-zA-Z]', ' ', sentences[i])\n",
    "    temp = temp.lower()\n",
    "    temp = temp.split()\n",
    "    temp = [wordnet.lemmatize(word) for word in temp if not word in set(stopwords.words('english'))]\n",
    "    temp = ' '.join(temp)\n",
    "    content.append(temp)"
   ]
  },
  {
   "cell_type": "code",
   "execution_count": 8,
   "id": "1bafdffb-5280-4edf-9128-707b040da052",
   "metadata": {},
   "outputs": [
    {
     "data": {
      "text/plain": [
       "['life damn hard',\n",
       " 'really',\n",
       " 'people past self included spent much time convincing life hard resignation drudgery exchange sometimes relaxing weekend occasional keep short get fired vacation',\n",
       " 'truth least truth live share book quite different',\n",
       " 'leveraging currency difference outsourcing life disappearing show small underground us economic sleight hand consider impossible']"
      ]
     },
     "execution_count": 8,
     "metadata": {},
     "output_type": "execute_result"
    }
   ],
   "source": [
    "content[0:5]"
   ]
  },
  {
   "cell_type": "markdown",
   "id": "61f64725-01c7-49a2-9cd8-816386baac46",
   "metadata": {},
   "source": [
    "### Term Frequency-Inverse Term Frequency Vectorizer"
   ]
  },
  {
   "cell_type": "code",
   "execution_count": 10,
   "id": "4abe8e3f-4c97-4de1-be85-b6c09f5f5908",
   "metadata": {},
   "outputs": [],
   "source": [
    "tv = TfidfVectorizer(max_features = 1500)"
   ]
  },
  {
   "cell_type": "code",
   "execution_count": 11,
   "id": "40843b10-65f0-433f-b76b-2ad0887e69a1",
   "metadata": {},
   "outputs": [],
   "source": [
    "X = tv.fit_transform(content)"
   ]
  },
  {
   "cell_type": "code",
   "execution_count": 12,
   "id": "503bfec5-aa39-4a8b-ab88-9dfe657215d7",
   "metadata": {},
   "outputs": [],
   "source": [
    "bag = numpy.array(X)"
   ]
  },
  {
   "cell_type": "code",
   "execution_count": 13,
   "id": "b2aa73c6-7eeb-4104-99cf-8013be0f2d94",
   "metadata": {},
   "outputs": [
    {
     "data": {
      "text/plain": [
       "array(<8x84 sparse matrix of type '<class 'numpy.float64'>'\n",
       "\twith 93 stored elements in Compressed Sparse Row format>, dtype=object)"
      ]
     },
     "execution_count": 13,
     "metadata": {},
     "output_type": "execute_result"
    }
   ],
   "source": [
    "bag"
   ]
  }
 ],
 "metadata": {
  "kernelspec": {
   "display_name": "Python 3 (ipykernel)",
   "language": "python",
   "name": "python3"
  },
  "language_info": {
   "codemirror_mode": {
    "name": "ipython",
    "version": 3
   },
   "file_extension": ".py",
   "mimetype": "text/x-python",
   "name": "python",
   "nbconvert_exporter": "python",
   "pygments_lexer": "ipython3",
   "version": "3.9.7"
  }
 },
 "nbformat": 4,
 "nbformat_minor": 5
}
