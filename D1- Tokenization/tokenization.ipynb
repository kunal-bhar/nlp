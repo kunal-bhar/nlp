{
 "cells": [
  {
   "cell_type": "markdown",
   "id": "6df9466f-f203-4dfe-8107-294d231b5553",
   "metadata": {},
   "source": [
    "## Tokenization"
   ]
  },
  {
   "cell_type": "code",
   "execution_count": 1,
   "id": "36e24a6e-fb31-4f37-9045-661f962aea0c",
   "metadata": {},
   "outputs": [],
   "source": [
    "import nltk"
   ]
  },
  {
   "cell_type": "markdown",
   "id": "63d40966-8978-4303-9210-dc594766aef7",
   "metadata": {},
   "source": [
    "### Text Excerpt"
   ]
  },
  {
   "cell_type": "code",
   "execution_count": 2,
   "id": "9c9ce189-2fca-440a-ae1e-276000f3a887",
   "metadata": {},
   "outputs": [],
   "source": [
    "corpus = \"Life doesn’t have to be so damn hard. It really doesn’t. Most people, my past self included, have spent too much time convincing themselves that life has to be hard, a resignation to 9-to-5 drudgery in exchange for (sometimes) relaxing weekends and the occasional keep-it-short-or-get-fired vacation. The truth, at least the truth I live and will share in this book, is quite different. From leveraging currency differences to outsourcing your life and disappearing, I’ll show you how a small underground uses economic sleight-of-hand to do what most consider impossible. If you’ve picked up this book, chances are that you don’t want to sit behind a desk until you are 62. Whether your dream is escaping the rat race, real-life fantasy travel, long-term wandering, setting world records, or simply a dramatic career change, this book will give you all the tools you need to make it a reality in the here-and-now instead of in the often elusive retirement. There is a way to get the rewards for a life of hard work without waiting until the end\""
   ]
  },
  {
   "cell_type": "markdown",
   "id": "71ebca0d-1a1a-4850-96aa-0ed6d3de39c9",
   "metadata": {},
   "source": [
    "### Sentence Tokenizer"
   ]
  },
  {
   "cell_type": "code",
   "execution_count": 3,
   "id": "bbb5a942-fe2f-41c5-8e7e-92e1546b318f",
   "metadata": {},
   "outputs": [],
   "source": [
    "sentences = nltk.sent_tokenize(corpus)"
   ]
  },
  {
   "cell_type": "code",
   "execution_count": 4,
   "id": "a411e66f-3ee1-4425-ac96-2d685c41b96c",
   "metadata": {},
   "outputs": [
    {
     "data": {
      "text/plain": [
       "['Life doesn’t have to be so damn hard.',\n",
       " 'It really doesn’t.',\n",
       " 'Most people, my past self included, have spent too much time convincing themselves that life has to be hard, a resignation to 9-to-5 drudgery in exchange for (sometimes) relaxing weekends and the occasional keep-it-short-or-get-fired vacation.',\n",
       " 'The truth, at least the truth I live and will share in this book, is quite different.',\n",
       " 'From leveraging currency differences to outsourcing your life and disappearing, I’ll show you how a small underground uses economic sleight-of-hand to do what most consider impossible.',\n",
       " 'If you’ve picked up this book, chances are that you don’t want to sit behind a desk until you are 62.',\n",
       " 'Whether your dream is escaping the rat race, real-life fantasy travel, long-term wandering, setting world records, or simply a dramatic career change, this book will give you all the tools you need to make it a reality in the here-and-now instead of in the often elusive retirement.',\n",
       " 'There is a way to get the rewards for a life of hard work without waiting until the end']"
      ]
     },
     "execution_count": 4,
     "metadata": {},
     "output_type": "execute_result"
    }
   ],
   "source": [
    "sentences"
   ]
  },
  {
   "cell_type": "markdown",
   "id": "c5fe8b9a-5e42-47fb-b5e5-fc2ca77bbaed",
   "metadata": {
    "tags": []
   },
   "source": [
    "### Word Tokenizer"
   ]
  },
  {
   "cell_type": "code",
   "execution_count": 5,
   "id": "d92b0d78-5b6a-43d5-9a89-7c8a4fa0bc2c",
   "metadata": {},
   "outputs": [],
   "source": [
    "words = nltk.word_tokenize(corpus)"
   ]
  },
  {
   "cell_type": "code",
   "execution_count": 7,
   "id": "4665d983-4435-4f33-a1af-7a3df66d8718",
   "metadata": {},
   "outputs": [
    {
     "data": {
      "text/plain": [
       "['Life', 'doesn', '’', 't', 'have', 'to', 'be', 'so', 'damn', 'hard']"
      ]
     },
     "execution_count": 7,
     "metadata": {},
     "output_type": "execute_result"
    }
   ],
   "source": [
    "words[0:10]"
   ]
  }
 ],
 "metadata": {
  "kernelspec": {
   "display_name": "Python 3 (ipykernel)",
   "language": "python",
   "name": "python3"
  },
  "language_info": {
   "codemirror_mode": {
    "name": "ipython",
    "version": 3
   },
   "file_extension": ".py",
   "mimetype": "text/x-python",
   "name": "python",
   "nbconvert_exporter": "python",
   "pygments_lexer": "ipython3",
   "version": "3.9.7"
  }
 },
 "nbformat": 4,
 "nbformat_minor": 5
}
