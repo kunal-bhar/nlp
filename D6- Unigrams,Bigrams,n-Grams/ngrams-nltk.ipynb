{
 "cells": [
  {
   "cell_type": "code",
   "execution_count": 1,
   "id": "c50f7ad6-f65c-47ca-ac38-e6579370cfdb",
   "metadata": {},
   "outputs": [],
   "source": [
    "corpus = \"Life doesn’t have to be so damn hard. It really doesn’t. Most people, my past self included, have spent too much time convincing themselves that life has to be hard, a resignation to 9-to-5 drudgery in exchange for (sometimes) relaxing weekends and the occasional keep-it-short-or-get-fired vacation. The truth, at least the truth I live and will share in this book, is quite different. From leveraging currency differences to outsourcing your life and disappearing, I’ll show you how a small underground uses economic sleight-of-hand to do what most consider impossible. If you’ve picked up this book, chances are that you don’t want to sit behind a desk until you are 62. Whether your dream is escaping the rat race, real-life fantasy travel, long-term wandering, setting world records, or simply a dramatic career change, this book will give you all the tools you need to make it a reality in the here-and-now instead of in the often elusive retirement. There is a way to get the rewards for a life of hard work without waiting until the end\""
   ]
  },
  {
   "cell_type": "markdown",
   "id": "5d847058-7ca7-4972-8298-f9bae3776c00",
   "metadata": {},
   "source": [
    "### Bigrams & Trigrams"
   ]
  },
  {
   "cell_type": "code",
   "execution_count": 2,
   "id": "2e8b068e-6e2b-4106-bc83-3792d720654b",
   "metadata": {},
   "outputs": [],
   "source": [
    "import re\n",
    "from nltk.util import bigrams,trigrams"
   ]
  },
  {
   "cell_type": "code",
   "execution_count": 3,
   "id": "17fa4cef-2cec-4f66-9848-542475f5fc4d",
   "metadata": {},
   "outputs": [],
   "source": [
    "bigrams = bigrams(corpus)\n",
    "trigrams = trigrams(corpus) "
   ]
  },
  {
   "cell_type": "code",
   "execution_count": 4,
   "id": "3423413c-5d28-49d5-86d5-6260372797b0",
   "metadata": {},
   "outputs": [
    {
     "data": {
      "text/plain": [
       "<generator object bigrams at 0x00000173EB0A64A0>"
      ]
     },
     "execution_count": 4,
     "metadata": {},
     "output_type": "execute_result"
    }
   ],
   "source": [
    "bigrams"
   ]
  },
  {
   "cell_type": "code",
   "execution_count": 5,
   "id": "f7bcb823-8d20-47b9-8fb9-7636ca9b2862",
   "metadata": {},
   "outputs": [
    {
     "data": {
      "text/plain": [
       "<generator object trigrams at 0x00000173EB0A6510>"
      ]
     },
     "execution_count": 5,
     "metadata": {},
     "output_type": "execute_result"
    }
   ],
   "source": [
    "trigrams"
   ]
  },
  {
   "cell_type": "markdown",
   "id": "c096ba5c-a3ce-4905-9c66-91e633315d7d",
   "metadata": {},
   "source": [
    "### n-grams using NLTK"
   ]
  },
  {
   "cell_type": "code",
   "execution_count": 8,
   "id": "25e84b46-cd28-4bb7-86e7-3ff2523987f8",
   "metadata": {},
   "outputs": [],
   "source": [
    "from nltk.util import ngrams"
   ]
  },
  {
   "cell_type": "code",
   "execution_count": 9,
   "id": "f19482a8-cfaa-459b-889c-e158e4aa08f8",
   "metadata": {},
   "outputs": [],
   "source": [
    "corpus = corpus.lower()\n",
    "corpus = re.sub(r'[^a-zA-Z]', ' ', corpus)\n",
    "tokens = [token for token in corpus.split(\" \") if token != \"\"]"
   ]
  },
  {
   "cell_type": "code",
   "execution_count": 10,
   "id": "2776cf18-6757-41f1-8b9d-d33675773c44",
   "metadata": {
    "tags": []
   },
   "outputs": [],
   "source": [
    "output = list(ngrams(tokens, 5))"
   ]
  },
  {
   "cell_type": "code",
   "execution_count": 11,
   "id": "6d78af75-9a50-4bc4-8864-34bf4c5a8aa5",
   "metadata": {
    "tags": []
   },
   "outputs": [
    {
     "data": {
      "text/plain": [
       "[('life', 'doesn', 't', 'have', 'to'),\n",
       " ('doesn', 't', 'have', 'to', 'be'),\n",
       " ('t', 'have', 'to', 'be', 'so'),\n",
       " ('have', 'to', 'be', 'so', 'damn'),\n",
       " ('to', 'be', 'so', 'damn', 'hard'),\n",
       " ('be', 'so', 'damn', 'hard', 'it'),\n",
       " ('so', 'damn', 'hard', 'it', 'really')]"
      ]
     },
     "execution_count": 11,
     "metadata": {},
     "output_type": "execute_result"
    }
   ],
   "source": [
    "output[0:7]"
   ]
  },
  {
   "cell_type": "code",
   "execution_count": 12,
   "id": "d45e812f-ea4c-42c1-9832-b1004da4491a",
   "metadata": {},
   "outputs": [],
   "source": [
    "output = list(ngrams(tokens, 2))"
   ]
  },
  {
   "cell_type": "code",
   "execution_count": 13,
   "id": "4babdabf-b653-4206-a334-592799a8c2e1",
   "metadata": {},
   "outputs": [
    {
     "data": {
      "text/plain": [
       "[('life', 'doesn'),\n",
       " ('doesn', 't'),\n",
       " ('t', 'have'),\n",
       " ('have', 'to'),\n",
       " ('to', 'be'),\n",
       " ('be', 'so'),\n",
       " ('so', 'damn'),\n",
       " ('damn', 'hard')]"
      ]
     },
     "execution_count": 13,
     "metadata": {},
     "output_type": "execute_result"
    }
   ],
   "source": [
    "output[0:8]"
   ]
  }
 ],
 "metadata": {
  "kernelspec": {
   "display_name": "Python 3 (ipykernel)",
   "language": "python",
   "name": "python3"
  },
  "language_info": {
   "codemirror_mode": {
    "name": "ipython",
    "version": 3
   },
   "file_extension": ".py",
   "mimetype": "text/x-python",
   "name": "python",
   "nbconvert_exporter": "python",
   "pygments_lexer": "ipython3",
   "version": "3.9.7"
  }
 },
 "nbformat": 4,
 "nbformat_minor": 5
}
