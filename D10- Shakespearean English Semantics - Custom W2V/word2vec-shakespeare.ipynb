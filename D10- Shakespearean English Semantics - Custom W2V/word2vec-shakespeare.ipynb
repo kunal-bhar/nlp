{
 "cells": [
  {
   "cell_type": "code",
   "execution_count": 1,
   "id": "f66dd140-80f3-49a7-9099-3ba6ec11cfc2",
   "metadata": {},
   "outputs": [],
   "source": [
    "import pandas as pd\n",
    "import nltk\n",
    "import string\n",
    "import matplotlib.pyplot as plt\n",
    "\n",
    "from nltk.corpus import stopwords\n",
    "from nltk import word_tokenize\n",
    "from gensim.models import Word2Vec as w2v\n",
    "from sklearn.decomposition import PCA"
   ]
  },
  {
   "cell_type": "code",
   "execution_count": 2,
   "id": "6e31c509-6029-44d6-80d7-24224784967d",
   "metadata": {},
   "outputs": [],
   "source": [
    "PATH = 'ShakespeareDataset.txt'\n",
    "sw = stopwords.words('english')\n",
    "plt.style.use('ggplot')"
   ]
  },
  {
   "cell_type": "code",
   "execution_count": 3,
   "id": "6a99a535-b628-4d93-ae16-6d1c49ae3a85",
   "metadata": {},
   "outputs": [
    {
     "name": "stdout",
     "output_type": "stream",
     "text": [
      "Wall time: 70.5 ms\n"
     ]
    }
   ],
   "source": [
    "%%time\n",
    "lines = []\n",
    "with open(PATH, 'r') as f:\n",
    "    for l in f:\n",
    "        lines.append(l)"
   ]
  },
  {
   "cell_type": "markdown",
   "id": "a7e68fe5-6ef0-4446-8376-af84a4c5dc22",
   "metadata": {},
   "source": [
    "### Text Pre-Processing"
   ]
  },
  {
   "cell_type": "code",
   "execution_count": 4,
   "id": "2f9258fe-02b7-431b-9a3b-d9861de8f6ee",
   "metadata": {},
   "outputs": [],
   "source": [
    "lines = [line.rstrip('\\n') for line in lines]\n",
    "lines = [line.lower() for line in lines]\n",
    "lines = [line.translate(str.maketrans('', '', string.punctuation)) for line in lines]"
   ]
  },
  {
   "cell_type": "code",
   "execution_count": 5,
   "id": "e581937e-8683-4572-9057-f4508da5708c",
   "metadata": {},
   "outputs": [
    {
     "name": "stdout",
     "output_type": "stream",
     "text": [
      "Wall time: 15.3 s\n"
     ]
    }
   ],
   "source": [
    "%time lines = [word_tokenize(line) for line in lines]"
   ]
  },
  {
   "cell_type": "code",
   "execution_count": 6,
   "id": "04f71412-8933-4e00-a095-5d7d05ebdbfe",
   "metadata": {},
   "outputs": [],
   "source": [
    "def remove_stopwords(lines, sw = sw):\n",
    "    res = []\n",
    "    for line in lines:\n",
    "        original = line\n",
    "        line = [w for w in line if w not in sw]\n",
    "        if len(line) < 1:\n",
    "            line = original\n",
    "        res.append(line)\n",
    "    return res\n",
    "    "
   ]
  },
  {
   "cell_type": "code",
   "execution_count": 7,
   "id": "610d2a24-a18d-4761-af50-1b489f3a3ef5",
   "metadata": {},
   "outputs": [
    {
     "name": "stdout",
     "output_type": "stream",
     "text": [
      "Wall time: 2.03 s\n"
     ]
    }
   ],
   "source": [
    "%time filtered_lines = remove_stopwords(lines = lines, sw = sw)"
   ]
  },
  {
   "cell_type": "markdown",
   "id": "30d521b3-a596-43f6-a085-f143969c73aa",
   "metadata": {},
   "source": [
    "### Custom Word2Vec x Word-Similarity"
   ]
  },
  {
   "cell_type": "code",
   "execution_count": 8,
   "id": "cc83c045-0e9a-4bb0-bbba-41caccef420b",
   "metadata": {},
   "outputs": [
    {
     "name": "stdout",
     "output_type": "stream",
     "text": [
      "Wall time: 3.22 s\n"
     ]
    }
   ],
   "source": [
    "%%time\n",
    "w = w2v(\n",
    "    filtered_lines,\n",
    "    min_count=3,  \n",
    "    sg = 1,       \n",
    "    window=7      \n",
    ")       "
   ]
  },
  {
   "cell_type": "code",
   "execution_count": 9,
   "id": "e3f38f02-7d2d-48aa-9dd5-9757ec9e5ebf",
   "metadata": {},
   "outputs": [
    {
     "data": {
      "text/plain": [
       "[('art', 0.8374333381652832),\n",
       " ('thyself', 0.8162680864334106),\n",
       " ('dost', 0.7874499559402466),\n",
       " ('villain', 0.7856082320213318),\n",
       " ('kill', 0.733100950717926),\n",
       " ('hast', 0.7226855158805847),\n",
       " ('wilt', 0.7046181559562683),\n",
       " ('didst', 0.6970406770706177),\n",
       " ('fellow', 0.696016788482666),\n",
       " ('traitor', 0.6928953528404236)]"
      ]
     },
     "execution_count": 9,
     "metadata": {},
     "output_type": "execute_result"
    }
   ],
   "source": [
    "w.wv.most_similar('thou')"
   ]
  },
  {
   "cell_type": "code",
   "execution_count": 18,
   "id": "3fc3605f-4735-4a3d-9aad-060a37fd02bd",
   "metadata": {},
   "outputs": [
    {
     "data": {
      "text/plain": [
       "[('may', 0.8649993538856506),\n",
       " ('could', 0.8336020708084106),\n",
       " ('youll', 0.8054620623588562),\n",
       " ('doth', 0.8045750856399536),\n",
       " ('till', 0.7994358539581299),\n",
       " ('business', 0.7948688864707947),\n",
       " ('ill', 0.7912845611572266),\n",
       " ('dare', 0.7817249298095703),\n",
       " ('let', 0.7762875556945801),\n",
       " ('might', 0.776180624961853)]"
      ]
     },
     "execution_count": 18,
     "metadata": {},
     "output_type": "execute_result"
    }
   ],
   "source": [
    "w.wv.most_similar('shall')"
   ]
  },
  {
   "cell_type": "code",
   "execution_count": 19,
   "id": "744765f7-fc32-49c9-ae71-29947b5afca4",
   "metadata": {},
   "outputs": [
    {
     "data": {
      "text/plain": [
       "[('revenue', 0.9962968826293945),\n",
       " ('exercise', 0.9959706664085388),\n",
       " ('wedlock', 0.9957810640335083),\n",
       " ('fever', 0.995772659778595),\n",
       " ('painting', 0.9955847263336182),\n",
       " ('arthurs', 0.9955565929412842),\n",
       " ('touched', 0.9955466985702515),\n",
       " ('purgation', 0.9953007698059082),\n",
       " ('devotion', 0.9951791763305664),\n",
       " ('havior', 0.9951609373092651)]"
      ]
     },
     "execution_count": 19,
     "metadata": {},
     "output_type": "execute_result"
    }
   ],
   "source": [
    "w.wv.most_similar('abhor')"
   ]
  },
  {
   "cell_type": "code",
   "execution_count": 20,
   "id": "434f5721-f268-476f-8f16-204fc19ef839",
   "metadata": {},
   "outputs": [
    {
     "data": {
      "text/plain": [
       "[('form', 0.9728872776031494),\n",
       " ('monstrous', 0.9698807597160339),\n",
       " ('smiling', 0.9687707424163818),\n",
       " ('merit', 0.9668200016021729),\n",
       " ('savage', 0.9668026566505432),\n",
       " ('blown', 0.9667961597442627),\n",
       " ('tremble', 0.9661442041397095),\n",
       " ('worm', 0.9657843112945557),\n",
       " ('quite', 0.9650156497955322),\n",
       " ('giddy', 0.9649045467376709)]"
      ]
     },
     "execution_count": 20,
     "metadata": {},
     "output_type": "execute_result"
    }
   ],
   "source": [
    "w.wv.most_similar('vile')"
   ]
  },
  {
   "cell_type": "code",
   "execution_count": 21,
   "id": "1f83cafe-d0d0-446c-9d65-22fc9160c321",
   "metadata": {},
   "outputs": [
    {
     "name": "stdout",
     "output_type": "stream",
     "text": [
      "Wall time: 797 ms\n"
     ]
    }
   ],
   "source": [
    "%%time\n",
    "emb_df = (\n",
    "    pd.DataFrame(\n",
    "        [w.wv.get_vector(str(n)) for n in w.wv.key_to_index],\n",
    "        index = w.wv.key_to_index\n",
    "    )\n",
    ")"
   ]
  },
  {
   "cell_type": "code",
   "execution_count": 22,
   "id": "d79eed53-e034-45e8-962f-d9b5b778589c",
   "metadata": {},
   "outputs": [
    {
     "data": {
      "text/plain": [
       "(11628, 100)"
      ]
     },
     "execution_count": 22,
     "metadata": {},
     "output_type": "execute_result"
    }
   ],
   "source": [
    "emb_df.shape"
   ]
  },
  {
   "cell_type": "code",
   "execution_count": 23,
   "id": "8ee8f11c-b3d5-44f4-8ba3-8dee72e20e0a",
   "metadata": {},
   "outputs": [
    {
     "data": {
      "text/html": [
       "<div>\n",
       "<style scoped>\n",
       "    .dataframe tbody tr th:only-of-type {\n",
       "        vertical-align: middle;\n",
       "    }\n",
       "\n",
       "    .dataframe tbody tr th {\n",
       "        vertical-align: top;\n",
       "    }\n",
       "\n",
       "    .dataframe thead th {\n",
       "        text-align: right;\n",
       "    }\n",
       "</style>\n",
       "<table border=\"1\" class=\"dataframe\">\n",
       "  <thead>\n",
       "    <tr style=\"text-align: right;\">\n",
       "      <th></th>\n",
       "      <th>0</th>\n",
       "      <th>1</th>\n",
       "      <th>2</th>\n",
       "      <th>3</th>\n",
       "      <th>4</th>\n",
       "      <th>5</th>\n",
       "      <th>6</th>\n",
       "      <th>7</th>\n",
       "      <th>8</th>\n",
       "      <th>9</th>\n",
       "      <th>...</th>\n",
       "      <th>90</th>\n",
       "      <th>91</th>\n",
       "      <th>92</th>\n",
       "      <th>93</th>\n",
       "      <th>94</th>\n",
       "      <th>95</th>\n",
       "      <th>96</th>\n",
       "      <th>97</th>\n",
       "      <th>98</th>\n",
       "      <th>99</th>\n",
       "    </tr>\n",
       "  </thead>\n",
       "  <tbody>\n",
       "    <tr>\n",
       "      <th>thou</th>\n",
       "      <td>0.048444</td>\n",
       "      <td>-0.179371</td>\n",
       "      <td>0.656354</td>\n",
       "      <td>0.553357</td>\n",
       "      <td>-0.390886</td>\n",
       "      <td>-0.399313</td>\n",
       "      <td>0.408025</td>\n",
       "      <td>0.459145</td>\n",
       "      <td>-0.405728</td>\n",
       "      <td>-0.201803</td>\n",
       "      <td>...</td>\n",
       "      <td>0.168611</td>\n",
       "      <td>0.248811</td>\n",
       "      <td>0.342443</td>\n",
       "      <td>-0.067844</td>\n",
       "      <td>1.087360</td>\n",
       "      <td>0.751683</td>\n",
       "      <td>-0.544332</td>\n",
       "      <td>-0.557544</td>\n",
       "      <td>0.064042</td>\n",
       "      <td>0.441012</td>\n",
       "    </tr>\n",
       "    <tr>\n",
       "      <th>thy</th>\n",
       "      <td>0.025636</td>\n",
       "      <td>0.257252</td>\n",
       "      <td>0.512183</td>\n",
       "      <td>0.255503</td>\n",
       "      <td>0.298671</td>\n",
       "      <td>-0.194974</td>\n",
       "      <td>0.258179</td>\n",
       "      <td>0.727472</td>\n",
       "      <td>-0.141695</td>\n",
       "      <td>-0.345477</td>\n",
       "      <td>...</td>\n",
       "      <td>0.183475</td>\n",
       "      <td>-0.138357</td>\n",
       "      <td>0.696960</td>\n",
       "      <td>-0.215607</td>\n",
       "      <td>0.402519</td>\n",
       "      <td>0.359478</td>\n",
       "      <td>0.072248</td>\n",
       "      <td>-0.589917</td>\n",
       "      <td>0.021417</td>\n",
       "      <td>0.011141</td>\n",
       "    </tr>\n",
       "    <tr>\n",
       "      <th>shall</th>\n",
       "      <td>-0.059704</td>\n",
       "      <td>0.162047</td>\n",
       "      <td>-0.045949</td>\n",
       "      <td>-0.057693</td>\n",
       "      <td>0.579027</td>\n",
       "      <td>-0.023031</td>\n",
       "      <td>0.043291</td>\n",
       "      <td>0.445429</td>\n",
       "      <td>-0.326463</td>\n",
       "      <td>0.111084</td>\n",
       "      <td>...</td>\n",
       "      <td>0.486898</td>\n",
       "      <td>0.051414</td>\n",
       "      <td>0.056035</td>\n",
       "      <td>-0.147839</td>\n",
       "      <td>0.489713</td>\n",
       "      <td>0.178388</td>\n",
       "      <td>0.121662</td>\n",
       "      <td>-0.007791</td>\n",
       "      <td>0.305106</td>\n",
       "      <td>0.014491</td>\n",
       "    </tr>\n",
       "    <tr>\n",
       "      <th>thee</th>\n",
       "      <td>-0.437681</td>\n",
       "      <td>0.170327</td>\n",
       "      <td>0.516488</td>\n",
       "      <td>0.250964</td>\n",
       "      <td>0.051163</td>\n",
       "      <td>-0.085569</td>\n",
       "      <td>0.174727</td>\n",
       "      <td>0.692341</td>\n",
       "      <td>-0.266182</td>\n",
       "      <td>-0.164628</td>\n",
       "      <td>...</td>\n",
       "      <td>0.455216</td>\n",
       "      <td>0.022709</td>\n",
       "      <td>0.256135</td>\n",
       "      <td>-0.054368</td>\n",
       "      <td>0.635989</td>\n",
       "      <td>0.482457</td>\n",
       "      <td>-0.008304</td>\n",
       "      <td>-0.079286</td>\n",
       "      <td>0.276732</td>\n",
       "      <td>0.008572</td>\n",
       "    </tr>\n",
       "    <tr>\n",
       "      <th>good</th>\n",
       "      <td>0.068176</td>\n",
       "      <td>0.297002</td>\n",
       "      <td>0.267275</td>\n",
       "      <td>-0.144337</td>\n",
       "      <td>0.127091</td>\n",
       "      <td>0.131793</td>\n",
       "      <td>0.484557</td>\n",
       "      <td>0.709339</td>\n",
       "      <td>-0.335214</td>\n",
       "      <td>0.117829</td>\n",
       "      <td>...</td>\n",
       "      <td>0.368580</td>\n",
       "      <td>-0.192079</td>\n",
       "      <td>0.248281</td>\n",
       "      <td>-0.377771</td>\n",
       "      <td>0.294786</td>\n",
       "      <td>-0.042967</td>\n",
       "      <td>0.284816</td>\n",
       "      <td>-0.195110</td>\n",
       "      <td>0.345721</td>\n",
       "      <td>-0.013074</td>\n",
       "    </tr>\n",
       "  </tbody>\n",
       "</table>\n",
       "<p>5 rows × 100 columns</p>\n",
       "</div>"
      ],
      "text/plain": [
       "             0         1         2         3         4         5         6   \\\n",
       "thou   0.048444 -0.179371  0.656354  0.553357 -0.390886 -0.399313  0.408025   \n",
       "thy    0.025636  0.257252  0.512183  0.255503  0.298671 -0.194974  0.258179   \n",
       "shall -0.059704  0.162047 -0.045949 -0.057693  0.579027 -0.023031  0.043291   \n",
       "thee  -0.437681  0.170327  0.516488  0.250964  0.051163 -0.085569  0.174727   \n",
       "good   0.068176  0.297002  0.267275 -0.144337  0.127091  0.131793  0.484557   \n",
       "\n",
       "             7         8         9   ...        90        91        92  \\\n",
       "thou   0.459145 -0.405728 -0.201803  ...  0.168611  0.248811  0.342443   \n",
       "thy    0.727472 -0.141695 -0.345477  ...  0.183475 -0.138357  0.696960   \n",
       "shall  0.445429 -0.326463  0.111084  ...  0.486898  0.051414  0.056035   \n",
       "thee   0.692341 -0.266182 -0.164628  ...  0.455216  0.022709  0.256135   \n",
       "good   0.709339 -0.335214  0.117829  ...  0.368580 -0.192079  0.248281   \n",
       "\n",
       "             93        94        95        96        97        98        99  \n",
       "thou  -0.067844  1.087360  0.751683 -0.544332 -0.557544  0.064042  0.441012  \n",
       "thy   -0.215607  0.402519  0.359478  0.072248 -0.589917  0.021417  0.011141  \n",
       "shall -0.147839  0.489713  0.178388  0.121662 -0.007791  0.305106  0.014491  \n",
       "thee  -0.054368  0.635989  0.482457 -0.008304 -0.079286  0.276732  0.008572  \n",
       "good  -0.377771  0.294786 -0.042967  0.284816 -0.195110  0.345721 -0.013074  \n",
       "\n",
       "[5 rows x 100 columns]"
      ]
     },
     "execution_count": 23,
     "metadata": {},
     "output_type": "execute_result"
    }
   ],
   "source": [
    "emb_df.head()"
   ]
  },
  {
   "cell_type": "markdown",
   "id": "ae3a27bd-74d0-4ca3-b506-a2643327a0ed",
   "metadata": {},
   "source": [
    "### Word-Embedding Viz"
   ]
  },
  {
   "cell_type": "code",
   "execution_count": 24,
   "id": "f16412d5-4936-46e2-8a98-673482663b62",
   "metadata": {},
   "outputs": [
    {
     "data": {
      "text/plain": [
       "<Figure size 432x288 with 0 Axes>"
      ]
     },
     "metadata": {},
     "output_type": "display_data"
    },
    {
     "data": {
      "image/png": "[encoded data removed]",
      "text/plain": [
       "<Figure size 432x288 with 1 Axes>"
      ]
     },
     "metadata": {},
     "output_type": "display_data"
    }
   ],
   "source": [
    "plt.clf()\n",
    "fig=plt.figure(figsize=(6,4))\n",
    "plt.scatter(\n",
    "    x = emb_df.iloc[:,0],\n",
    "    y = emb_df.iloc[:,1],\n",
    "    s = 0.2,\n",
    "    color = 'maroon',\n",
    "    alpha = 0.5\n",
    ")\n",
    "plt.title('Embedding Visualizations')\n",
    "plt.show()\n"
   ]
  },
  {
   "cell_type": "markdown",
   "id": "f66a1163-436e-440c-b4b3-4eb058d100bf",
   "metadata": {},
   "source": [
    "### PCA Viz"
   ]
  },
  {
   "cell_type": "code",
   "execution_count": 25,
   "id": "38bd14ea-3fd3-485d-aaee-71bae440746e",
   "metadata": {},
   "outputs": [],
   "source": [
    "pca = PCA(n_components=2, random_state=7)\n",
    "pca_model = pca.fit_transform(emb_df)"
   ]
  },
  {
   "cell_type": "code",
   "execution_count": 26,
   "id": "7e331921-f558-4880-93d7-85bce5f4e1b6",
   "metadata": {},
   "outputs": [],
   "source": [
    "emb_df_PCA = (\n",
    "    pd.DataFrame(\n",
    "        pca_model,\n",
    "        columns=['x','y'],\n",
    "        index = emb_df.index\n",
    "    )\n",
    ")"
   ]
  },
  {
   "cell_type": "code",
   "execution_count": 27,
   "id": "b6ecea79-dbe1-4a6b-a978-806d4ceeb857",
   "metadata": {},
   "outputs": [
    {
     "data": {
      "text/plain": [
       "<Figure size 432x288 with 0 Axes>"
      ]
     },
     "metadata": {},
     "output_type": "display_data"
    },
    {
     "data": {
      "image/png": "[encoded data removed]",
      "text/plain": [
       "<Figure size 432x288 with 1 Axes>"
      ]
     },
     "metadata": {},
     "output_type": "display_data"
    }
   ],
   "source": [
    "plt.clf()\n",
    "fig = plt.figure(figsize=(6,4))\n",
    "\n",
    "plt.scatter(\n",
    "    x = emb_df_PCA['x'],\n",
    "    y = emb_df_PCA['y'],\n",
    "    s = 0.4,\n",
    "    color = 'maroon',\n",
    "    alpha = 0.5\n",
    ")\n",
    "\n",
    "plt.xlabel('PCA-1')\n",
    "plt.ylabel('PCA-2')\n",
    "plt.title('PCA Visualization')\n",
    "plt.plot()\n",
    "plt.show()"
   ]
  }
 ],
 "metadata": {
  "kernelspec": {
   "display_name": "Python 3 (ipykernel)",
   "language": "python",
   "name": "python3"
  },
  "language_info": {
   "codemirror_mode": {
    "name": "ipython",
    "version": 3
   },
   "file_extension": ".py",
   "mimetype": "text/x-python",
   "name": "python",
   "nbconvert_exporter": "python",
   "pygments_lexer": "ipython3",
   "version": "3.9.7"
  }
 },
 "nbformat": 4,
 "nbformat_minor": 5
}
