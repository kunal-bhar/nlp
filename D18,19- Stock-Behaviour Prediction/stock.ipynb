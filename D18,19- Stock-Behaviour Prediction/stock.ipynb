{
 "cells": [
  {
   "cell_type": "code",
   "execution_count": 2,
   "id": "17f44da5-9a87-40ed-9445-35e24022535c",
   "metadata": {},
   "outputs": [],
   "source": [
    "import pandas_datareader as pdr"
   ]
  },
  {
   "cell_type": "code",
   "execution_count": 7,
   "id": "94ff5209-196a-4436-83d0-dd57998d8108",
   "metadata": {},
   "outputs": [
    {
     "name": "stderr",
     "output_type": "stream",
     "text": [
      "C:\\ProgramData\\Anaconda3\\envs\\jlab_server\\lib\\site-packages\\pandas_datareader\\tiingo.py:234: FutureWarning: In a future version of pandas all arguments of concat except for the argument 'objs' will be keyword-only.\n",
      "  return pd.concat(dfs, self._concat_axis)\n"
     ]
    }
   ],
   "source": [
    "dfr = pdr.get_data_tiingo('AAPL', api_key='f35bc692cf4d1c78d664ebc8e48c11455e81bd97')"
   ]
  },
  {
   "cell_type": "code",
   "execution_count": 8,
   "id": "2d398ca6-a6f5-401a-bcb4-e9c4436f22ee",
   "metadata": {},
   "outputs": [],
   "source": [
    "dfr.to_csv('AAPL.csv')"
   ]
  },
  {
   "cell_type": "code",
   "execution_count": 9,
   "id": "54f2eac2-bc4b-41be-8c11-ecb3ab2043da",
   "metadata": {},
   "outputs": [
    {
     "name": "stderr",
     "output_type": "stream",
     "text": [
      "C:\\ProgramData\\Anaconda3\\envs\\jlab_server\\lib\\site-packages\\pandas_datareader\\tiingo.py:234: FutureWarning: In a future version of pandas all arguments of concat except for the argument 'objs' will be keyword-only.\n",
      "  return pd.concat(dfs, self._concat_axis)\n"
     ]
    }
   ],
   "source": [
    "dfr = pdr.get_data_tiingo('GOOG', api_key='f35bc692cf4d1c78d664ebc8e48c11455e81bd97')"
   ]
  },
  {
   "cell_type": "code",
   "execution_count": 10,
   "id": "d1a8964b-ef41-4f7d-b85b-79a1f8cbb19f",
   "metadata": {},
   "outputs": [],
   "source": [
    "dfr.to_csv('GOOG.csv')"
   ]
  },
  {
   "cell_type": "code",
   "execution_count": 11,
   "id": "0eb16d29-195e-4026-952c-a6a910eac5b9",
   "metadata": {},
   "outputs": [],
   "source": [
    "import pandas as pd"
   ]
  },
  {
   "cell_type": "code",
   "execution_count": 24,
   "id": "e05e4930-0672-4708-a57a-796bae7ef4c6",
   "metadata": {},
   "outputs": [],
   "source": [
    "df = pd.read_csv('AAPL.csv')"
   ]
  },
  {
   "cell_type": "code",
   "execution_count": 25,
   "id": "63644298-1d5c-4cdd-8af7-d53494df4cac",
   "metadata": {},
   "outputs": [
    {
     "data": {
      "text/html": [
       "<div>\n",
       "<style scoped>\n",
       "    .dataframe tbody tr th:only-of-type {\n",
       "        vertical-align: middle;\n",
       "    }\n",
       "\n",
       "    .dataframe tbody tr th {\n",
       "        vertical-align: top;\n",
       "    }\n",
       "\n",
       "    .dataframe thead th {\n",
       "        text-align: right;\n",
       "    }\n",
       "</style>\n",
       "<table border=\"1\" class=\"dataframe\">\n",
       "  <thead>\n",
       "    <tr style=\"text-align: right;\">\n",
       "      <th></th>\n",
       "      <th>symbol</th>\n",
       "      <th>date</th>\n",
       "      <th>close</th>\n",
       "      <th>high</th>\n",
       "      <th>low</th>\n",
       "      <th>open</th>\n",
       "      <th>volume</th>\n",
       "      <th>adjClose</th>\n",
       "      <th>adjHigh</th>\n",
       "      <th>adjLow</th>\n",
       "      <th>adjOpen</th>\n",
       "      <th>adjVolume</th>\n",
       "      <th>divCash</th>\n",
       "      <th>splitFactor</th>\n",
       "    </tr>\n",
       "  </thead>\n",
       "  <tbody>\n",
       "    <tr>\n",
       "      <th>0</th>\n",
       "      <td>AAPL</td>\n",
       "      <td>2017-03-20 00:00:00+00:00</td>\n",
       "      <td>141.46</td>\n",
       "      <td>141.5000</td>\n",
       "      <td>140.23</td>\n",
       "      <td>140.400</td>\n",
       "      <td>21542038</td>\n",
       "      <td>33.385101</td>\n",
       "      <td>33.394541</td>\n",
       "      <td>33.094817</td>\n",
       "      <td>33.134937</td>\n",
       "      <td>86168152</td>\n",
       "      <td>0.0</td>\n",
       "      <td>1.0</td>\n",
       "    </tr>\n",
       "    <tr>\n",
       "      <th>1</th>\n",
       "      <td>AAPL</td>\n",
       "      <td>2017-03-21 00:00:00+00:00</td>\n",
       "      <td>139.84</td>\n",
       "      <td>142.8000</td>\n",
       "      <td>139.73</td>\n",
       "      <td>142.110</td>\n",
       "      <td>39529912</td>\n",
       "      <td>33.002775</td>\n",
       "      <td>33.701346</td>\n",
       "      <td>32.976815</td>\n",
       "      <td>33.538504</td>\n",
       "      <td>158119648</td>\n",
       "      <td>0.0</td>\n",
       "      <td>1.0</td>\n",
       "    </tr>\n",
       "    <tr>\n",
       "      <th>2</th>\n",
       "      <td>AAPL</td>\n",
       "      <td>2017-03-22 00:00:00+00:00</td>\n",
       "      <td>141.42</td>\n",
       "      <td>141.6000</td>\n",
       "      <td>139.76</td>\n",
       "      <td>139.845</td>\n",
       "      <td>25860165</td>\n",
       "      <td>33.375661</td>\n",
       "      <td>33.418142</td>\n",
       "      <td>32.983895</td>\n",
       "      <td>33.003955</td>\n",
       "      <td>103440660</td>\n",
       "      <td>0.0</td>\n",
       "      <td>1.0</td>\n",
       "    </tr>\n",
       "    <tr>\n",
       "      <th>3</th>\n",
       "      <td>AAPL</td>\n",
       "      <td>2017-03-23 00:00:00+00:00</td>\n",
       "      <td>140.92</td>\n",
       "      <td>141.5844</td>\n",
       "      <td>140.61</td>\n",
       "      <td>141.260</td>\n",
       "      <td>20346301</td>\n",
       "      <td>33.257659</td>\n",
       "      <td>33.414460</td>\n",
       "      <td>33.184498</td>\n",
       "      <td>33.337900</td>\n",
       "      <td>81385204</td>\n",
       "      <td>0.0</td>\n",
       "      <td>1.0</td>\n",
       "    </tr>\n",
       "    <tr>\n",
       "      <th>4</th>\n",
       "      <td>AAPL</td>\n",
       "      <td>2017-03-24 00:00:00+00:00</td>\n",
       "      <td>140.64</td>\n",
       "      <td>141.7400</td>\n",
       "      <td>140.35</td>\n",
       "      <td>141.500</td>\n",
       "      <td>22395563</td>\n",
       "      <td>33.191578</td>\n",
       "      <td>33.451182</td>\n",
       "      <td>33.123137</td>\n",
       "      <td>33.394541</td>\n",
       "      <td>89582252</td>\n",
       "      <td>0.0</td>\n",
       "      <td>1.0</td>\n",
       "    </tr>\n",
       "  </tbody>\n",
       "</table>\n",
       "</div>"
      ],
      "text/plain": [
       "  symbol                       date   close      high     low     open  \\\n",
       "0   AAPL  2017-03-20 00:00:00+00:00  141.46  141.5000  140.23  140.400   \n",
       "1   AAPL  2017-03-21 00:00:00+00:00  139.84  142.8000  139.73  142.110   \n",
       "2   AAPL  2017-03-22 00:00:00+00:00  141.42  141.6000  139.76  139.845   \n",
       "3   AAPL  2017-03-23 00:00:00+00:00  140.92  141.5844  140.61  141.260   \n",
       "4   AAPL  2017-03-24 00:00:00+00:00  140.64  141.7400  140.35  141.500   \n",
       "\n",
       "     volume   adjClose    adjHigh     adjLow    adjOpen  adjVolume  divCash  \\\n",
       "0  21542038  33.385101  33.394541  33.094817  33.134937   86168152      0.0   \n",
       "1  39529912  33.002775  33.701346  32.976815  33.538504  158119648      0.0   \n",
       "2  25860165  33.375661  33.418142  32.983895  33.003955  103440660      0.0   \n",
       "3  20346301  33.257659  33.414460  33.184498  33.337900   81385204      0.0   \n",
       "4  22395563  33.191578  33.451182  33.123137  33.394541   89582252      0.0   \n",
       "\n",
       "   splitFactor  \n",
       "0          1.0  \n",
       "1          1.0  \n",
       "2          1.0  \n",
       "3          1.0  \n",
       "4          1.0  "
      ]
     },
     "execution_count": 25,
     "metadata": {},
     "output_type": "execute_result"
    }
   ],
   "source": [
    "df.head()"
   ]
  },
  {
   "cell_type": "code",
   "execution_count": 26,
   "id": "f0945042-082d-4649-a3a7-34a52500a6a1",
   "metadata": {},
   "outputs": [
    {
     "data": {
      "text/plain": [
       "(1259, 14)"
      ]
     },
     "execution_count": 26,
     "metadata": {},
     "output_type": "execute_result"
    }
   ],
   "source": [
    "df.shape"
   ]
  },
  {
   "cell_type": "code",
   "execution_count": 27,
   "id": "bb3c4157-c353-4223-978f-835393906887",
   "metadata": {},
   "outputs": [],
   "source": [
    "df1 = df.reset_index()['close']"
   ]
  },
  {
   "cell_type": "code",
   "execution_count": 33,
   "id": "3de5016d-a228-48dc-8bda-95422b19940b",
   "metadata": {},
   "outputs": [
    {
     "data": {
      "text/plain": [
       "0       141.46\n",
       "1       139.84\n",
       "2       141.42\n",
       "3       140.92\n",
       "4       140.64\n",
       "         ...  \n",
       "1254    154.73\n",
       "1255    150.62\n",
       "1256    155.09\n",
       "1257    159.59\n",
       "1258    160.62\n",
       "Name: close, Length: 1259, dtype: float64"
      ]
     },
     "execution_count": 33,
     "metadata": {},
     "output_type": "execute_result"
    }
   ],
   "source": [
    "df1"
   ]
  },
  {
   "cell_type": "code",
   "execution_count": 29,
   "id": "8f36176a-1268-4590-adad-abb096677089",
   "metadata": {},
   "outputs": [
    {
     "data": {
      "text/plain": [
       "(1259,)"
      ]
     },
     "execution_count": 29,
     "metadata": {},
     "output_type": "execute_result"
    }
   ],
   "source": [
    "df1.shape"
   ]
  },
  {
   "cell_type": "code",
   "execution_count": 30,
   "id": "f79c5c16-9315-43a2-8da8-1b8aae575ca7",
   "metadata": {},
   "outputs": [],
   "source": [
    "import matplotlib.pyplot as plt"
   ]
  },
  {
   "cell_type": "code",
   "execution_count": 31,
   "id": "b737a15b-61ed-4a7b-aecb-844de5e8a696",
   "metadata": {},
   "outputs": [
    {
     "data": {
      "text/plain": [
       "[<matplotlib.lines.Line2D at 0x16e4f42d610>]"
      ]
     },
     "execution_count": 31,
     "metadata": {},
     "output_type": "execute_result"
    },
    {
     "data": {
      "image/png": "[encoded data removed]",
      "text/plain": [
       "<Figure size 432x288 with 1 Axes>"
      ]
     },
     "metadata": {
      "needs_background": "light"
     },
     "output_type": "display_data"
    }
   ],
   "source": [
    "plt.plot(df1)"
   ]
  },
  {
   "cell_type": "code",
   "execution_count": 32,
   "id": "d2fa00e3-951e-4ebb-9a86-2b3103dd41ae",
   "metadata": {},
   "outputs": [],
   "source": [
    "import numpy as np"
   ]
  },
  {
   "cell_type": "code",
   "execution_count": 34,
   "id": "70bf982f-6366-4738-b733-8de5d38b9bf1",
   "metadata": {},
   "outputs": [],
   "source": [
    "from sklearn.preprocessing import MinMaxScaler\n",
    "scaler = MinMaxScaler(feature_range=(0,1))\n",
    "df1 = scaler.fit_transform(np.array(df1).reshape(-1,1))"
   ]
  },
  {
   "cell_type": "code",
   "execution_count": 36,
   "id": "3593df41-b4f4-4a5e-b6c9-a1fd24f5049d",
   "metadata": {},
   "outputs": [
    {
     "name": "stdout",
     "output_type": "stream",
     "text": [
      "[[0.08671259]\n",
      " [0.08265498]\n",
      " [0.0866124 ]\n",
      " ...\n",
      " [0.1208516 ]\n",
      " [0.13212273]\n",
      " [0.13470257]]\n"
     ]
    }
   ],
   "source": [
    "print(df1)"
   ]
  },
  {
   "cell_type": "code",
   "execution_count": null,
   "id": "14cbed63-4af6-46a0-aa10-9a998af0df19",
   "metadata": {},
   "outputs": [],
   "source": []
  }
 ],
 "metadata": {
  "kernelspec": {
   "display_name": "Python 3 (ipykernel)",
   "language": "python",
   "name": "python3"
  },
  "language_info": {
   "codemirror_mode": {
    "name": "ipython",
    "version": 3
   },
   "file_extension": ".py",
   "mimetype": "text/x-python",
   "name": "python",
   "nbconvert_exporter": "python",
   "pygments_lexer": "ipython3",
   "version": "3.9.7"
  }
 },
 "nbformat": 4,
 "nbformat_minor": 5
}
