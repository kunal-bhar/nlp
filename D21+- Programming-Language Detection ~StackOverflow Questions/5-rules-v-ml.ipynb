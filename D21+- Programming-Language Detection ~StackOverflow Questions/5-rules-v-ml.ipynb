{
 "cells": [
  {
   "cell_type": "code",
   "execution_count": 1,
   "id": "86cab037-4ab2-4e42-a571-c2282a5adcb7",
   "metadata": {},
   "outputs": [],
   "source": [
    "#rules v machine learning"
   ]
  },
  {
   "cell_type": "code",
   "execution_count": null,
   "id": "814df2f2-f0b4-400e-b35a-72190e1ae0d2",
   "metadata": {},
   "outputs": [],
   "source": []
  }
 ],
 "metadata": {
  "kernelspec": {
   "display_name": "Python 3 (ipykernel)",
   "language": "python",
   "name": "python3"
  },
  "language_info": {
   "codemirror_mode": {
    "name": "ipython",
    "version": 3
   },
   "file_extension": ".py",
   "mimetype": "text/x-python",
   "name": "python",
   "nbconvert_exporter": "python",
   "pygments_lexer": "ipython3",
   "version": "3.9.7"
  }
 },
 "nbformat": 4,
 "nbformat_minor": 5
}
