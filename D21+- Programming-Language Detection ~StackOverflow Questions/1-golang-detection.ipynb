{
 "cells": [
  {
   "cell_type": "markdown",
   "id": "7a0d8afb-3cc5-423e-95c9-1d6b1ab0aefe",
   "metadata": {},
   "source": [
    "### Dataset Initialization\n",
    "https://www.kaggle.com/datasets/stackoverflow/stacksample"
   ]
  },
  {
   "cell_type": "code",
   "execution_count": 1,
   "id": "8d6dd65a-ebc5-455e-8a0e-fcc41f43363e",
   "metadata": {},
   "outputs": [],
   "source": [
    "import pandas as pd\n",
    "\n",
    "df = (pd.read_csv('Questions.csv', nrows=1_000_000, usecols=['Title', 'Id'], encoding='ISO-8859-1'))\n",
    "titles = [_ for _ in df['Title']]"
   ]
  },
  {
   "cell_type": "code",
   "execution_count": 2,
   "id": "c7224c60-dcb1-4d38-b93a-36237eb44f2d",
   "metadata": {},
   "outputs": [
    {
     "name": "stdout",
     "output_type": "stream",
     "text": [
      "<class 'pandas.core.frame.DataFrame'>\n",
      "RangeIndex: 1000000 entries, 0 to 999999\n",
      "Data columns (total 2 columns):\n",
      " #   Column  Non-Null Count    Dtype \n",
      "---  ------  --------------    ----- \n",
      " 0   Id      1000000 non-null  int64 \n",
      " 1   Title   1000000 non-null  object\n",
      "dtypes: int64(1), object(1)\n",
      "memory usage: 15.3+ MB\n"
     ]
    }
   ],
   "source": [
    "df.info()"
   ]
  },
  {
   "cell_type": "code",
   "execution_count": 3,
   "id": "53cc22e2-63f2-408c-92c5-8c4ddd43268e",
   "metadata": {},
   "outputs": [
    {
     "data": {
      "text/plain": [
       "['Call a click on a newly added dom element',\n",
       " 'some confusion about kendo grid databind',\n",
       " 'display Jquery GIF onload Jquery Tabs',\n",
       " 'Port Chrome Extension to Firefox, Safari, IE',\n",
       " 'Uploading A SQL Server Script?',\n",
       " 'adding a tab character in swift',\n",
       " '^M in the diff using svn',\n",
       " 'Can I open an HTML file in Ace Editor?',\n",
       " 'Cast value type to generic',\n",
       " 'What do triple curly braces indicate?',\n",
       " \"Can't get javascript to run onsubmit\",\n",
       " 'Wordpress - Dynamic \"static\" permalink based on permalink taxonomy',\n",
       " 'Can depth peeling be implemented without any shader?',\n",
       " 'count(*) Does not return 0 when using group by in MySQL',\n",
       " 'How to call action on onclick-javascript in ruby on rails',\n",
       " 'How to translate Xcode 3 properties to Xcode 4',\n",
       " 'Java-JFXpanel refresh page cause JVMã\\x80\\x80crash -- Threading issue',\n",
       " \"Can't seem to figure out why the InnerHTML statements are not working\",\n",
       " 'How I can validate only some validation groups based on some fields in the form itself in Symfony2',\n",
       " 'Drawable vs Single reusable Bitmap better with memory?']"
      ]
     },
     "execution_count": 3,
     "metadata": {},
     "output_type": "execute_result"
    }
   ],
   "source": [
    "import random\n",
    "random.choices(titles, k=20)"
   ]
  },
  {
   "cell_type": "markdown",
   "id": "03a86f62-181a-4458-97af-5b7c9d60df1d",
   "metadata": {},
   "source": [
    "### Primitive function to return 'go' "
   ]
  },
  {
   "cell_type": "code",
   "execution_count": 4,
   "id": "a6e188b5-542c-4ea8-8f2e-8b666355c142",
   "metadata": {},
   "outputs": [
    {
     "data": {
      "text/plain": [
       "['My website got hacked... What should I do?',\n",
       " \"DVCS Choices - What's good for Windows?\"]"
      ]
     },
     "execution_count": 4,
     "metadata": {},
     "output_type": "execute_result"
    }
   ],
   "source": [
    "def has_golang(text):\n",
    "    return 'go' in text # basic string-matching ~ unsatisfactory output\n",
    "\n",
    "g = (title for title in titles if has_golang(title))\n",
    "[next(g) for i in range(2)] "
   ]
  },
  {
   "cell_type": "code",
   "execution_count": 35,
   "id": "6f5efb92-7abf-445e-bdfb-2d93386f8994",
   "metadata": {},
   "outputs": [],
   "source": [
    "import spacy\n",
    "\n",
    "#!python -m spacy download en_core_web_sm\n",
    "nlp = spacy.load('en_core_web_sm')"
   ]
  },
  {
   "cell_type": "markdown",
   "id": "9fdad49b-8a3a-4cd1-9a67-66d46edbd66b",
   "metadata": {},
   "source": [
    "### spaCy's English model object/doc can be looped through and comprises of individual tokens "
   ]
  },
  {
   "cell_type": "code",
   "execution_count": 36,
   "id": "ed69bb14-63e6-4e0b-ac15-fa80a04f13d9",
   "metadata": {},
   "outputs": [
    {
     "data": {
      "text/plain": [
       "[Go, is, a, both, a, verb, and, a, programming, language, .]"
      ]
     },
     "execution_count": 36,
     "metadata": {},
     "output_type": "execute_result"
    }
   ],
   "source": [
    "[t for t in nlp('Go is a both a verb and a programming language.')]"
   ]
  },
  {
   "cell_type": "code",
   "execution_count": 37,
   "id": "dcbf0fb1-8e2d-439c-81d7-c4247a19b1c4",
   "metadata": {},
   "outputs": [
    {
     "data": {
      "text/plain": [
       "spacy.tokens.token.Token"
      ]
     },
     "execution_count": 37,
     "metadata": {},
     "output_type": "execute_result"
    }
   ],
   "source": [
    "doc = nlp('Go is a both a verb and a programming language.')\n",
    "t =doc[0]\n",
    "type(t)"
   ]
  },
  {
   "cell_type": "markdown",
   "id": "4f32c061-3257-4ad7-950f-f81c5ec00778",
   "metadata": {},
   "source": [
    "### Doc relationships x dependencies using displaCy"
   ]
  },
  {
   "cell_type": "code",
   "execution_count": 38,
   "id": "01ef1785-988d-4ded-bb25-7aaf8931e213",
   "metadata": {},
   "outputs": [
    {
     "data": {
      "text/html": [
       "<span class=\"tex2jax_ignore\"><svg xmlns=\"http://www.w3.org/2000/svg\" xmlns:xlink=\"http://www.w3.org/1999/xlink\" xml:lang=\"en\" id=\"5b378726a18143f3a02fc916ed1f9418-0\" class=\"displacy\" width=\"1800\" height=\"487.0\" direction=\"ltr\" style=\"max-width: none; height: 487.0px; color: #000000; background: #ffffff; font-family: Arial; direction: ltr\">\n",
       "<text class=\"displacy-token\" fill=\"currentColor\" text-anchor=\"middle\" y=\"397.0\">\n",
       "    <tspan class=\"displacy-word\" fill=\"currentColor\" x=\"50\">Go</tspan>\n",
       "    <tspan class=\"displacy-tag\" dy=\"2em\" fill=\"currentColor\" x=\"50\">VERB</tspan>\n",
       "</text>\n",
       "\n",
       "<text class=\"displacy-token\" fill=\"currentColor\" text-anchor=\"middle\" y=\"397.0\">\n",
       "    <tspan class=\"displacy-word\" fill=\"currentColor\" x=\"225\">is</tspan>\n",
       "    <tspan class=\"displacy-tag\" dy=\"2em\" fill=\"currentColor\" x=\"225\">AUX</tspan>\n",
       "</text>\n",
       "\n",
       "<text class=\"displacy-token\" fill=\"currentColor\" text-anchor=\"middle\" y=\"397.0\">\n",
       "    <tspan class=\"displacy-word\" fill=\"currentColor\" x=\"400\">a</tspan>\n",
       "    <tspan class=\"displacy-tag\" dy=\"2em\" fill=\"currentColor\" x=\"400\">DET</tspan>\n",
       "</text>\n",
       "\n",
       "<text class=\"displacy-token\" fill=\"currentColor\" text-anchor=\"middle\" y=\"397.0\">\n",
       "    <tspan class=\"displacy-word\" fill=\"currentColor\" x=\"575\">both</tspan>\n",
       "    <tspan class=\"displacy-tag\" dy=\"2em\" fill=\"currentColor\" x=\"575\">CCONJ</tspan>\n",
       "</text>\n",
       "\n",
       "<text class=\"displacy-token\" fill=\"currentColor\" text-anchor=\"middle\" y=\"397.0\">\n",
       "    <tspan class=\"displacy-word\" fill=\"currentColor\" x=\"750\">a</tspan>\n",
       "    <tspan class=\"displacy-tag\" dy=\"2em\" fill=\"currentColor\" x=\"750\">DET</tspan>\n",
       "</text>\n",
       "\n",
       "<text class=\"displacy-token\" fill=\"currentColor\" text-anchor=\"middle\" y=\"397.0\">\n",
       "    <tspan class=\"displacy-word\" fill=\"currentColor\" x=\"925\">verb</tspan>\n",
       "    <tspan class=\"displacy-tag\" dy=\"2em\" fill=\"currentColor\" x=\"925\">NOUN</tspan>\n",
       "</text>\n",
       "\n",
       "<text class=\"displacy-token\" fill=\"currentColor\" text-anchor=\"middle\" y=\"397.0\">\n",
       "    <tspan class=\"displacy-word\" fill=\"currentColor\" x=\"1100\">and</tspan>\n",
       "    <tspan class=\"displacy-tag\" dy=\"2em\" fill=\"currentColor\" x=\"1100\">CCONJ</tspan>\n",
       "</text>\n",
       "\n",
       "<text class=\"displacy-token\" fill=\"currentColor\" text-anchor=\"middle\" y=\"397.0\">\n",
       "    <tspan class=\"displacy-word\" fill=\"currentColor\" x=\"1275\">a</tspan>\n",
       "    <tspan class=\"displacy-tag\" dy=\"2em\" fill=\"currentColor\" x=\"1275\">DET</tspan>\n",
       "</text>\n",
       "\n",
       "<text class=\"displacy-token\" fill=\"currentColor\" text-anchor=\"middle\" y=\"397.0\">\n",
       "    <tspan class=\"displacy-word\" fill=\"currentColor\" x=\"1450\">programming</tspan>\n",
       "    <tspan class=\"displacy-tag\" dy=\"2em\" fill=\"currentColor\" x=\"1450\">NOUN</tspan>\n",
       "</text>\n",
       "\n",
       "<text class=\"displacy-token\" fill=\"currentColor\" text-anchor=\"middle\" y=\"397.0\">\n",
       "    <tspan class=\"displacy-word\" fill=\"currentColor\" x=\"1625\">language.</tspan>\n",
       "    <tspan class=\"displacy-tag\" dy=\"2em\" fill=\"currentColor\" x=\"1625\">NOUN</tspan>\n",
       "</text>\n",
       "\n",
       "<g class=\"displacy-arrow\">\n",
       "    <path class=\"displacy-arc\" id=\"arrow-5b378726a18143f3a02fc916ed1f9418-0-0\" stroke-width=\"2px\" d=\"M70,352.0 C70,264.5 210.0,264.5 210.0,352.0\" fill=\"none\" stroke=\"currentColor\"/>\n",
       "    <text dy=\"1.25em\" style=\"font-size: 0.8em; letter-spacing: 1px\">\n",
       "        <textPath xlink:href=\"#arrow-5b378726a18143f3a02fc916ed1f9418-0-0\" class=\"displacy-label\" startOffset=\"50%\" side=\"left\" fill=\"currentColor\" text-anchor=\"middle\">csubj</textPath>\n",
       "    </text>\n",
       "    <path class=\"displacy-arrowhead\" d=\"M70,354.0 L62,342.0 78,342.0\" fill=\"currentColor\"/>\n",
       "</g>\n",
       "\n",
       "<g class=\"displacy-arrow\">\n",
       "    <path class=\"displacy-arc\" id=\"arrow-5b378726a18143f3a02fc916ed1f9418-0-1\" stroke-width=\"2px\" d=\"M420,352.0 C420,89.5 920.0,89.5 920.0,352.0\" fill=\"none\" stroke=\"currentColor\"/>\n",
       "    <text dy=\"1.25em\" style=\"font-size: 0.8em; letter-spacing: 1px\">\n",
       "        <textPath xlink:href=\"#arrow-5b378726a18143f3a02fc916ed1f9418-0-1\" class=\"displacy-label\" startOffset=\"50%\" side=\"left\" fill=\"currentColor\" text-anchor=\"middle\">det</textPath>\n",
       "    </text>\n",
       "    <path class=\"displacy-arrowhead\" d=\"M420,354.0 L412,342.0 428,342.0\" fill=\"currentColor\"/>\n",
       "</g>\n",
       "\n",
       "<g class=\"displacy-arrow\">\n",
       "    <path class=\"displacy-arc\" id=\"arrow-5b378726a18143f3a02fc916ed1f9418-0-2\" stroke-width=\"2px\" d=\"M595,352.0 C595,177.0 915.0,177.0 915.0,352.0\" fill=\"none\" stroke=\"currentColor\"/>\n",
       "    <text dy=\"1.25em\" style=\"font-size: 0.8em; letter-spacing: 1px\">\n",
       "        <textPath xlink:href=\"#arrow-5b378726a18143f3a02fc916ed1f9418-0-2\" class=\"displacy-label\" startOffset=\"50%\" side=\"left\" fill=\"currentColor\" text-anchor=\"middle\">preconj</textPath>\n",
       "    </text>\n",
       "    <path class=\"displacy-arrowhead\" d=\"M595,354.0 L587,342.0 603,342.0\" fill=\"currentColor\"/>\n",
       "</g>\n",
       "\n",
       "<g class=\"displacy-arrow\">\n",
       "    <path class=\"displacy-arc\" id=\"arrow-5b378726a18143f3a02fc916ed1f9418-0-3\" stroke-width=\"2px\" d=\"M770,352.0 C770,264.5 910.0,264.5 910.0,352.0\" fill=\"none\" stroke=\"currentColor\"/>\n",
       "    <text dy=\"1.25em\" style=\"font-size: 0.8em; letter-spacing: 1px\">\n",
       "        <textPath xlink:href=\"#arrow-5b378726a18143f3a02fc916ed1f9418-0-3\" class=\"displacy-label\" startOffset=\"50%\" side=\"left\" fill=\"currentColor\" text-anchor=\"middle\">det</textPath>\n",
       "    </text>\n",
       "    <path class=\"displacy-arrowhead\" d=\"M770,354.0 L762,342.0 778,342.0\" fill=\"currentColor\"/>\n",
       "</g>\n",
       "\n",
       "<g class=\"displacy-arrow\">\n",
       "    <path class=\"displacy-arc\" id=\"arrow-5b378726a18143f3a02fc916ed1f9418-0-4\" stroke-width=\"2px\" d=\"M245,352.0 C245,2.0 925.0,2.0 925.0,352.0\" fill=\"none\" stroke=\"currentColor\"/>\n",
       "    <text dy=\"1.25em\" style=\"font-size: 0.8em; letter-spacing: 1px\">\n",
       "        <textPath xlink:href=\"#arrow-5b378726a18143f3a02fc916ed1f9418-0-4\" class=\"displacy-label\" startOffset=\"50%\" side=\"left\" fill=\"currentColor\" text-anchor=\"middle\">attr</textPath>\n",
       "    </text>\n",
       "    <path class=\"displacy-arrowhead\" d=\"M925.0,354.0 L933.0,342.0 917.0,342.0\" fill=\"currentColor\"/>\n",
       "</g>\n",
       "\n",
       "<g class=\"displacy-arrow\">\n",
       "    <path class=\"displacy-arc\" id=\"arrow-5b378726a18143f3a02fc916ed1f9418-0-5\" stroke-width=\"2px\" d=\"M945,352.0 C945,264.5 1085.0,264.5 1085.0,352.0\" fill=\"none\" stroke=\"currentColor\"/>\n",
       "    <text dy=\"1.25em\" style=\"font-size: 0.8em; letter-spacing: 1px\">\n",
       "        <textPath xlink:href=\"#arrow-5b378726a18143f3a02fc916ed1f9418-0-5\" class=\"displacy-label\" startOffset=\"50%\" side=\"left\" fill=\"currentColor\" text-anchor=\"middle\">cc</textPath>\n",
       "    </text>\n",
       "    <path class=\"displacy-arrowhead\" d=\"M1085.0,354.0 L1093.0,342.0 1077.0,342.0\" fill=\"currentColor\"/>\n",
       "</g>\n",
       "\n",
       "<g class=\"displacy-arrow\">\n",
       "    <path class=\"displacy-arc\" id=\"arrow-5b378726a18143f3a02fc916ed1f9418-0-6\" stroke-width=\"2px\" d=\"M1295,352.0 C1295,177.0 1615.0,177.0 1615.0,352.0\" fill=\"none\" stroke=\"currentColor\"/>\n",
       "    <text dy=\"1.25em\" style=\"font-size: 0.8em; letter-spacing: 1px\">\n",
       "        <textPath xlink:href=\"#arrow-5b378726a18143f3a02fc916ed1f9418-0-6\" class=\"displacy-label\" startOffset=\"50%\" side=\"left\" fill=\"currentColor\" text-anchor=\"middle\">det</textPath>\n",
       "    </text>\n",
       "    <path class=\"displacy-arrowhead\" d=\"M1295,354.0 L1287,342.0 1303,342.0\" fill=\"currentColor\"/>\n",
       "</g>\n",
       "\n",
       "<g class=\"displacy-arrow\">\n",
       "    <path class=\"displacy-arc\" id=\"arrow-5b378726a18143f3a02fc916ed1f9418-0-7\" stroke-width=\"2px\" d=\"M1470,352.0 C1470,264.5 1610.0,264.5 1610.0,352.0\" fill=\"none\" stroke=\"currentColor\"/>\n",
       "    <text dy=\"1.25em\" style=\"font-size: 0.8em; letter-spacing: 1px\">\n",
       "        <textPath xlink:href=\"#arrow-5b378726a18143f3a02fc916ed1f9418-0-7\" class=\"displacy-label\" startOffset=\"50%\" side=\"left\" fill=\"currentColor\" text-anchor=\"middle\">amod</textPath>\n",
       "    </text>\n",
       "    <path class=\"displacy-arrowhead\" d=\"M1470,354.0 L1462,342.0 1478,342.0\" fill=\"currentColor\"/>\n",
       "</g>\n",
       "\n",
       "<g class=\"displacy-arrow\">\n",
       "    <path class=\"displacy-arc\" id=\"arrow-5b378726a18143f3a02fc916ed1f9418-0-8\" stroke-width=\"2px\" d=\"M945,352.0 C945,2.0 1625.0,2.0 1625.0,352.0\" fill=\"none\" stroke=\"currentColor\"/>\n",
       "    <text dy=\"1.25em\" style=\"font-size: 0.8em; letter-spacing: 1px\">\n",
       "        <textPath xlink:href=\"#arrow-5b378726a18143f3a02fc916ed1f9418-0-8\" class=\"displacy-label\" startOffset=\"50%\" side=\"left\" fill=\"currentColor\" text-anchor=\"middle\">conj</textPath>\n",
       "    </text>\n",
       "    <path class=\"displacy-arrowhead\" d=\"M1625.0,354.0 L1633.0,342.0 1617.0,342.0\" fill=\"currentColor\"/>\n",
       "</g>\n",
       "</svg></span>"
      ],
      "text/plain": [
       "<IPython.core.display.HTML object>"
      ]
     },
     "metadata": {},
     "output_type": "display_data"
    }
   ],
   "source": [
    "from spacy import displacy\n",
    "displacy.render(doc) # token-relationships"
   ]
  },
  {
   "cell_type": "code",
   "execution_count": 39,
   "id": "0e00c35d-8adc-46ad-942f-63d8dd04ac64",
   "metadata": {},
   "outputs": [
    {
     "data": {
      "text/plain": [
       "'determiner'"
      ]
     },
     "execution_count": 39,
     "metadata": {},
     "output_type": "execute_result"
    }
   ],
   "source": [
    "spacy.explain('det')"
   ]
  },
  {
   "cell_type": "code",
   "execution_count": 40,
   "id": "05a4a53c-62a4-486e-b103-4216f430ec59",
   "metadata": {},
   "outputs": [
    {
     "name": "stdout",
     "output_type": "stream",
     "text": [
      "Go VERB csubj\n",
      "is AUX ROOT\n",
      "a DET det\n",
      "both CCONJ preconj\n",
      "a DET det\n",
      "verb NOUN attr\n",
      "and CCONJ cc\n",
      "a DET det\n",
      "programming NOUN amod\n",
      "language NOUN conj\n",
      ". PUNCT punct\n"
     ]
    }
   ],
   "source": [
    "for t in doc:\n",
    "    print(t, t.pos_, t.dep_) # pos = part of speech, dep = dependency"
   ]
  },
  {
   "cell_type": "markdown",
   "id": "ce53987f-6dab-4605-bdfc-70a0f20875d8",
   "metadata": {
    "tags": []
   },
   "source": [
    "### Collecting data: Ideally, we need questions that contain 'go' in the Question Title and also have a Tag ID = 'go'"
   ]
  },
  {
   "cell_type": "code",
   "execution_count": 41,
   "id": "9ed16939-6fbc-474c-b365-87975125108a",
   "metadata": {},
   "outputs": [],
   "source": [
    "df = (pd.read_csv('Questions.csv', nrows=2_000_000, usecols=['Title', 'Id'], encoding='ISO-8859-1'))\n",
    "\n",
    "titles = [_ for _ in df.loc[lambda d: d['Title'].str.lower().str.contains('go')]['Title']]"
   ]
  },
  {
   "cell_type": "code",
   "execution_count": 42,
   "id": "f31cca58-736e-480c-8608-80eeae6c5622",
   "metadata": {},
   "outputs": [
    {
     "data": {
      "text/plain": [
       "['Trying to understand/get working a k-means clustering algorithem in MySQL',\n",
       " 'Google Cloud:- Not able to access Visual SVN via https',\n",
       " 'How can I use a \"For\" loop to map multiple polygons with the leaflet within shiny in R?',\n",
       " 'Remove marker from Google Maps API V3',\n",
       " 'Config Mongodb in Cakephp 2.8.5',\n",
       " 'Can a single Meteor instance listen and react to multiple MongoDB databases?',\n",
       " 'Going from Scrum to Kanban near \"release\"']"
      ]
     },
     "execution_count": 42,
     "metadata": {},
     "output_type": "execute_result"
    }
   ],
   "source": [
    "random.choices(titles, k=7)"
   ]
  },
  {
   "cell_type": "code",
   "execution_count": 43,
   "id": "bcbcbaf3-75ed-43a9-8b20-267ce25de19f",
   "metadata": {},
   "outputs": [],
   "source": [
    "nlp = spacy.load('en_core_web_sm', disable=['ner'])"
   ]
  },
  {
   "cell_type": "code",
   "execution_count": 45,
   "id": "e292c8a9-443f-4aba-a396-25a5e3bfba8a",
   "metadata": {},
   "outputs": [
    {
     "name": "stdout",
     "output_type": "stream",
     "text": [
      "Wall time: 7.03 s\n"
     ]
    },
    {
     "data": {
      "text/plain": [
       "[Deploying multiple Java web apps to Glassfish in one go,\n",
       " Removing all event handlers in one go,\n",
       " Paypal integration to serve multiple sellers in one go for a shopping site,\n",
       " How do I disable multiple listboxes in one go using jQuery?,\n",
       " multi package makefile example for go,\n",
       " Google's 'go' and scope/functions,\n",
       " Where is App.config go after publishing?,\n",
       " SOAPUI & Groovy Scripts, executing multiple SQL statements in one go,\n",
       " What's the simplest way to edit conflicted files in one go when using git and an editor like Vim or textmate?,\n",
       " Import large chunk of data into Google App Engine Data Store at one go,\n",
       " Saving all nested form objects in one go,\n",
       " what's the state of go language IDE support?,\n",
       " Decrypt many PDFs in one go using pdftk,\n",
       " How do I allocate memory for an array in the go programming language?,\n",
       " Is message passing via channels in go guaranteed to be non-blocking?]"
      ]
     },
     "execution_count": 45,
     "metadata": {},
     "output_type": "execute_result"
    }
   ],
   "source": [
    "%%time\n",
    "\n",
    "def has_golang(doc):\n",
    "    for t in doc:\n",
    "        if t.lower_ in ['go', 'golang']:\n",
    "            if t.pos_ == 'NOUN':\n",
    "                return True \n",
    "    return False\n",
    "# Collecting data that has 'go'/'golang' where pos = Noun\n",
    "\n",
    "g = (doc for doc in nlp.pipe(titles) if has_golang(doc)) # nlp.pipe() added to optimize; takes doc as input instead of tokens\n",
    "[next(g) for i in range(15)] "
   ]
  },
  {
   "cell_type": "code",
   "execution_count": 46,
   "id": "fe116e6f-0e0b-4fe1-b79f-3a5fa4e992d0",
   "metadata": {},
   "outputs": [],
   "source": [
    "df_tags = pd.read_csv('Tags.csv')\n",
    "go_ids = df_tags.loc[lambda d: d['Tag'] == 'go']['Id']\n",
    "# Collecting data from the Tags dataset with ID = 'go'"
   ]
  },
  {
   "cell_type": "code",
   "execution_count": 47,
   "id": "27ec6a99-4ee5-46b7-b48d-3bf1ba85fd22",
   "metadata": {},
   "outputs": [],
   "source": [
    "def has_go_token(doc):\n",
    "    for t in doc:\n",
    "        if t.lower_ in ['go', 'golang']:\n",
    "            if t.pos_ != 'VERB':\n",
    "                return True\n",
    "    return False\n",
    "# Collecting data with 'go'/'golang' where pos =! verb\n"
   ]
  },
  {
   "cell_type": "markdown",
   "id": "b7e62e12-d1bf-442e-a1a4-4dd674a6ba39",
   "metadata": {},
   "source": [
    "### Splitting x Benchmarking"
   ]
  },
  {
   "cell_type": "code",
   "execution_count": 48,
   "id": "3db91c86-cc69-498b-9a31-5b17097d23fd",
   "metadata": {},
   "outputs": [],
   "source": [
    "all_go_sentences = df.loc[lambda d: d['Id'].isin(go_ids)]['Title'].tolist()\n",
    "detectable = [d.text for d in nlp.pipe(all_go_sentences) if has_go_token(d)]\n",
    "\n",
    "non_detectable = (df\n",
    "                  .loc[lambda d: ~d['Id'].isin(go_ids)]\n",
    "                  .loc[lambda d: d['Title'].str.lower().str.contains('go')]\n",
    "                  ['Title']\n",
    "                  .tolist())\n",
    "\n",
    "non_detectable = [d.text for d in nlp.pipe(non_detectable) if has_go_token(d)]\n"
   ]
  },
  {
   "cell_type": "code",
   "execution_count": 49,
   "id": "e69d0a25-d83f-4183-a195-ccf2b988bd76",
   "metadata": {},
   "outputs": [
    {
     "data": {
      "text/plain": [
       "(1858, 941, 115)"
      ]
     },
     "execution_count": 49,
     "metadata": {},
     "output_type": "execute_result"
    }
   ],
   "source": [
    "len(all_go_sentences),len(detectable), len(non_detectable)\n",
    "# all_go_sentences = has go in title\n",
    "# detectable = golang confirmed by both title and tag\n",
    "# non_detectable = has go in title but not a tag\n",
    "# all_go_sentences - detectble = has a go tag but doesn't contain go in the title"
   ]
  },
  {
   "cell_type": "markdown",
   "id": "336f018d-1dd0-4773-835e-26ef5cb667c1",
   "metadata": {},
   "source": [
    "### Optimial Model: en_core_web_sm (on logging metrics) \n",
    "### Relevant data: detectable (both title x tag) "
   ]
  },
  {
   "cell_type": "code",
   "execution_count": 50,
   "id": "2c6ecaaa-d6f9-49e4-a34b-40a16efb3c21",
   "metadata": {},
   "outputs": [
    {
     "data": {
      "text/plain": [
       "'0.8910984848484849,1.0,0.8910984848484849,en_core_web_sm,not-verb-but-pobj'"
      ]
     },
     "execution_count": 50,
     "metadata": {},
     "output_type": "execute_result"
    }
   ],
   "source": [
    "model_name = 'en_core_web_sm'\n",
    "model = spacy.load(model_name, disable=['ner'])\n",
    "\n",
    "# def has_go_token(doc):\n",
    "#     for t in doc:\n",
    "#         if t.lower_ in ['go', 'golang']:\n",
    "#             if t.pos_ =! 'VERB':\n",
    "#                 return True\n",
    "#     return False\n",
    "\n",
    "method = 'not-verb-but-pobj'\n",
    "\n",
    "correct = sum(has_go_token(doc) for doc in model.pipe(detectable))\n",
    "wrong = sum(has_go_token(doc) for doc in model.pipe(non_detectable))\n",
    "precision = correct/(correct + wrong)\n",
    "recall = correct/len(detectable)\n",
    "accuracy = (correct + len(non_detectable) - wrong)/(len(detectable) + len(non_detectable))\n",
    "\n",
    "f\"{precision},{recall},{accuracy},{model_name},{method}\" # custom-log"
   ]
  },
  {
   "cell_type": "code",
   "execution_count": 51,
   "id": "569efb37-1357-4a3b-bb38-6553e39d008c",
   "metadata": {},
   "outputs": [
    {
     "name": "stdout",
     "output_type": "stream",
     "text": [
      "0.8910984848484849\n",
      "1.0\n",
      "0.8910984848484849\n"
     ]
    },
    {
     "data": {
      "text/plain": [
       "(None, None, None)"
      ]
     },
     "execution_count": 51,
     "metadata": {},
     "output_type": "execute_result"
    }
   ],
   "source": [
    "print(precision), print(recall), print(accuracy)"
   ]
  },
  {
   "cell_type": "code",
   "execution_count": null,
   "id": "85d5fc7a-a842-4da7-b4c1-1645f6663160",
   "metadata": {},
   "outputs": [],
   "source": []
  }
 ],
 "metadata": {
  "kernelspec": {
   "display_name": "Python 3 (ipykernel)",
   "language": "python",
   "name": "python3"
  },
  "language_info": {
   "codemirror_mode": {
    "name": "ipython",
    "version": 3
   },
   "file_extension": ".py",
   "mimetype": "text/x-python",
   "name": "python",
   "nbconvert_exporter": "python",
   "pygments_lexer": "ipython3",
   "version": "3.9.7"
  }
 },
 "nbformat": 4,
 "nbformat_minor": 5
}
