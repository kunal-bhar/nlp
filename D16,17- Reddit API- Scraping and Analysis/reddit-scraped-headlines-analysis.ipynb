{
 "cells": [
  {
   "cell_type": "markdown",
   "id": "07b4dc09-d1e6-4e4e-89ad-57d3cbb8e72f",
   "metadata": {},
   "source": [
    "### Dataset Initialization"
   ]
  },
  {
   "cell_type": "code",
   "execution_count": 2,
   "id": "fe7a246d-b193-4851-a2c8-76377ebfd6c3",
   "metadata": {},
   "outputs": [],
   "source": [
    "import pandas as pd\n",
    "from pprint import pprint"
   ]
  },
  {
   "cell_type": "code",
   "execution_count": 3,
   "id": "e4293a9e-519e-40cd-853a-176a419b0017",
   "metadata": {},
   "outputs": [],
   "source": [
    "df = pd.read_csv('reddit-headlines.csv')"
   ]
  },
  {
   "cell_type": "code",
   "execution_count": 4,
   "id": "f9bd47b7-086b-4989-807e-642d2385da7e",
   "metadata": {},
   "outputs": [
    {
     "data": {
      "text/html": [
       "<div>\n",
       "<style scoped>\n",
       "    .dataframe tbody tr th:only-of-type {\n",
       "        vertical-align: middle;\n",
       "    }\n",
       "\n",
       "    .dataframe tbody tr th {\n",
       "        vertical-align: top;\n",
       "    }\n",
       "\n",
       "    .dataframe thead th {\n",
       "        text-align: right;\n",
       "    }\n",
       "</style>\n",
       "<table border=\"1\" class=\"dataframe\">\n",
       "  <thead>\n",
       "    <tr style=\"text-align: right;\">\n",
       "      <th></th>\n",
       "      <th>Unnamed: 0</th>\n",
       "      <th>headlines</th>\n",
       "    </tr>\n",
       "  </thead>\n",
       "  <tbody>\n",
       "    <tr>\n",
       "      <th>0</th>\n",
       "      <td>0</td>\n",
       "      <td>Mass graves dug in the besieged Ukrainian city...</td>\n",
       "    </tr>\n",
       "    <tr>\n",
       "      <th>1</th>\n",
       "      <td>1</td>\n",
       "      <td>British aircraft carrier leading massive fleet...</td>\n",
       "    </tr>\n",
       "    <tr>\n",
       "      <th>2</th>\n",
       "      <td>2</td>\n",
       "      <td>Spain detains $600 million yacht linked to Rus...</td>\n",
       "    </tr>\n",
       "    <tr>\n",
       "      <th>3</th>\n",
       "      <td>3</td>\n",
       "      <td>Photo shows officials taking down the Russian ...</td>\n",
       "    </tr>\n",
       "    <tr>\n",
       "      <th>4</th>\n",
       "      <td>4</td>\n",
       "      <td>Marina Ovsyannikova: Russian journalist tells ...</td>\n",
       "    </tr>\n",
       "  </tbody>\n",
       "</table>\n",
       "</div>"
      ],
      "text/plain": [
       "   Unnamed: 0                                          headlines\n",
       "0           0  Mass graves dug in the besieged Ukrainian city...\n",
       "1           1  British aircraft carrier leading massive fleet...\n",
       "2           2  Spain detains $600 million yacht linked to Rus...\n",
       "3           3  Photo shows officials taking down the Russian ...\n",
       "4           4  Marina Ovsyannikova: Russian journalist tells ..."
      ]
     },
     "execution_count": 4,
     "metadata": {},
     "output_type": "execute_result"
    }
   ],
   "source": [
    "df.head()"
   ]
  },
  {
   "cell_type": "markdown",
   "id": "18d95572-b143-49bb-ae7b-9839270029ec",
   "metadata": {},
   "source": [
    "### Using NLTK's Sentiment Intensity Analyzer"
   ]
  },
  {
   "cell_type": "code",
   "execution_count": 5,
   "id": "89886989-e1eb-4178-b0a9-d5360090dc40",
   "metadata": {},
   "outputs": [],
   "source": [
    "import nltk\n",
    "from nltk.sentiment.vader import SentimentIntensityAnalyzer as SIA"
   ]
  },
  {
   "cell_type": "code",
   "execution_count": 6,
   "id": "9b3bfe90-bf93-474b-ba15-2c321feeb6d9",
   "metadata": {},
   "outputs": [
    {
     "name": "stdout",
     "output_type": "stream",
     "text": [
      "[{'compound': -0.7579,\n",
      "  'headline': 'Mass graves dug in the besieged Ukrainian city of Mariupol, as locals bury their '\n",
      "              'dead',\n",
      "  'neg': 0.333,\n",
      "  'neu': 0.667,\n",
      "  'pos': 0.0},\n",
      " {'compound': 0.0,\n",
      "  'headline': 'British aircraft carrier leading massive fleet off Norway',\n",
      "  'neg': 0.0,\n",
      "  'neu': 1.0,\n",
      "  'pos': 0.0},\n",
      " {'compound': 0.0,\n",
      "  'headline': 'Spain detains $600 million yacht linked to Russian oligarch: Reuters',\n",
      "  'neg': 0.0,\n",
      "  'neu': 1.0,\n",
      "  'pos': 0.0}]\n"
     ]
    }
   ],
   "source": [
    "sia= SIA()\n",
    "results = []\n",
    "\n",
    "for line in df['headlines']:\n",
    "    pol_score = sia.polarity_scores(line)\n",
    "    pol_score['headline'] = line\n",
    "    results.append(pol_score)\n",
    "pprint(results[:3], width=100)"
   ]
  },
  {
   "cell_type": "code",
   "execution_count": 7,
   "id": "601958e7-0b6c-4888-a7f1-86cdcb2e7822",
   "metadata": {},
   "outputs": [],
   "source": [
    "df = pd.DataFrame.from_records(results)"
   ]
  },
  {
   "cell_type": "code",
   "execution_count": 8,
   "id": "ce7ffad6-fd8f-44bc-aa4a-957d4ed359d0",
   "metadata": {},
   "outputs": [
    {
     "data": {
      "text/html": [
       "<div>\n",
       "<style scoped>\n",
       "    .dataframe tbody tr th:only-of-type {\n",
       "        vertical-align: middle;\n",
       "    }\n",
       "\n",
       "    .dataframe tbody tr th {\n",
       "        vertical-align: top;\n",
       "    }\n",
       "\n",
       "    .dataframe thead th {\n",
       "        text-align: right;\n",
       "    }\n",
       "</style>\n",
       "<table border=\"1\" class=\"dataframe\">\n",
       "  <thead>\n",
       "    <tr style=\"text-align: right;\">\n",
       "      <th></th>\n",
       "      <th>neg</th>\n",
       "      <th>neu</th>\n",
       "      <th>pos</th>\n",
       "      <th>compound</th>\n",
       "      <th>headline</th>\n",
       "    </tr>\n",
       "  </thead>\n",
       "  <tbody>\n",
       "    <tr>\n",
       "      <th>380</th>\n",
       "      <td>0.506</td>\n",
       "      <td>0.494</td>\n",
       "      <td>0.000</td>\n",
       "      <td>-0.9231</td>\n",
       "      <td>Tigray war has seen up to half a million dead ...</td>\n",
       "    </tr>\n",
       "    <tr>\n",
       "      <th>22</th>\n",
       "      <td>0.289</td>\n",
       "      <td>0.711</td>\n",
       "      <td>0.000</td>\n",
       "      <td>-0.4291</td>\n",
       "      <td>'Why? Why? Why?' Ukraine's Mariupol descends i...</td>\n",
       "    </tr>\n",
       "    <tr>\n",
       "      <th>660</th>\n",
       "      <td>0.000</td>\n",
       "      <td>0.806</td>\n",
       "      <td>0.194</td>\n",
       "      <td>0.3400</td>\n",
       "      <td>Ukraine's 'hero' President Zelensky set to rec...</td>\n",
       "    </tr>\n",
       "    <tr>\n",
       "      <th>725</th>\n",
       "      <td>0.100</td>\n",
       "      <td>0.594</td>\n",
       "      <td>0.306</td>\n",
       "      <td>0.6705</td>\n",
       "      <td>There is no life for Ukrainian people: Boxing ...</td>\n",
       "    </tr>\n",
       "  </tbody>\n",
       "</table>\n",
       "</div>"
      ],
      "text/plain": [
       "       neg    neu    pos  compound  \\\n",
       "380  0.506  0.494  0.000   -0.9231   \n",
       "22   0.289  0.711  0.000   -0.4291   \n",
       "660  0.000  0.806  0.194    0.3400   \n",
       "725  0.100  0.594  0.306    0.6705   \n",
       "\n",
       "                                              headline  \n",
       "380  Tigray war has seen up to half a million dead ...  \n",
       "22   'Why? Why? Why?' Ukraine's Mariupol descends i...  \n",
       "660  Ukraine's 'hero' President Zelensky set to rec...  \n",
       "725  There is no life for Ukrainian people: Boxing ...  "
      ]
     },
     "execution_count": 8,
     "metadata": {},
     "output_type": "execute_result"
    }
   ],
   "source": [
    "df.sample(4)"
   ]
  },
  {
   "cell_type": "markdown",
   "id": "3a44c4aa-747f-4620-9178-bf8bf28d82ad",
   "metadata": {},
   "source": [
    "### Classification x Labelling"
   ]
  },
  {
   "cell_type": "code",
   "execution_count": 9,
   "id": "7e14e6d6-a1a9-4139-b524-be3063150930",
   "metadata": {},
   "outputs": [],
   "source": [
    "df['label'] = 0\n",
    "df.loc[df['compound']>0.33, 'label'] = 1\n",
    "df.loc[df['compound']<-0.33, 'label'] = -1"
   ]
  },
  {
   "cell_type": "code",
   "execution_count": 18,
   "id": "37b6f010-07a4-4b0d-9a65-87084a6fdd86",
   "metadata": {},
   "outputs": [
    {
     "data": {
      "text/html": [
       "<div>\n",
       "<style scoped>\n",
       "    .dataframe tbody tr th:only-of-type {\n",
       "        vertical-align: middle;\n",
       "    }\n",
       "\n",
       "    .dataframe tbody tr th {\n",
       "        vertical-align: top;\n",
       "    }\n",
       "\n",
       "    .dataframe thead th {\n",
       "        text-align: right;\n",
       "    }\n",
       "</style>\n",
       "<table border=\"1\" class=\"dataframe\">\n",
       "  <thead>\n",
       "    <tr style=\"text-align: right;\">\n",
       "      <th></th>\n",
       "      <th>neg</th>\n",
       "      <th>neu</th>\n",
       "      <th>pos</th>\n",
       "      <th>compound</th>\n",
       "      <th>headline</th>\n",
       "      <th>label</th>\n",
       "    </tr>\n",
       "  </thead>\n",
       "  <tbody>\n",
       "    <tr>\n",
       "      <th>461</th>\n",
       "      <td>0.273</td>\n",
       "      <td>0.727</td>\n",
       "      <td>0.000</td>\n",
       "      <td>-0.4588</td>\n",
       "      <td>Trudeau and almost every Canadian MP banned fr...</td>\n",
       "      <td>-1</td>\n",
       "    </tr>\n",
       "    <tr>\n",
       "      <th>482</th>\n",
       "      <td>0.000</td>\n",
       "      <td>0.647</td>\n",
       "      <td>0.353</td>\n",
       "      <td>0.5994</td>\n",
       "      <td>Help yourself by helping us, Ukraine's Zelensk...</td>\n",
       "      <td>1</td>\n",
       "    </tr>\n",
       "    <tr>\n",
       "      <th>420</th>\n",
       "      <td>0.000</td>\n",
       "      <td>1.000</td>\n",
       "      <td>0.000</td>\n",
       "      <td>0.0000</td>\n",
       "      <td>Russia, India explore opening alternative paym...</td>\n",
       "      <td>0</td>\n",
       "    </tr>\n",
       "    <tr>\n",
       "      <th>748</th>\n",
       "      <td>0.239</td>\n",
       "      <td>0.761</td>\n",
       "      <td>0.000</td>\n",
       "      <td>-0.2960</td>\n",
       "      <td>Russia's state TV hit by stream of resignations</td>\n",
       "      <td>0</td>\n",
       "    </tr>\n",
       "  </tbody>\n",
       "</table>\n",
       "</div>"
      ],
      "text/plain": [
       "       neg    neu    pos  compound  \\\n",
       "461  0.273  0.727  0.000   -0.4588   \n",
       "482  0.000  0.647  0.353    0.5994   \n",
       "420  0.000  1.000  0.000    0.0000   \n",
       "748  0.239  0.761  0.000   -0.2960   \n",
       "\n",
       "                                              headline  label  \n",
       "461  Trudeau and almost every Canadian MP banned fr...     -1  \n",
       "482  Help yourself by helping us, Ukraine's Zelensk...      1  \n",
       "420  Russia, India explore opening alternative paym...      0  \n",
       "748    Russia's state TV hit by stream of resignations      0  "
      ]
     },
     "execution_count": 18,
     "metadata": {},
     "output_type": "execute_result"
    }
   ],
   "source": [
    "df.sample(4)"
   ]
  },
  {
   "cell_type": "code",
   "execution_count": 21,
   "id": "506f1e14-91f2-47a4-affb-694a35882bb5",
   "metadata": {},
   "outputs": [
    {
     "data": {
      "text/plain": [
       " 0    414\n",
       "-1    247\n",
       " 1     93\n",
       "Name: label, dtype: int64"
      ]
     },
     "execution_count": 21,
     "metadata": {},
     "output_type": "execute_result"
    }
   ],
   "source": [
    "df.label.value_counts()"
   ]
  },
  {
   "cell_type": "code",
   "execution_count": 22,
   "id": "3c8994ec-8f25-4b4d-90c4-e218d5259dec",
   "metadata": {},
   "outputs": [
    {
     "data": {
      "text/plain": [
       " 0    54.907162\n",
       "-1    32.758621\n",
       " 1    12.334218\n",
       "Name: label, dtype: float64"
      ]
     },
     "execution_count": 22,
     "metadata": {},
     "output_type": "execute_result"
    }
   ],
   "source": [
    "df.label.value_counts(normalize=True)*100 "
   ]
  },
  {
   "cell_type": "code",
   "execution_count": 23,
   "id": "451dd198-0613-4dd3-b2a8-c923e1de1536",
   "metadata": {},
   "outputs": [
    {
     "name": "stdout",
     "output_type": "stream",
     "text": [
      "Positive Headlines:\n",
      "\n",
      "['Tibetans seek justice after 63 years of uprising against Chinese rule',\n",
      " \"The Ministry of Foreign Affairs on Tuesday (March 15) praised a Russian woman for her courage after she held up an anti-war sign on live Russian TV. MOFA head: 'It takes courage to be the voice of \"\n",
      " \"conscience'.\",\n",
      " 'Saudi Arabia considers accepting yuan for oil sales',\n",
      " 'Russia and Ukraine looking for compromise in peace talks',\n",
      " 'Turkmenistan leader’s son wins presidential election']\n",
      "\n",
      "\n",
      " Negative Headlines:\n",
      "\n",
      "['Mass graves dug in the besieged Ukrainian city of Mariupol, as locals bury their dead',\n",
      " \"Russia's former chief prosecutor says oligarch Roman Abramovich amassed his fortune through a 'fraudulent scheme'\",\n",
      " 'UN makes March 15 International Day to Combat Islamophobia',\n",
      " 'Not violation of sanctions but Russian oil deal could put India on wrong side of history, says US',\n",
      " \"'Why? Why? Why?' Ukraine's Mariupol descends into despair\"]\n",
      "\n",
      "\n",
      " Neutral Headlines:\n",
      "\n",
      "['British aircraft carrier leading massive fleet off Norway',\n",
      " 'Spain detains $600 million yacht linked to Russian oligarch: Reuters',\n",
      " 'Photo shows officials taking down the Russian flag after Putin gets the boot from Council of Europe',\n",
      " 'Marina Ovsyannikova: Russian journalist tells of 14-hour interrogation',\n",
      " 'China wary of being impacted by Russia sanctions: Foreign Minister']\n"
     ]
    }
   ],
   "source": [
    "print('Positive Headlines:\\n')\n",
    "pprint(list(df[df['label'] == 1].headline)[:5], width=200)\n",
    "\n",
    "print('\\n\\n Negative Headlines:\\n')\n",
    "pprint(list(df[df['label'] == -1].headline)[:5], width=200)\n",
    "\n",
    "print('\\n\\n Neutral Headlines:\\n')\n",
    "pprint(list(df[df['label'] == 0].headline)[:5], width=200)"
   ]
  },
  {
   "cell_type": "markdown",
   "id": "e34aae2c-3972-4f11-a807-7946a2fd1e1f",
   "metadata": {},
   "source": [
    "### Results Viz"
   ]
  },
  {
   "cell_type": "code",
   "execution_count": 24,
   "id": "d9254414-93a3-4d24-b669-b6c7dd5e4eeb",
   "metadata": {},
   "outputs": [],
   "source": [
    "import matplotlib.pyplot as plt\n",
    "import seaborn as sns"
   ]
  },
  {
   "cell_type": "code",
   "execution_count": 25,
   "id": "9c0b8a8a-755a-4f21-9599-869a3e24b9a0",
   "metadata": {},
   "outputs": [
    {
     "data": {
      "image/png": "[encoded data removed]",
      "text/plain": [
       "<Figure size 576x576 with 1 Axes>"
      ]
     },
     "metadata": {
      "needs_background": "light"
     },
     "output_type": "display_data"
    }
   ],
   "source": [
    "fig, ax = plt.subplots(figsize=(8,8))\n",
    "counts = df.label.value_counts(normalize=True)*100\n",
    "\n",
    "sns.barplot(x=counts.index, y=counts, ax=ax)\n",
    "ax.set_xticklabels(['Negative', 'Neutral', 'Positive'])\n",
    "ax.set_ylabel('Percentage')\n",
    "\n",
    "plt.show()"
   ]
  },
  {
   "cell_type": "markdown",
   "id": "dcaa7c91-21fa-4e79-af94-8c20f22201ca",
   "metadata": {},
   "source": [
    "### Exporting the labelled-data generated. This can be used as an intelligent source to feed future models."
   ]
  },
  {
   "cell_type": "code",
   "execution_count": 26,
   "id": "3386ce3c-3890-4b44-bb68-8923e29938b9",
   "metadata": {},
   "outputs": [],
   "source": [
    "df_export = df[['headline', 'label']]"
   ]
  },
  {
   "cell_type": "code",
   "execution_count": 31,
   "id": "09001793-c184-493b-b1e9-4ab5f72033d3",
   "metadata": {},
   "outputs": [
    {
     "data": {
      "text/html": [
       "<div>\n",
       "<style scoped>\n",
       "    .dataframe tbody tr th:only-of-type {\n",
       "        vertical-align: middle;\n",
       "    }\n",
       "\n",
       "    .dataframe tbody tr th {\n",
       "        vertical-align: top;\n",
       "    }\n",
       "\n",
       "    .dataframe thead th {\n",
       "        text-align: right;\n",
       "    }\n",
       "</style>\n",
       "<table border=\"1\" class=\"dataframe\">\n",
       "  <thead>\n",
       "    <tr style=\"text-align: right;\">\n",
       "      <th></th>\n",
       "      <th>headline</th>\n",
       "      <th>label</th>\n",
       "    </tr>\n",
       "  </thead>\n",
       "  <tbody>\n",
       "    <tr>\n",
       "      <th>399</th>\n",
       "      <td>EU 'Concerned' Over Disrupted Gas Supply, Shoo...</td>\n",
       "      <td>0</td>\n",
       "    </tr>\n",
       "    <tr>\n",
       "      <th>709</th>\n",
       "      <td>Woman fearing for family in Ukraine urges Cana...</td>\n",
       "      <td>-1</td>\n",
       "    </tr>\n",
       "    <tr>\n",
       "      <th>618</th>\n",
       "      <td>New Zealand cuts fuel tax and halves public tr...</td>\n",
       "      <td>-1</td>\n",
       "    </tr>\n",
       "    <tr>\n",
       "      <th>560</th>\n",
       "      <td>Slovakia meets NATO defence spending commitmen...</td>\n",
       "      <td>1</td>\n",
       "    </tr>\n",
       "  </tbody>\n",
       "</table>\n",
       "</div>"
      ],
      "text/plain": [
       "                                              headline  label\n",
       "399  EU 'Concerned' Over Disrupted Gas Supply, Shoo...      0\n",
       "709  Woman fearing for family in Ukraine urges Cana...     -1\n",
       "618  New Zealand cuts fuel tax and halves public tr...     -1\n",
       "560  Slovakia meets NATO defence spending commitmen...      1"
      ]
     },
     "execution_count": 31,
     "metadata": {},
     "output_type": "execute_result"
    }
   ],
   "source": [
    "df_export.sample(4)"
   ]
  },
  {
   "cell_type": "code",
   "execution_count": 32,
   "id": "29910ff7-d88a-49d4-844c-4499c5a12047",
   "metadata": {},
   "outputs": [],
   "source": [
    "df_export.to_csv('reddit-headlines-labelled.csv', encoding='utf-8', index=True)"
   ]
  }
 ],
 "metadata": {
  "kernelspec": {
   "display_name": "Python 3 (ipykernel)",
   "language": "python",
   "name": "python3"
  },
  "language_info": {
   "codemirror_mode": {
    "name": "ipython",
    "version": 3
   },
   "file_extension": ".py",
   "mimetype": "text/x-python",
   "name": "python",
   "nbconvert_exporter": "python",
   "pygments_lexer": "ipython3",
   "version": "3.9.7"
  }
 },
 "nbformat": 4,
 "nbformat_minor": 5
}
