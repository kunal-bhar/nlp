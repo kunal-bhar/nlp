{
 "cells": [
  {
   "cell_type": "code",
   "execution_count": 1,
   "id": "388ffb37-7cea-46d8-b965-d026ea8dffa4",
   "metadata": {},
   "outputs": [],
   "source": [
    "import numpy as np\n",
    "import pandas as pd\n",
    "import praw"
   ]
  },
  {
   "cell_type": "code",
   "execution_count": 4,
   "id": "e2df7416-9b7b-42cc-9999-f2fbeef942ca",
   "metadata": {},
   "outputs": [],
   "source": [
    "\n",
    "user_agent = 'Subreddit Scraper 1.0 by /u/OneUponZero__'\n",
    "reddit = praw.Reddit (\n",
    "    client_id = 'tP9LdxUjYXSjlNNfu55nvg',\n",
    "    client_secret = 'cqM1nxAHD1QtTe6LaEkGytGUiQPWhQ',\n",
    "    user_agent = user_agent\n",
    ")"
   ]
  },
  {
   "cell_type": "code",
   "execution_count": 5,
   "id": "963b7d5d-49c3-4759-98c0-c8f6871d4d2f",
   "metadata": {},
   "outputs": [
    {
     "name": "stdout",
     "output_type": "stream",
     "text": [
      "/r/WorldNews Live Thread: Russian Invasion of Ukraine Day 21, Part 2 (Thread #148)\n",
      "tflbi9\n",
      "WorldNewsMods\n",
      "1647446323.0\n",
      "308\n",
      "0.96\n",
      "https://www.reddit.com/live/18hnzysb1elcs\n"
     ]
    }
   ],
   "source": [
    "for submission in reddit.subreddit('worldnews').hot(limit=None):\n",
    "    print(submission.title)\n",
    "    print(submission.id)\n",
    "    print(submission.author)\n",
    "    print(submission.created_utc)\n",
    "    print(submission.score)\n",
    "    print(submission.upvote_ratio)\n",
    "    print(submission.url)\n",
    "    break "
   ]
  },
  {
   "cell_type": "code",
   "execution_count": 6,
   "id": "3898683c-3b09-4013-be45-f224a284e003",
   "metadata": {},
   "outputs": [],
   "source": [
    "headlines = set()\n",
    "for submission in reddit.subreddit('worldnews').hot(limit=None):\n",
    "    headlines.add(submission.title)"
   ]
  },
  {
   "cell_type": "code",
   "execution_count": 7,
   "id": "6b9801ed-3599-42ff-b411-d84ff0faa2bf",
   "metadata": {},
   "outputs": [
    {
     "name": "stdout",
     "output_type": "stream",
     "text": [
      "754\n"
     ]
    }
   ],
   "source": [
    "print(len(headlines))"
   ]
  },
  {
   "cell_type": "code",
   "execution_count": 8,
   "id": "f4065d1d-c251-45d8-8e6e-b5ff6acd80e5",
   "metadata": {},
   "outputs": [],
   "source": [
    "df = pd.DataFrame(headlines, columns=['headlines'])"
   ]
  },
  {
   "cell_type": "code",
   "execution_count": 9,
   "id": "a7c7fd2d-957d-4c7c-bf89-d7412b24dd42",
   "metadata": {},
   "outputs": [
    {
     "data": {
      "text/html": [
       "<div>\n",
       "<style scoped>\n",
       "    .dataframe tbody tr th:only-of-type {\n",
       "        vertical-align: middle;\n",
       "    }\n",
       "\n",
       "    .dataframe tbody tr th {\n",
       "        vertical-align: top;\n",
       "    }\n",
       "\n",
       "    .dataframe thead th {\n",
       "        text-align: right;\n",
       "    }\n",
       "</style>\n",
       "<table border=\"1\" class=\"dataframe\">\n",
       "  <thead>\n",
       "    <tr style=\"text-align: right;\">\n",
       "      <th></th>\n",
       "      <th>headlines</th>\n",
       "    </tr>\n",
       "  </thead>\n",
       "  <tbody>\n",
       "    <tr>\n",
       "      <th>0</th>\n",
       "      <td>Mass graves dug in the besieged Ukrainian city...</td>\n",
       "    </tr>\n",
       "    <tr>\n",
       "      <th>115</th>\n",
       "      <td>Zelenskiy says Russia’s position in negotiatio...</td>\n",
       "    </tr>\n",
       "    <tr>\n",
       "      <th>468</th>\n",
       "      <td>7.3 magnitude quake hits North Japan, tsunami ...</td>\n",
       "    </tr>\n",
       "    <tr>\n",
       "      <th>553</th>\n",
       "      <td>Singapore court rejects appeals by three men o...</td>\n",
       "    </tr>\n",
       "    <tr>\n",
       "      <th>519</th>\n",
       "      <td>Marina Ovsyannikova: Russian journalist who pr...</td>\n",
       "    </tr>\n",
       "    <tr>\n",
       "      <th>5</th>\n",
       "      <td>China wary of being impacted by Russia sanctio...</td>\n",
       "    </tr>\n",
       "    <tr>\n",
       "      <th>101</th>\n",
       "      <td>Russia proposes solution to end Ukraine war</td>\n",
       "    </tr>\n",
       "  </tbody>\n",
       "</table>\n",
       "</div>"
      ],
      "text/plain": [
       "                                             headlines\n",
       "0    Mass graves dug in the besieged Ukrainian city...\n",
       "115  Zelenskiy says Russia’s position in negotiatio...\n",
       "468  7.3 magnitude quake hits North Japan, tsunami ...\n",
       "553  Singapore court rejects appeals by three men o...\n",
       "519  Marina Ovsyannikova: Russian journalist who pr...\n",
       "5    China wary of being impacted by Russia sanctio...\n",
       "101        Russia proposes solution to end Ukraine war"
      ]
     },
     "execution_count": 9,
     "metadata": {},
     "output_type": "execute_result"
    }
   ],
   "source": [
    "df.sample(7)"
   ]
  },
  {
   "cell_type": "code",
   "execution_count": 11,
   "id": "6b19c616-ce93-4755-b43c-fa64a474f8bd",
   "metadata": {},
   "outputs": [
    {
     "data": {
      "text/plain": [
       "(754, (754, 1), 2)"
      ]
     },
     "execution_count": 11,
     "metadata": {},
     "output_type": "execute_result"
    }
   ],
   "source": [
    "df.size, df.shape, df.ndim"
   ]
  },
  {
   "cell_type": "code",
   "execution_count": 12,
   "id": "37e5232d-6a96-472e-b36a-134e18501817",
   "metadata": {},
   "outputs": [],
   "source": [
    "df.to_csv('reddit-headlines.csv', header=True, encoding='utf-8', index=True)"
   ]
  }
 ],
 "metadata": {
  "kernelspec": {
   "display_name": "Python 3 (ipykernel)",
   "language": "python",
   "name": "python3"
  },
  "language_info": {
   "codemirror_mode": {
    "name": "ipython",
    "version": 3
   },
   "file_extension": ".py",
   "mimetype": "text/x-python",
   "name": "python",
   "nbconvert_exporter": "python",
   "pygments_lexer": "ipython3",
   "version": "3.9.7"
  }
 },
 "nbformat": 4,
 "nbformat_minor": 5
}
