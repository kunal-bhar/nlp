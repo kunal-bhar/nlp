{
 "cells": [
  {
   "cell_type": "markdown",
   "id": "5081e1fe-bd40-4faa-8f5d-03b7f600bdd5",
   "metadata": {},
   "source": [
    "### Hour-Wise Temperature Forecasting using LSTM-RNN's"
   ]
  },
  {
   "cell_type": "code",
   "execution_count": 1,
   "id": "0b4dc8a4-c2b4-4879-9bf7-fa4a0c19530a",
   "metadata": {},
   "outputs": [],
   "source": [
    "import os\n",
    "import numpy as np\n",
    "import pandas as pd\n",
    "import tensorflow as tf"
   ]
  },
  {
   "cell_type": "markdown",
   "id": "e7ff54b3-bae2-4fa0-bc8a-e6af23be95e2",
   "metadata": {},
   "source": [
    "### Dataset Initialization"
   ]
  },
  {
   "cell_type": "code",
   "execution_count": 2,
   "id": "16b5abb5-df4e-498d-acea-aa0c9ed4bda7",
   "metadata": {},
   "outputs": [],
   "source": [
    "zip_path = tf.keras.utils.get_file(\n",
    "    origin='https://storage.googleapis.com/tensorflow/tf-keras-datasets/jena_climate_2009_2016.csv.zip',\n",
    "    fname='jena_climate_2009_2016.csv.zip',\n",
    "    extract=True)\n",
    "\n",
    "csv_path, _ = os.path.splitext(zip_path)"
   ]
  },
  {
   "cell_type": "code",
   "execution_count": 3,
   "id": "fb11cf9a-3a6b-45cd-a9f2-c1648f0db123",
   "metadata": {},
   "outputs": [],
   "source": [
    "df = pd.read_csv(csv_path)"
   ]
  },
  {
   "cell_type": "code",
   "execution_count": 4,
   "id": "6c7c96ac-3482-4a43-9aa1-abcf7edf93dd",
   "metadata": {},
   "outputs": [
    {
     "data": {
      "text/html": [
       "<div>\n",
       "<style scoped>\n",
       "    .dataframe tbody tr th:only-of-type {\n",
       "        vertical-align: middle;\n",
       "    }\n",
       "\n",
       "    .dataframe tbody tr th {\n",
       "        vertical-align: top;\n",
       "    }\n",
       "\n",
       "    .dataframe thead th {\n",
       "        text-align: right;\n",
       "    }\n",
       "</style>\n",
       "<table border=\"1\" class=\"dataframe\">\n",
       "  <thead>\n",
       "    <tr style=\"text-align: right;\">\n",
       "      <th></th>\n",
       "      <th>Date Time</th>\n",
       "      <th>p (mbar)</th>\n",
       "      <th>T (degC)</th>\n",
       "      <th>Tpot (K)</th>\n",
       "      <th>Tdew (degC)</th>\n",
       "      <th>rh (%)</th>\n",
       "      <th>VPmax (mbar)</th>\n",
       "      <th>VPact (mbar)</th>\n",
       "      <th>VPdef (mbar)</th>\n",
       "      <th>sh (g/kg)</th>\n",
       "      <th>H2OC (mmol/mol)</th>\n",
       "      <th>rho (g/m**3)</th>\n",
       "      <th>wv (m/s)</th>\n",
       "      <th>max. wv (m/s)</th>\n",
       "      <th>wd (deg)</th>\n",
       "    </tr>\n",
       "  </thead>\n",
       "  <tbody>\n",
       "    <tr>\n",
       "      <th>0</th>\n",
       "      <td>01.01.2009 00:10:00</td>\n",
       "      <td>996.52</td>\n",
       "      <td>-8.02</td>\n",
       "      <td>265.40</td>\n",
       "      <td>-8.90</td>\n",
       "      <td>93.30</td>\n",
       "      <td>3.33</td>\n",
       "      <td>3.11</td>\n",
       "      <td>0.22</td>\n",
       "      <td>1.94</td>\n",
       "      <td>3.12</td>\n",
       "      <td>1307.75</td>\n",
       "      <td>1.03</td>\n",
       "      <td>1.75</td>\n",
       "      <td>152.3</td>\n",
       "    </tr>\n",
       "    <tr>\n",
       "      <th>1</th>\n",
       "      <td>01.01.2009 00:20:00</td>\n",
       "      <td>996.57</td>\n",
       "      <td>-8.41</td>\n",
       "      <td>265.01</td>\n",
       "      <td>-9.28</td>\n",
       "      <td>93.40</td>\n",
       "      <td>3.23</td>\n",
       "      <td>3.02</td>\n",
       "      <td>0.21</td>\n",
       "      <td>1.89</td>\n",
       "      <td>3.03</td>\n",
       "      <td>1309.80</td>\n",
       "      <td>0.72</td>\n",
       "      <td>1.50</td>\n",
       "      <td>136.1</td>\n",
       "    </tr>\n",
       "    <tr>\n",
       "      <th>2</th>\n",
       "      <td>01.01.2009 00:30:00</td>\n",
       "      <td>996.53</td>\n",
       "      <td>-8.51</td>\n",
       "      <td>264.91</td>\n",
       "      <td>-9.31</td>\n",
       "      <td>93.90</td>\n",
       "      <td>3.21</td>\n",
       "      <td>3.01</td>\n",
       "      <td>0.20</td>\n",
       "      <td>1.88</td>\n",
       "      <td>3.02</td>\n",
       "      <td>1310.24</td>\n",
       "      <td>0.19</td>\n",
       "      <td>0.63</td>\n",
       "      <td>171.6</td>\n",
       "    </tr>\n",
       "    <tr>\n",
       "      <th>3</th>\n",
       "      <td>01.01.2009 00:40:00</td>\n",
       "      <td>996.51</td>\n",
       "      <td>-8.31</td>\n",
       "      <td>265.12</td>\n",
       "      <td>-9.07</td>\n",
       "      <td>94.20</td>\n",
       "      <td>3.26</td>\n",
       "      <td>3.07</td>\n",
       "      <td>0.19</td>\n",
       "      <td>1.92</td>\n",
       "      <td>3.08</td>\n",
       "      <td>1309.19</td>\n",
       "      <td>0.34</td>\n",
       "      <td>0.50</td>\n",
       "      <td>198.0</td>\n",
       "    </tr>\n",
       "    <tr>\n",
       "      <th>4</th>\n",
       "      <td>01.01.2009 00:50:00</td>\n",
       "      <td>996.51</td>\n",
       "      <td>-8.27</td>\n",
       "      <td>265.15</td>\n",
       "      <td>-9.04</td>\n",
       "      <td>94.10</td>\n",
       "      <td>3.27</td>\n",
       "      <td>3.08</td>\n",
       "      <td>0.19</td>\n",
       "      <td>1.92</td>\n",
       "      <td>3.09</td>\n",
       "      <td>1309.00</td>\n",
       "      <td>0.32</td>\n",
       "      <td>0.63</td>\n",
       "      <td>214.3</td>\n",
       "    </tr>\n",
       "    <tr>\n",
       "      <th>...</th>\n",
       "      <td>...</td>\n",
       "      <td>...</td>\n",
       "      <td>...</td>\n",
       "      <td>...</td>\n",
       "      <td>...</td>\n",
       "      <td>...</td>\n",
       "      <td>...</td>\n",
       "      <td>...</td>\n",
       "      <td>...</td>\n",
       "      <td>...</td>\n",
       "      <td>...</td>\n",
       "      <td>...</td>\n",
       "      <td>...</td>\n",
       "      <td>...</td>\n",
       "      <td>...</td>\n",
       "    </tr>\n",
       "    <tr>\n",
       "      <th>420546</th>\n",
       "      <td>31.12.2016 23:20:00</td>\n",
       "      <td>1000.07</td>\n",
       "      <td>-4.05</td>\n",
       "      <td>269.10</td>\n",
       "      <td>-8.13</td>\n",
       "      <td>73.10</td>\n",
       "      <td>4.52</td>\n",
       "      <td>3.30</td>\n",
       "      <td>1.22</td>\n",
       "      <td>2.06</td>\n",
       "      <td>3.30</td>\n",
       "      <td>1292.98</td>\n",
       "      <td>0.67</td>\n",
       "      <td>1.52</td>\n",
       "      <td>240.0</td>\n",
       "    </tr>\n",
       "    <tr>\n",
       "      <th>420547</th>\n",
       "      <td>31.12.2016 23:30:00</td>\n",
       "      <td>999.93</td>\n",
       "      <td>-3.35</td>\n",
       "      <td>269.81</td>\n",
       "      <td>-8.06</td>\n",
       "      <td>69.71</td>\n",
       "      <td>4.77</td>\n",
       "      <td>3.32</td>\n",
       "      <td>1.44</td>\n",
       "      <td>2.07</td>\n",
       "      <td>3.32</td>\n",
       "      <td>1289.44</td>\n",
       "      <td>1.14</td>\n",
       "      <td>1.92</td>\n",
       "      <td>234.3</td>\n",
       "    </tr>\n",
       "    <tr>\n",
       "      <th>420548</th>\n",
       "      <td>31.12.2016 23:40:00</td>\n",
       "      <td>999.82</td>\n",
       "      <td>-3.16</td>\n",
       "      <td>270.01</td>\n",
       "      <td>-8.21</td>\n",
       "      <td>67.91</td>\n",
       "      <td>4.84</td>\n",
       "      <td>3.28</td>\n",
       "      <td>1.55</td>\n",
       "      <td>2.05</td>\n",
       "      <td>3.28</td>\n",
       "      <td>1288.39</td>\n",
       "      <td>1.08</td>\n",
       "      <td>2.00</td>\n",
       "      <td>215.2</td>\n",
       "    </tr>\n",
       "    <tr>\n",
       "      <th>420549</th>\n",
       "      <td>31.12.2016 23:50:00</td>\n",
       "      <td>999.81</td>\n",
       "      <td>-4.23</td>\n",
       "      <td>268.94</td>\n",
       "      <td>-8.53</td>\n",
       "      <td>71.80</td>\n",
       "      <td>4.46</td>\n",
       "      <td>3.20</td>\n",
       "      <td>1.26</td>\n",
       "      <td>1.99</td>\n",
       "      <td>3.20</td>\n",
       "      <td>1293.56</td>\n",
       "      <td>1.49</td>\n",
       "      <td>2.16</td>\n",
       "      <td>225.8</td>\n",
       "    </tr>\n",
       "    <tr>\n",
       "      <th>420550</th>\n",
       "      <td>01.01.2017 00:00:00</td>\n",
       "      <td>999.82</td>\n",
       "      <td>-4.82</td>\n",
       "      <td>268.36</td>\n",
       "      <td>-8.42</td>\n",
       "      <td>75.70</td>\n",
       "      <td>4.27</td>\n",
       "      <td>3.23</td>\n",
       "      <td>1.04</td>\n",
       "      <td>2.01</td>\n",
       "      <td>3.23</td>\n",
       "      <td>1296.38</td>\n",
       "      <td>1.23</td>\n",
       "      <td>1.96</td>\n",
       "      <td>184.9</td>\n",
       "    </tr>\n",
       "  </tbody>\n",
       "</table>\n",
       "<p>420551 rows × 15 columns</p>\n",
       "</div>"
      ],
      "text/plain": [
       "                  Date Time  p (mbar)  T (degC)  Tpot (K)  Tdew (degC)  \\\n",
       "0       01.01.2009 00:10:00    996.52     -8.02    265.40        -8.90   \n",
       "1       01.01.2009 00:20:00    996.57     -8.41    265.01        -9.28   \n",
       "2       01.01.2009 00:30:00    996.53     -8.51    264.91        -9.31   \n",
       "3       01.01.2009 00:40:00    996.51     -8.31    265.12        -9.07   \n",
       "4       01.01.2009 00:50:00    996.51     -8.27    265.15        -9.04   \n",
       "...                     ...       ...       ...       ...          ...   \n",
       "420546  31.12.2016 23:20:00   1000.07     -4.05    269.10        -8.13   \n",
       "420547  31.12.2016 23:30:00    999.93     -3.35    269.81        -8.06   \n",
       "420548  31.12.2016 23:40:00    999.82     -3.16    270.01        -8.21   \n",
       "420549  31.12.2016 23:50:00    999.81     -4.23    268.94        -8.53   \n",
       "420550  01.01.2017 00:00:00    999.82     -4.82    268.36        -8.42   \n",
       "\n",
       "        rh (%)  VPmax (mbar)  VPact (mbar)  VPdef (mbar)  sh (g/kg)  \\\n",
       "0        93.30          3.33          3.11          0.22       1.94   \n",
       "1        93.40          3.23          3.02          0.21       1.89   \n",
       "2        93.90          3.21          3.01          0.20       1.88   \n",
       "3        94.20          3.26          3.07          0.19       1.92   \n",
       "4        94.10          3.27          3.08          0.19       1.92   \n",
       "...        ...           ...           ...           ...        ...   \n",
       "420546   73.10          4.52          3.30          1.22       2.06   \n",
       "420547   69.71          4.77          3.32          1.44       2.07   \n",
       "420548   67.91          4.84          3.28          1.55       2.05   \n",
       "420549   71.80          4.46          3.20          1.26       1.99   \n",
       "420550   75.70          4.27          3.23          1.04       2.01   \n",
       "\n",
       "        H2OC (mmol/mol)  rho (g/m**3)  wv (m/s)  max. wv (m/s)  wd (deg)  \n",
       "0                  3.12       1307.75      1.03           1.75     152.3  \n",
       "1                  3.03       1309.80      0.72           1.50     136.1  \n",
       "2                  3.02       1310.24      0.19           0.63     171.6  \n",
       "3                  3.08       1309.19      0.34           0.50     198.0  \n",
       "4                  3.09       1309.00      0.32           0.63     214.3  \n",
       "...                 ...           ...       ...            ...       ...  \n",
       "420546             3.30       1292.98      0.67           1.52     240.0  \n",
       "420547             3.32       1289.44      1.14           1.92     234.3  \n",
       "420548             3.28       1288.39      1.08           2.00     215.2  \n",
       "420549             3.20       1293.56      1.49           2.16     225.8  \n",
       "420550             3.23       1296.38      1.23           1.96     184.9  \n",
       "\n",
       "[420551 rows x 15 columns]"
      ]
     },
     "execution_count": 4,
     "metadata": {},
     "output_type": "execute_result"
    }
   ],
   "source": [
    "df"
   ]
  },
  {
   "cell_type": "code",
   "execution_count": 5,
   "id": "b0e2cf1d-c19a-4b26-8720-15d6d9687b49",
   "metadata": {},
   "outputs": [
    {
     "data": {
      "text/html": [
       "<div>\n",
       "<style scoped>\n",
       "    .dataframe tbody tr th:only-of-type {\n",
       "        vertical-align: middle;\n",
       "    }\n",
       "\n",
       "    .dataframe tbody tr th {\n",
       "        vertical-align: top;\n",
       "    }\n",
       "\n",
       "    .dataframe thead th {\n",
       "        text-align: right;\n",
       "    }\n",
       "</style>\n",
       "<table border=\"1\" class=\"dataframe\">\n",
       "  <thead>\n",
       "    <tr style=\"text-align: right;\">\n",
       "      <th></th>\n",
       "      <th>Date Time</th>\n",
       "      <th>p (mbar)</th>\n",
       "      <th>T (degC)</th>\n",
       "      <th>Tpot (K)</th>\n",
       "      <th>Tdew (degC)</th>\n",
       "      <th>rh (%)</th>\n",
       "      <th>VPmax (mbar)</th>\n",
       "      <th>VPact (mbar)</th>\n",
       "      <th>VPdef (mbar)</th>\n",
       "      <th>sh (g/kg)</th>\n",
       "      <th>H2OC (mmol/mol)</th>\n",
       "      <th>rho (g/m**3)</th>\n",
       "      <th>wv (m/s)</th>\n",
       "      <th>max. wv (m/s)</th>\n",
       "      <th>wd (deg)</th>\n",
       "    </tr>\n",
       "  </thead>\n",
       "  <tbody>\n",
       "    <tr>\n",
       "      <th>5</th>\n",
       "      <td>01.01.2009 01:00:00</td>\n",
       "      <td>996.50</td>\n",
       "      <td>-8.05</td>\n",
       "      <td>265.38</td>\n",
       "      <td>-8.78</td>\n",
       "      <td>94.40</td>\n",
       "      <td>3.33</td>\n",
       "      <td>3.14</td>\n",
       "      <td>0.19</td>\n",
       "      <td>1.96</td>\n",
       "      <td>3.15</td>\n",
       "      <td>1307.86</td>\n",
       "      <td>0.21</td>\n",
       "      <td>0.63</td>\n",
       "      <td>192.7</td>\n",
       "    </tr>\n",
       "    <tr>\n",
       "      <th>11</th>\n",
       "      <td>01.01.2009 02:00:00</td>\n",
       "      <td>996.62</td>\n",
       "      <td>-8.88</td>\n",
       "      <td>264.54</td>\n",
       "      <td>-9.77</td>\n",
       "      <td>93.20</td>\n",
       "      <td>3.12</td>\n",
       "      <td>2.90</td>\n",
       "      <td>0.21</td>\n",
       "      <td>1.81</td>\n",
       "      <td>2.91</td>\n",
       "      <td>1312.25</td>\n",
       "      <td>0.25</td>\n",
       "      <td>0.63</td>\n",
       "      <td>190.3</td>\n",
       "    </tr>\n",
       "    <tr>\n",
       "      <th>17</th>\n",
       "      <td>01.01.2009 03:00:00</td>\n",
       "      <td>996.84</td>\n",
       "      <td>-8.81</td>\n",
       "      <td>264.59</td>\n",
       "      <td>-9.66</td>\n",
       "      <td>93.50</td>\n",
       "      <td>3.13</td>\n",
       "      <td>2.93</td>\n",
       "      <td>0.20</td>\n",
       "      <td>1.83</td>\n",
       "      <td>2.94</td>\n",
       "      <td>1312.18</td>\n",
       "      <td>0.18</td>\n",
       "      <td>0.63</td>\n",
       "      <td>167.2</td>\n",
       "    </tr>\n",
       "    <tr>\n",
       "      <th>23</th>\n",
       "      <td>01.01.2009 04:00:00</td>\n",
       "      <td>996.99</td>\n",
       "      <td>-9.05</td>\n",
       "      <td>264.34</td>\n",
       "      <td>-10.02</td>\n",
       "      <td>92.60</td>\n",
       "      <td>3.07</td>\n",
       "      <td>2.85</td>\n",
       "      <td>0.23</td>\n",
       "      <td>1.78</td>\n",
       "      <td>2.85</td>\n",
       "      <td>1313.61</td>\n",
       "      <td>0.10</td>\n",
       "      <td>0.38</td>\n",
       "      <td>240.0</td>\n",
       "    </tr>\n",
       "    <tr>\n",
       "      <th>29</th>\n",
       "      <td>01.01.2009 05:00:00</td>\n",
       "      <td>997.46</td>\n",
       "      <td>-9.63</td>\n",
       "      <td>263.72</td>\n",
       "      <td>-10.65</td>\n",
       "      <td>92.20</td>\n",
       "      <td>2.94</td>\n",
       "      <td>2.71</td>\n",
       "      <td>0.23</td>\n",
       "      <td>1.69</td>\n",
       "      <td>2.71</td>\n",
       "      <td>1317.19</td>\n",
       "      <td>0.40</td>\n",
       "      <td>0.88</td>\n",
       "      <td>157.0</td>\n",
       "    </tr>\n",
       "    <tr>\n",
       "      <th>...</th>\n",
       "      <td>...</td>\n",
       "      <td>...</td>\n",
       "      <td>...</td>\n",
       "      <td>...</td>\n",
       "      <td>...</td>\n",
       "      <td>...</td>\n",
       "      <td>...</td>\n",
       "      <td>...</td>\n",
       "      <td>...</td>\n",
       "      <td>...</td>\n",
       "      <td>...</td>\n",
       "      <td>...</td>\n",
       "      <td>...</td>\n",
       "      <td>...</td>\n",
       "      <td>...</td>\n",
       "    </tr>\n",
       "    <tr>\n",
       "      <th>420521</th>\n",
       "      <td>31.12.2016 19:10:00</td>\n",
       "      <td>1002.18</td>\n",
       "      <td>-0.98</td>\n",
       "      <td>272.01</td>\n",
       "      <td>-5.36</td>\n",
       "      <td>72.00</td>\n",
       "      <td>5.69</td>\n",
       "      <td>4.09</td>\n",
       "      <td>1.59</td>\n",
       "      <td>2.54</td>\n",
       "      <td>4.08</td>\n",
       "      <td>1280.70</td>\n",
       "      <td>0.87</td>\n",
       "      <td>1.36</td>\n",
       "      <td>190.6</td>\n",
       "    </tr>\n",
       "    <tr>\n",
       "      <th>420527</th>\n",
       "      <td>31.12.2016 20:10:00</td>\n",
       "      <td>1001.40</td>\n",
       "      <td>-1.40</td>\n",
       "      <td>271.66</td>\n",
       "      <td>-6.84</td>\n",
       "      <td>66.29</td>\n",
       "      <td>5.51</td>\n",
       "      <td>3.65</td>\n",
       "      <td>1.86</td>\n",
       "      <td>2.27</td>\n",
       "      <td>3.65</td>\n",
       "      <td>1281.87</td>\n",
       "      <td>1.02</td>\n",
       "      <td>1.92</td>\n",
       "      <td>225.4</td>\n",
       "    </tr>\n",
       "    <tr>\n",
       "      <th>420533</th>\n",
       "      <td>31.12.2016 21:10:00</td>\n",
       "      <td>1001.19</td>\n",
       "      <td>-2.75</td>\n",
       "      <td>270.32</td>\n",
       "      <td>-6.90</td>\n",
       "      <td>72.90</td>\n",
       "      <td>4.99</td>\n",
       "      <td>3.64</td>\n",
       "      <td>1.35</td>\n",
       "      <td>2.26</td>\n",
       "      <td>3.63</td>\n",
       "      <td>1288.02</td>\n",
       "      <td>0.71</td>\n",
       "      <td>1.56</td>\n",
       "      <td>158.7</td>\n",
       "    </tr>\n",
       "    <tr>\n",
       "      <th>420539</th>\n",
       "      <td>31.12.2016 22:10:00</td>\n",
       "      <td>1000.65</td>\n",
       "      <td>-2.89</td>\n",
       "      <td>270.22</td>\n",
       "      <td>-7.15</td>\n",
       "      <td>72.30</td>\n",
       "      <td>4.93</td>\n",
       "      <td>3.57</td>\n",
       "      <td>1.37</td>\n",
       "      <td>2.22</td>\n",
       "      <td>3.57</td>\n",
       "      <td>1288.03</td>\n",
       "      <td>0.35</td>\n",
       "      <td>0.68</td>\n",
       "      <td>216.7</td>\n",
       "    </tr>\n",
       "    <tr>\n",
       "      <th>420545</th>\n",
       "      <td>31.12.2016 23:10:00</td>\n",
       "      <td>1000.11</td>\n",
       "      <td>-3.93</td>\n",
       "      <td>269.23</td>\n",
       "      <td>-8.09</td>\n",
       "      <td>72.60</td>\n",
       "      <td>4.56</td>\n",
       "      <td>3.31</td>\n",
       "      <td>1.25</td>\n",
       "      <td>2.06</td>\n",
       "      <td>3.31</td>\n",
       "      <td>1292.41</td>\n",
       "      <td>0.56</td>\n",
       "      <td>1.00</td>\n",
       "      <td>202.6</td>\n",
       "    </tr>\n",
       "  </tbody>\n",
       "</table>\n",
       "<p>70091 rows × 15 columns</p>\n",
       "</div>"
      ],
      "text/plain": [
       "                  Date Time  p (mbar)  T (degC)  Tpot (K)  Tdew (degC)  \\\n",
       "5       01.01.2009 01:00:00    996.50     -8.05    265.38        -8.78   \n",
       "11      01.01.2009 02:00:00    996.62     -8.88    264.54        -9.77   \n",
       "17      01.01.2009 03:00:00    996.84     -8.81    264.59        -9.66   \n",
       "23      01.01.2009 04:00:00    996.99     -9.05    264.34       -10.02   \n",
       "29      01.01.2009 05:00:00    997.46     -9.63    263.72       -10.65   \n",
       "...                     ...       ...       ...       ...          ...   \n",
       "420521  31.12.2016 19:10:00   1002.18     -0.98    272.01        -5.36   \n",
       "420527  31.12.2016 20:10:00   1001.40     -1.40    271.66        -6.84   \n",
       "420533  31.12.2016 21:10:00   1001.19     -2.75    270.32        -6.90   \n",
       "420539  31.12.2016 22:10:00   1000.65     -2.89    270.22        -7.15   \n",
       "420545  31.12.2016 23:10:00   1000.11     -3.93    269.23        -8.09   \n",
       "\n",
       "        rh (%)  VPmax (mbar)  VPact (mbar)  VPdef (mbar)  sh (g/kg)  \\\n",
       "5        94.40          3.33          3.14          0.19       1.96   \n",
       "11       93.20          3.12          2.90          0.21       1.81   \n",
       "17       93.50          3.13          2.93          0.20       1.83   \n",
       "23       92.60          3.07          2.85          0.23       1.78   \n",
       "29       92.20          2.94          2.71          0.23       1.69   \n",
       "...        ...           ...           ...           ...        ...   \n",
       "420521   72.00          5.69          4.09          1.59       2.54   \n",
       "420527   66.29          5.51          3.65          1.86       2.27   \n",
       "420533   72.90          4.99          3.64          1.35       2.26   \n",
       "420539   72.30          4.93          3.57          1.37       2.22   \n",
       "420545   72.60          4.56          3.31          1.25       2.06   \n",
       "\n",
       "        H2OC (mmol/mol)  rho (g/m**3)  wv (m/s)  max. wv (m/s)  wd (deg)  \n",
       "5                  3.15       1307.86      0.21           0.63     192.7  \n",
       "11                 2.91       1312.25      0.25           0.63     190.3  \n",
       "17                 2.94       1312.18      0.18           0.63     167.2  \n",
       "23                 2.85       1313.61      0.10           0.38     240.0  \n",
       "29                 2.71       1317.19      0.40           0.88     157.0  \n",
       "...                 ...           ...       ...            ...       ...  \n",
       "420521             4.08       1280.70      0.87           1.36     190.6  \n",
       "420527             3.65       1281.87      1.02           1.92     225.4  \n",
       "420533             3.63       1288.02      0.71           1.56     158.7  \n",
       "420539             3.57       1288.03      0.35           0.68     216.7  \n",
       "420545             3.31       1292.41      0.56           1.00     202.6  \n",
       "\n",
       "[70091 rows x 15 columns]"
      ]
     },
     "execution_count": 5,
     "metadata": {},
     "output_type": "execute_result"
    }
   ],
   "source": [
    "df = df[5::6]\n",
    "df"
   ]
  },
  {
   "cell_type": "code",
   "execution_count": 6,
   "id": "86b3e20e-069a-4ec6-8ff3-961939521963",
   "metadata": {},
   "outputs": [
    {
     "data": {
      "text/html": [
       "<div>\n",
       "<style scoped>\n",
       "    .dataframe tbody tr th:only-of-type {\n",
       "        vertical-align: middle;\n",
       "    }\n",
       "\n",
       "    .dataframe tbody tr th {\n",
       "        vertical-align: top;\n",
       "    }\n",
       "\n",
       "    .dataframe thead th {\n",
       "        text-align: right;\n",
       "    }\n",
       "</style>\n",
       "<table border=\"1\" class=\"dataframe\">\n",
       "  <thead>\n",
       "    <tr style=\"text-align: right;\">\n",
       "      <th></th>\n",
       "      <th>Date Time</th>\n",
       "      <th>p (mbar)</th>\n",
       "      <th>T (degC)</th>\n",
       "      <th>Tpot (K)</th>\n",
       "      <th>Tdew (degC)</th>\n",
       "      <th>rh (%)</th>\n",
       "      <th>VPmax (mbar)</th>\n",
       "      <th>VPact (mbar)</th>\n",
       "      <th>VPdef (mbar)</th>\n",
       "      <th>sh (g/kg)</th>\n",
       "      <th>H2OC (mmol/mol)</th>\n",
       "      <th>rho (g/m**3)</th>\n",
       "      <th>wv (m/s)</th>\n",
       "      <th>max. wv (m/s)</th>\n",
       "      <th>wd (deg)</th>\n",
       "    </tr>\n",
       "    <tr>\n",
       "      <th>Date Time</th>\n",
       "      <th></th>\n",
       "      <th></th>\n",
       "      <th></th>\n",
       "      <th></th>\n",
       "      <th></th>\n",
       "      <th></th>\n",
       "      <th></th>\n",
       "      <th></th>\n",
       "      <th></th>\n",
       "      <th></th>\n",
       "      <th></th>\n",
       "      <th></th>\n",
       "      <th></th>\n",
       "      <th></th>\n",
       "      <th></th>\n",
       "    </tr>\n",
       "  </thead>\n",
       "  <tbody>\n",
       "    <tr>\n",
       "      <th>2009-01-01 01:00:00</th>\n",
       "      <td>01.01.2009 01:00:00</td>\n",
       "      <td>996.50</td>\n",
       "      <td>-8.05</td>\n",
       "      <td>265.38</td>\n",
       "      <td>-8.78</td>\n",
       "      <td>94.4</td>\n",
       "      <td>3.33</td>\n",
       "      <td>3.14</td>\n",
       "      <td>0.19</td>\n",
       "      <td>1.96</td>\n",
       "      <td>3.15</td>\n",
       "      <td>1307.86</td>\n",
       "      <td>0.21</td>\n",
       "      <td>0.63</td>\n",
       "      <td>192.7</td>\n",
       "    </tr>\n",
       "    <tr>\n",
       "      <th>2009-01-01 02:00:00</th>\n",
       "      <td>01.01.2009 02:00:00</td>\n",
       "      <td>996.62</td>\n",
       "      <td>-8.88</td>\n",
       "      <td>264.54</td>\n",
       "      <td>-9.77</td>\n",
       "      <td>93.2</td>\n",
       "      <td>3.12</td>\n",
       "      <td>2.90</td>\n",
       "      <td>0.21</td>\n",
       "      <td>1.81</td>\n",
       "      <td>2.91</td>\n",
       "      <td>1312.25</td>\n",
       "      <td>0.25</td>\n",
       "      <td>0.63</td>\n",
       "      <td>190.3</td>\n",
       "    </tr>\n",
       "    <tr>\n",
       "      <th>2009-01-01 03:00:00</th>\n",
       "      <td>01.01.2009 03:00:00</td>\n",
       "      <td>996.84</td>\n",
       "      <td>-8.81</td>\n",
       "      <td>264.59</td>\n",
       "      <td>-9.66</td>\n",
       "      <td>93.5</td>\n",
       "      <td>3.13</td>\n",
       "      <td>2.93</td>\n",
       "      <td>0.20</td>\n",
       "      <td>1.83</td>\n",
       "      <td>2.94</td>\n",
       "      <td>1312.18</td>\n",
       "      <td>0.18</td>\n",
       "      <td>0.63</td>\n",
       "      <td>167.2</td>\n",
       "    </tr>\n",
       "    <tr>\n",
       "      <th>2009-01-01 04:00:00</th>\n",
       "      <td>01.01.2009 04:00:00</td>\n",
       "      <td>996.99</td>\n",
       "      <td>-9.05</td>\n",
       "      <td>264.34</td>\n",
       "      <td>-10.02</td>\n",
       "      <td>92.6</td>\n",
       "      <td>3.07</td>\n",
       "      <td>2.85</td>\n",
       "      <td>0.23</td>\n",
       "      <td>1.78</td>\n",
       "      <td>2.85</td>\n",
       "      <td>1313.61</td>\n",
       "      <td>0.10</td>\n",
       "      <td>0.38</td>\n",
       "      <td>240.0</td>\n",
       "    </tr>\n",
       "    <tr>\n",
       "      <th>2009-01-01 05:00:00</th>\n",
       "      <td>01.01.2009 05:00:00</td>\n",
       "      <td>997.46</td>\n",
       "      <td>-9.63</td>\n",
       "      <td>263.72</td>\n",
       "      <td>-10.65</td>\n",
       "      <td>92.2</td>\n",
       "      <td>2.94</td>\n",
       "      <td>2.71</td>\n",
       "      <td>0.23</td>\n",
       "      <td>1.69</td>\n",
       "      <td>2.71</td>\n",
       "      <td>1317.19</td>\n",
       "      <td>0.40</td>\n",
       "      <td>0.88</td>\n",
       "      <td>157.0</td>\n",
       "    </tr>\n",
       "    <tr>\n",
       "      <th>2009-01-01 06:00:00</th>\n",
       "      <td>01.01.2009 06:00:00</td>\n",
       "      <td>997.71</td>\n",
       "      <td>-9.67</td>\n",
       "      <td>263.66</td>\n",
       "      <td>-10.62</td>\n",
       "      <td>92.7</td>\n",
       "      <td>2.93</td>\n",
       "      <td>2.71</td>\n",
       "      <td>0.21</td>\n",
       "      <td>1.69</td>\n",
       "      <td>2.72</td>\n",
       "      <td>1317.71</td>\n",
       "      <td>0.05</td>\n",
       "      <td>0.50</td>\n",
       "      <td>146.0</td>\n",
       "    </tr>\n",
       "  </tbody>\n",
       "</table>\n",
       "</div>"
      ],
      "text/plain": [
       "                               Date Time  p (mbar)  T (degC)  Tpot (K)  \\\n",
       "Date Time                                                                \n",
       "2009-01-01 01:00:00  01.01.2009 01:00:00    996.50     -8.05    265.38   \n",
       "2009-01-01 02:00:00  01.01.2009 02:00:00    996.62     -8.88    264.54   \n",
       "2009-01-01 03:00:00  01.01.2009 03:00:00    996.84     -8.81    264.59   \n",
       "2009-01-01 04:00:00  01.01.2009 04:00:00    996.99     -9.05    264.34   \n",
       "2009-01-01 05:00:00  01.01.2009 05:00:00    997.46     -9.63    263.72   \n",
       "2009-01-01 06:00:00  01.01.2009 06:00:00    997.71     -9.67    263.66   \n",
       "\n",
       "                     Tdew (degC)  rh (%)  VPmax (mbar)  VPact (mbar)  \\\n",
       "Date Time                                                              \n",
       "2009-01-01 01:00:00        -8.78    94.4          3.33          3.14   \n",
       "2009-01-01 02:00:00        -9.77    93.2          3.12          2.90   \n",
       "2009-01-01 03:00:00        -9.66    93.5          3.13          2.93   \n",
       "2009-01-01 04:00:00       -10.02    92.6          3.07          2.85   \n",
       "2009-01-01 05:00:00       -10.65    92.2          2.94          2.71   \n",
       "2009-01-01 06:00:00       -10.62    92.7          2.93          2.71   \n",
       "\n",
       "                     VPdef (mbar)  sh (g/kg)  H2OC (mmol/mol)  rho (g/m**3)  \\\n",
       "Date Time                                                                     \n",
       "2009-01-01 01:00:00          0.19       1.96             3.15       1307.86   \n",
       "2009-01-01 02:00:00          0.21       1.81             2.91       1312.25   \n",
       "2009-01-01 03:00:00          0.20       1.83             2.94       1312.18   \n",
       "2009-01-01 04:00:00          0.23       1.78             2.85       1313.61   \n",
       "2009-01-01 05:00:00          0.23       1.69             2.71       1317.19   \n",
       "2009-01-01 06:00:00          0.21       1.69             2.72       1317.71   \n",
       "\n",
       "                     wv (m/s)  max. wv (m/s)  wd (deg)  \n",
       "Date Time                                               \n",
       "2009-01-01 01:00:00      0.21           0.63     192.7  \n",
       "2009-01-01 02:00:00      0.25           0.63     190.3  \n",
       "2009-01-01 03:00:00      0.18           0.63     167.2  \n",
       "2009-01-01 04:00:00      0.10           0.38     240.0  \n",
       "2009-01-01 05:00:00      0.40           0.88     157.0  \n",
       "2009-01-01 06:00:00      0.05           0.50     146.0  "
      ]
     },
     "execution_count": 6,
     "metadata": {},
     "output_type": "execute_result"
    }
   ],
   "source": [
    "df.index = pd.to_datetime(df['Date Time'], format = '%d.%m.%Y %H:%M:%S')\n",
    "df[:6]"
   ]
  },
  {
   "cell_type": "code",
   "execution_count": 7,
   "id": "4fadb1f1-404e-4dfd-b726-2d1fb9c9079b",
   "metadata": {},
   "outputs": [],
   "source": [
    "df1 = df['T (degC)']"
   ]
  },
  {
   "cell_type": "code",
   "execution_count": 8,
   "id": "c2206863-a26e-4420-9ee9-9e53fe5d85b5",
   "metadata": {},
   "outputs": [
    {
     "data": {
      "text/plain": [
       "<AxesSubplot:xlabel='Date Time'>"
      ]
     },
     "execution_count": 8,
     "metadata": {},
     "output_type": "execute_result"
    },
    {
     "data": {
      "image/png": "[encoded data removed]",
      "text/plain": [
       "<Figure size 432x288 with 1 Axes>"
      ]
     },
     "metadata": {
      "needs_background": "light"
     },
     "output_type": "display_data"
    }
   ],
   "source": [
    "df1.plot()"
   ]
  },
  {
   "cell_type": "markdown",
   "id": "1b57c02c-8fd1-4e88-ae2e-54107c6a973e",
   "metadata": {},
   "source": [
    "### Time-Series Window Generation"
   ]
  },
  {
   "cell_type": "code",
   "execution_count": 9,
   "id": "2b3ef9bd-4aad-4976-b082-a7dfcfb7a5e5",
   "metadata": {},
   "outputs": [],
   "source": [
    "\n",
    "\n",
    "def create_dataset(df, window_size=5):\n",
    "  df_as_np = df.to_numpy()\n",
    "  X = []\n",
    "  y = []\n",
    "  for i in range(len(df_as_np)-window_size):\n",
    "    row = [[a] for a in df_as_np[i:i+window_size]]\n",
    "    X.append(row)\n",
    "    label = df_as_np[i+window_size]\n",
    "    y.append(label)\n",
    "  return np.array(X), np.array(y)"
   ]
  },
  {
   "cell_type": "code",
   "execution_count": 10,
   "id": "14f742e7-a47a-4f32-8c1c-d960ca842ca0",
   "metadata": {},
   "outputs": [
    {
     "data": {
      "text/plain": [
       "((70086, 5, 1), (70086,))"
      ]
     },
     "execution_count": 10,
     "metadata": {},
     "output_type": "execute_result"
    }
   ],
   "source": [
    "window_size = 5\n",
    "X, y = create_dataset(df1, window_size)\n",
    "X.shape, y.shape"
   ]
  },
  {
   "cell_type": "markdown",
   "id": "3b6d02bc-6f89-4283-be62-5e4879c04468",
   "metadata": {},
   "source": [
    "### Data train-test Split"
   ]
  },
  {
   "cell_type": "code",
   "execution_count": 11,
   "id": "6a9131b7-8e88-48aa-9863-33ed8c79ae82",
   "metadata": {},
   "outputs": [
    {
     "data": {
      "text/plain": [
       "((60000, 5, 1), (60000,), (5000, 5, 1), (5000,), (5086, 5, 1), (5086,))"
      ]
     },
     "execution_count": 11,
     "metadata": {},
     "output_type": "execute_result"
    }
   ],
   "source": [
    "X_train, y_train = X[:60000], y[:60000]\n",
    "X_val, y_val = X[60000:65000], y[60000:65000]\n",
    "X_test, y_test = X[65000:], y[65000:]\n",
    "X_train.shape, y_train.shape, X_val.shape, y_val.shape, X_test.shape, y_test.shape"
   ]
  },
  {
   "cell_type": "markdown",
   "id": "d3db65de-5690-4588-8982-e3f3ba8a1735",
   "metadata": {},
   "source": [
    "### Modelling x Callbacks"
   ]
  },
  {
   "cell_type": "code",
   "execution_count": 12,
   "id": "c67e5915-bcc2-4099-a2c5-cad644c41aed",
   "metadata": {},
   "outputs": [],
   "source": [
    "from tensorflow.keras.models import Sequential\n",
    "from tensorflow.keras.layers import *\n",
    "from tensorflow.keras.callbacks import ModelCheckpoint\n",
    "from tensorflow.keras.losses import MeanSquaredError\n",
    "from tensorflow.keras.metrics import RootMeanSquaredError\n",
    "from tensorflow.keras.optimizers import Adam"
   ]
  },
  {
   "cell_type": "code",
   "execution_count": 13,
   "id": "c20e49b4-2dac-4041-8f70-f5996602385f",
   "metadata": {},
   "outputs": [
    {
     "name": "stdout",
     "output_type": "stream",
     "text": [
      "Model: \"sequential\"\n",
      "_________________________________________________________________\n",
      " Layer (type)                Output Shape              Param #   \n",
      "=================================================================\n",
      " lstm (LSTM)                 (None, 64)                16896     \n",
      "                                                                 \n",
      " dense (Dense)               (None, 8)                 520       \n",
      "                                                                 \n",
      " dense_1 (Dense)             (None, 1)                 9         \n",
      "                                                                 \n",
      "=================================================================\n",
      "Total params: 17,425\n",
      "Trainable params: 17,425\n",
      "Non-trainable params: 0\n",
      "_________________________________________________________________\n"
     ]
    }
   ],
   "source": [
    "model = Sequential()\n",
    "model.add(InputLayer((5, 1)))\n",
    "model.add(LSTM(64))\n",
    "model.add(Dense(8, 'relu'))\n",
    "model.add(Dense(1, 'linear'))\n",
    "\n",
    "model.summary()"
   ]
  },
  {
   "cell_type": "code",
   "execution_count": 14,
   "id": "3a0cfb0f-afd7-411c-add3-f8af97d44e44",
   "metadata": {},
   "outputs": [],
   "source": [
    "cp1 = ModelCheckpoint('model/', save_best_only=True)\n",
    "model.compile(loss=MeanSquaredError(), optimizer=Adam(learning_rate=0.0001), metrics=[RootMeanSquaredError()])"
   ]
  },
  {
   "cell_type": "code",
   "execution_count": 15,
   "id": "2d88b9cc-8898-4f66-a34a-4293ea1d8985",
   "metadata": {},
   "outputs": [
    {
     "name": "stdout",
     "output_type": "stream",
     "text": [
      "Epoch 1/12\n",
      "1875/1875 [==============================] - ETA: 0s - loss: 96.9206 - root_mean_squared_error: 9.8448"
     ]
    },
    {
     "name": "stderr",
     "output_type": "stream",
     "text": [
      "WARNING:absl:Found untraced functions such as lstm_cell_layer_call_fn, lstm_cell_layer_call_and_return_conditional_losses while saving (showing 2 of 2). These functions will not be directly callable after loading.\n"
     ]
    },
    {
     "name": "stdout",
     "output_type": "stream",
     "text": [
      "INFO:tensorflow:Assets written to: model\\assets\n"
     ]
    },
    {
     "name": "stderr",
     "output_type": "stream",
     "text": [
      "INFO:tensorflow:Assets written to: model\\assets\n",
      "WARNING:absl:<keras.layers.recurrent.LSTMCell object at 0x00000253ED78C0D0> has the same name 'LSTMCell' as a built-in Keras object. Consider renaming <class 'keras.layers.recurrent.LSTMCell'> to avoid naming conflicts when loading with `tf.keras.models.load_model`. If renaming is not possible, pass the object in the `custom_objects` parameter of the load function.\n"
     ]
    },
    {
     "name": "stdout",
     "output_type": "stream",
     "text": [
      "1875/1875 [==============================] - 12s 5ms/step - loss: 96.9206 - root_mean_squared_error: 9.8448 - val_loss: 7.7739 - val_root_mean_squared_error: 2.7882\n",
      "Epoch 2/12\n",
      "1869/1875 [============================>.] - ETA: 0s - loss: 12.2745 - root_mean_squared_error: 3.5035"
     ]
    },
    {
     "name": "stderr",
     "output_type": "stream",
     "text": [
      "WARNING:absl:Found untraced functions such as lstm_cell_layer_call_fn, lstm_cell_layer_call_and_return_conditional_losses while saving (showing 2 of 2). These functions will not be directly callable after loading.\n"
     ]
    },
    {
     "name": "stdout",
     "output_type": "stream",
     "text": [
      "INFO:tensorflow:Assets written to: model\\assets\n"
     ]
    },
    {
     "name": "stderr",
     "output_type": "stream",
     "text": [
      "INFO:tensorflow:Assets written to: model\\assets\n",
      "WARNING:absl:<keras.layers.recurrent.LSTMCell object at 0x00000253ED78C0D0> has the same name 'LSTMCell' as a built-in Keras object. Consider renaming <class 'keras.layers.recurrent.LSTMCell'> to avoid naming conflicts when loading with `tf.keras.models.load_model`. If renaming is not possible, pass the object in the `custom_objects` parameter of the load function.\n"
     ]
    },
    {
     "name": "stdout",
     "output_type": "stream",
     "text": [
      "1875/1875 [==============================] - 9s 5ms/step - loss: 12.2448 - root_mean_squared_error: 3.4993 - val_loss: 0.9448 - val_root_mean_squared_error: 0.9720\n",
      "Epoch 3/12\n",
      "1864/1875 [============================>.] - ETA: 0s - loss: 2.3387 - root_mean_squared_error: 1.5293"
     ]
    },
    {
     "name": "stderr",
     "output_type": "stream",
     "text": [
      "WARNING:absl:Found untraced functions such as lstm_cell_layer_call_fn, lstm_cell_layer_call_and_return_conditional_losses while saving (showing 2 of 2). These functions will not be directly callable after loading.\n"
     ]
    },
    {
     "name": "stdout",
     "output_type": "stream",
     "text": [
      "INFO:tensorflow:Assets written to: model\\assets\n"
     ]
    },
    {
     "name": "stderr",
     "output_type": "stream",
     "text": [
      "INFO:tensorflow:Assets written to: model\\assets\n",
      "WARNING:absl:<keras.layers.recurrent.LSTMCell object at 0x00000253ED78C0D0> has the same name 'LSTMCell' as a built-in Keras object. Consider renaming <class 'keras.layers.recurrent.LSTMCell'> to avoid naming conflicts when loading with `tf.keras.models.load_model`. If renaming is not possible, pass the object in the `custom_objects` parameter of the load function.\n"
     ]
    },
    {
     "name": "stdout",
     "output_type": "stream",
     "text": [
      "1875/1875 [==============================] - 9s 5ms/step - loss: 2.3328 - root_mean_squared_error: 1.5274 - val_loss: 0.5794 - val_root_mean_squared_error: 0.7612\n",
      "Epoch 4/12\n",
      "1875/1875 [==============================] - ETA: 0s - loss: 1.0310 - root_mean_squared_error: 1.0154"
     ]
    },
    {
     "name": "stderr",
     "output_type": "stream",
     "text": [
      "WARNING:absl:Found untraced functions such as lstm_cell_layer_call_fn, lstm_cell_layer_call_and_return_conditional_losses while saving (showing 2 of 2). These functions will not be directly callable after loading.\n"
     ]
    },
    {
     "name": "stdout",
     "output_type": "stream",
     "text": [
      "INFO:tensorflow:Assets written to: model\\assets\n"
     ]
    },
    {
     "name": "stderr",
     "output_type": "stream",
     "text": [
      "INFO:tensorflow:Assets written to: model\\assets\n",
      "WARNING:absl:<keras.layers.recurrent.LSTMCell object at 0x00000253ED78C0D0> has the same name 'LSTMCell' as a built-in Keras object. Consider renaming <class 'keras.layers.recurrent.LSTMCell'> to avoid naming conflicts when loading with `tf.keras.models.load_model`. If renaming is not possible, pass the object in the `custom_objects` parameter of the load function.\n"
     ]
    },
    {
     "name": "stdout",
     "output_type": "stream",
     "text": [
      "1875/1875 [==============================] - 11s 6ms/step - loss: 1.0310 - root_mean_squared_error: 1.0154 - val_loss: 0.5157 - val_root_mean_squared_error: 0.7182\n",
      "Epoch 5/12\n",
      "1866/1875 [============================>.] - ETA: 0s - loss: 0.7630 - root_mean_squared_error: 0.8735"
     ]
    },
    {
     "name": "stderr",
     "output_type": "stream",
     "text": [
      "WARNING:absl:Found untraced functions such as lstm_cell_layer_call_fn, lstm_cell_layer_call_and_return_conditional_losses while saving (showing 2 of 2). These functions will not be directly callable after loading.\n"
     ]
    },
    {
     "name": "stdout",
     "output_type": "stream",
     "text": [
      "INFO:tensorflow:Assets written to: model\\assets\n"
     ]
    },
    {
     "name": "stderr",
     "output_type": "stream",
     "text": [
      "INFO:tensorflow:Assets written to: model\\assets\n",
      "WARNING:absl:<keras.layers.recurrent.LSTMCell object at 0x00000253ED78C0D0> has the same name 'LSTMCell' as a built-in Keras object. Consider renaming <class 'keras.layers.recurrent.LSTMCell'> to avoid naming conflicts when loading with `tf.keras.models.load_model`. If renaming is not possible, pass the object in the `custom_objects` parameter of the load function.\n"
     ]
    },
    {
     "name": "stdout",
     "output_type": "stream",
     "text": [
      "1875/1875 [==============================] - 9s 5ms/step - loss: 0.7630 - root_mean_squared_error: 0.8735 - val_loss: 0.5025 - val_root_mean_squared_error: 0.7089\n",
      "Epoch 6/12\n",
      "1875/1875 [==============================] - 6s 3ms/step - loss: 0.6904 - root_mean_squared_error: 0.8309 - val_loss: 0.5431 - val_root_mean_squared_error: 0.7370\n",
      "Epoch 7/12\n",
      "1870/1875 [============================>.] - ETA: 0s - loss: 0.6661 - root_mean_squared_error: 0.8162"
     ]
    },
    {
     "name": "stderr",
     "output_type": "stream",
     "text": [
      "WARNING:absl:Found untraced functions such as lstm_cell_layer_call_fn, lstm_cell_layer_call_and_return_conditional_losses while saving (showing 2 of 2). These functions will not be directly callable after loading.\n"
     ]
    },
    {
     "name": "stdout",
     "output_type": "stream",
     "text": [
      "INFO:tensorflow:Assets written to: model\\assets\n"
     ]
    },
    {
     "name": "stderr",
     "output_type": "stream",
     "text": [
      "INFO:tensorflow:Assets written to: model\\assets\n",
      "WARNING:absl:<keras.layers.recurrent.LSTMCell object at 0x00000253ED78C0D0> has the same name 'LSTMCell' as a built-in Keras object. Consider renaming <class 'keras.layers.recurrent.LSTMCell'> to avoid naming conflicts when loading with `tf.keras.models.load_model`. If renaming is not possible, pass the object in the `custom_objects` parameter of the load function.\n"
     ]
    },
    {
     "name": "stdout",
     "output_type": "stream",
     "text": [
      "1875/1875 [==============================] - 9s 5ms/step - loss: 0.6664 - root_mean_squared_error: 0.8163 - val_loss: 0.4952 - val_root_mean_squared_error: 0.7037\n",
      "Epoch 8/12\n",
      "1874/1875 [============================>.] - ETA: 0s - loss: 0.6550 - root_mean_squared_error: 0.8093"
     ]
    },
    {
     "name": "stderr",
     "output_type": "stream",
     "text": [
      "WARNING:absl:Found untraced functions such as lstm_cell_layer_call_fn, lstm_cell_layer_call_and_return_conditional_losses while saving (showing 2 of 2). These functions will not be directly callable after loading.\n"
     ]
    },
    {
     "name": "stdout",
     "output_type": "stream",
     "text": [
      "INFO:tensorflow:Assets written to: model\\assets\n"
     ]
    },
    {
     "name": "stderr",
     "output_type": "stream",
     "text": [
      "INFO:tensorflow:Assets written to: model\\assets\n",
      "WARNING:absl:<keras.layers.recurrent.LSTMCell object at 0x00000253ED78C0D0> has the same name 'LSTMCell' as a built-in Keras object. Consider renaming <class 'keras.layers.recurrent.LSTMCell'> to avoid naming conflicts when loading with `tf.keras.models.load_model`. If renaming is not possible, pass the object in the `custom_objects` parameter of the load function.\n"
     ]
    },
    {
     "name": "stdout",
     "output_type": "stream",
     "text": [
      "1875/1875 [==============================] - 10s 5ms/step - loss: 0.6550 - root_mean_squared_error: 0.8093 - val_loss: 0.4888 - val_root_mean_squared_error: 0.6992\n",
      "Epoch 9/12\n",
      "1875/1875 [==============================] - 5s 3ms/step - loss: 0.6496 - root_mean_squared_error: 0.8060 - val_loss: 0.4909 - val_root_mean_squared_error: 0.7006\n",
      "Epoch 10/12\n",
      "1875/1875 [==============================] - 6s 3ms/step - loss: 0.6462 - root_mean_squared_error: 0.8039 - val_loss: 0.5000 - val_root_mean_squared_error: 0.7071\n",
      "Epoch 11/12\n",
      "1869/1875 [============================>.] - ETA: 0s - loss: 0.6429 - root_mean_squared_error: 0.8018"
     ]
    },
    {
     "name": "stderr",
     "output_type": "stream",
     "text": [
      "WARNING:absl:Found untraced functions such as lstm_cell_layer_call_fn, lstm_cell_layer_call_and_return_conditional_losses while saving (showing 2 of 2). These functions will not be directly callable after loading.\n"
     ]
    },
    {
     "name": "stdout",
     "output_type": "stream",
     "text": [
      "INFO:tensorflow:Assets written to: model\\assets\n"
     ]
    },
    {
     "name": "stderr",
     "output_type": "stream",
     "text": [
      "INFO:tensorflow:Assets written to: model\\assets\n",
      "WARNING:absl:<keras.layers.recurrent.LSTMCell object at 0x00000253ED78C0D0> has the same name 'LSTMCell' as a built-in Keras object. Consider renaming <class 'keras.layers.recurrent.LSTMCell'> to avoid naming conflicts when loading with `tf.keras.models.load_model`. If renaming is not possible, pass the object in the `custom_objects` parameter of the load function.\n"
     ]
    },
    {
     "name": "stdout",
     "output_type": "stream",
     "text": [
      "1875/1875 [==============================] - 9s 5ms/step - loss: 0.6434 - root_mean_squared_error: 0.8021 - val_loss: 0.4830 - val_root_mean_squared_error: 0.6950\n",
      "Epoch 12/12\n",
      "1875/1875 [==============================] - 6s 3ms/step - loss: 0.6409 - root_mean_squared_error: 0.8006 - val_loss: 0.4838 - val_root_mean_squared_error: 0.6955\n"
     ]
    },
    {
     "data": {
      "text/plain": [
       "<keras.callbacks.History at 0x253e6764b20>"
      ]
     },
     "execution_count": 15,
     "metadata": {},
     "output_type": "execute_result"
    }
   ],
   "source": [
    "model.fit(X_train, y_train, validation_data=(X_val, y_val), epochs=12, callbacks=[cp1])"
   ]
  },
  {
   "cell_type": "markdown",
   "id": "f772f1ea-54a9-47ec-bcbc-2b6435fba6cd",
   "metadata": {},
   "source": [
    "### Predictions x Results Viz"
   ]
  },
  {
   "cell_type": "code",
   "execution_count": 16,
   "id": "62505b88-a97d-4ba6-9eef-7906071de2a6",
   "metadata": {},
   "outputs": [],
   "source": [
    "from tensorflow.keras.models import load_model\n",
    "model = load_model('model')"
   ]
  },
  {
   "cell_type": "code",
   "execution_count": 17,
   "id": "775dd635-de74-4a9f-b6de-3ef7b7c03cbc",
   "metadata": {},
   "outputs": [
    {
     "data": {
      "text/html": [
       "<div>\n",
       "<style scoped>\n",
       "    .dataframe tbody tr th:only-of-type {\n",
       "        vertical-align: middle;\n",
       "    }\n",
       "\n",
       "    .dataframe tbody tr th {\n",
       "        vertical-align: top;\n",
       "    }\n",
       "\n",
       "    .dataframe thead th {\n",
       "        text-align: right;\n",
       "    }\n",
       "</style>\n",
       "<table border=\"1\" class=\"dataframe\">\n",
       "  <thead>\n",
       "    <tr style=\"text-align: right;\">\n",
       "      <th></th>\n",
       "      <th>Train Predictions</th>\n",
       "      <th>Actuals</th>\n",
       "    </tr>\n",
       "  </thead>\n",
       "  <tbody>\n",
       "    <tr>\n",
       "      <th>0</th>\n",
       "      <td>-9.957811</td>\n",
       "      <td>-9.67</td>\n",
       "    </tr>\n",
       "    <tr>\n",
       "      <th>1</th>\n",
       "      <td>-9.741530</td>\n",
       "      <td>-9.17</td>\n",
       "    </tr>\n",
       "    <tr>\n",
       "      <th>2</th>\n",
       "      <td>-8.840203</td>\n",
       "      <td>-8.10</td>\n",
       "    </tr>\n",
       "    <tr>\n",
       "      <th>3</th>\n",
       "      <td>-7.372804</td>\n",
       "      <td>-7.66</td>\n",
       "    </tr>\n",
       "    <tr>\n",
       "      <th>4</th>\n",
       "      <td>-7.201422</td>\n",
       "      <td>-7.04</td>\n",
       "    </tr>\n",
       "    <tr>\n",
       "      <th>...</th>\n",
       "      <td>...</td>\n",
       "      <td>...</td>\n",
       "    </tr>\n",
       "    <tr>\n",
       "      <th>59995</th>\n",
       "      <td>6.082879</td>\n",
       "      <td>6.07</td>\n",
       "    </tr>\n",
       "    <tr>\n",
       "      <th>59996</th>\n",
       "      <td>7.174989</td>\n",
       "      <td>9.88</td>\n",
       "    </tr>\n",
       "    <tr>\n",
       "      <th>59997</th>\n",
       "      <td>12.125348</td>\n",
       "      <td>13.53</td>\n",
       "    </tr>\n",
       "    <tr>\n",
       "      <th>59998</th>\n",
       "      <td>15.739516</td>\n",
       "      <td>15.43</td>\n",
       "    </tr>\n",
       "    <tr>\n",
       "      <th>59999</th>\n",
       "      <td>16.349472</td>\n",
       "      <td>15.54</td>\n",
       "    </tr>\n",
       "  </tbody>\n",
       "</table>\n",
       "<p>60000 rows × 2 columns</p>\n",
       "</div>"
      ],
      "text/plain": [
       "       Train Predictions  Actuals\n",
       "0              -9.957811    -9.67\n",
       "1              -9.741530    -9.17\n",
       "2              -8.840203    -8.10\n",
       "3              -7.372804    -7.66\n",
       "4              -7.201422    -7.04\n",
       "...                  ...      ...\n",
       "59995           6.082879     6.07\n",
       "59996           7.174989     9.88\n",
       "59997          12.125348    13.53\n",
       "59998          15.739516    15.43\n",
       "59999          16.349472    15.54\n",
       "\n",
       "[60000 rows x 2 columns]"
      ]
     },
     "execution_count": 17,
     "metadata": {},
     "output_type": "execute_result"
    }
   ],
   "source": [
    "train_predictions = model.predict(X_train).flatten()\n",
    "train_results = pd.DataFrame(data={'Train Predictions':train_predictions, 'Actuals':y_train})\n",
    "train_results"
   ]
  },
  {
   "cell_type": "code",
   "execution_count": 18,
   "id": "e5bb9598-e9b2-4c4b-8108-97e5a48264df",
   "metadata": {},
   "outputs": [
    {
     "data": {
      "text/plain": [
       "[<matplotlib.lines.Line2D at 0x253842f9ca0>]"
      ]
     },
     "execution_count": 18,
     "metadata": {},
     "output_type": "execute_result"
    },
    {
     "data": {
      "image/png": "[encoded data removed]",
      "text/plain": [
       "<Figure size 432x288 with 1 Axes>"
      ]
     },
     "metadata": {
      "needs_background": "light"
     },
     "output_type": "display_data"
    }
   ],
   "source": [
    "import matplotlib.pyplot as plt\n",
    "plt.plot(train_results['Train Predictions'][50:100])\n",
    "plt.plot(train_results['Actuals'][50:100])"
   ]
  },
  {
   "cell_type": "code",
   "execution_count": 19,
   "id": "c4010f1d-e56c-4a60-a5b5-6a2094fdc85e",
   "metadata": {},
   "outputs": [
    {
     "data": {
      "text/html": [
       "<div>\n",
       "<style scoped>\n",
       "    .dataframe tbody tr th:only-of-type {\n",
       "        vertical-align: middle;\n",
       "    }\n",
       "\n",
       "    .dataframe tbody tr th {\n",
       "        vertical-align: top;\n",
       "    }\n",
       "\n",
       "    .dataframe thead th {\n",
       "        text-align: right;\n",
       "    }\n",
       "</style>\n",
       "<table border=\"1\" class=\"dataframe\">\n",
       "  <thead>\n",
       "    <tr style=\"text-align: right;\">\n",
       "      <th></th>\n",
       "      <th>Val Predictions</th>\n",
       "      <th>Actuals</th>\n",
       "    </tr>\n",
       "  </thead>\n",
       "  <tbody>\n",
       "    <tr>\n",
       "      <th>0</th>\n",
       "      <td>15.523746</td>\n",
       "      <td>14.02</td>\n",
       "    </tr>\n",
       "    <tr>\n",
       "      <th>1</th>\n",
       "      <td>13.245414</td>\n",
       "      <td>13.67</td>\n",
       "    </tr>\n",
       "    <tr>\n",
       "      <th>2</th>\n",
       "      <td>12.967385</td>\n",
       "      <td>12.27</td>\n",
       "    </tr>\n",
       "    <tr>\n",
       "      <th>3</th>\n",
       "      <td>11.410678</td>\n",
       "      <td>11.19</td>\n",
       "    </tr>\n",
       "    <tr>\n",
       "      <th>4</th>\n",
       "      <td>10.355401</td>\n",
       "      <td>10.85</td>\n",
       "    </tr>\n",
       "    <tr>\n",
       "      <th>...</th>\n",
       "      <td>...</td>\n",
       "      <td>...</td>\n",
       "    </tr>\n",
       "    <tr>\n",
       "      <th>4995</th>\n",
       "      <td>17.438112</td>\n",
       "      <td>18.27</td>\n",
       "    </tr>\n",
       "    <tr>\n",
       "      <th>4996</th>\n",
       "      <td>17.329201</td>\n",
       "      <td>17.85</td>\n",
       "    </tr>\n",
       "    <tr>\n",
       "      <th>4997</th>\n",
       "      <td>17.202988</td>\n",
       "      <td>16.65</td>\n",
       "    </tr>\n",
       "    <tr>\n",
       "      <th>4998</th>\n",
       "      <td>15.849868</td>\n",
       "      <td>15.85</td>\n",
       "    </tr>\n",
       "    <tr>\n",
       "      <th>4999</th>\n",
       "      <td>14.996454</td>\n",
       "      <td>15.09</td>\n",
       "    </tr>\n",
       "  </tbody>\n",
       "</table>\n",
       "<p>5000 rows × 2 columns</p>\n",
       "</div>"
      ],
      "text/plain": [
       "      Val Predictions  Actuals\n",
       "0           15.523746    14.02\n",
       "1           13.245414    13.67\n",
       "2           12.967385    12.27\n",
       "3           11.410678    11.19\n",
       "4           10.355401    10.85\n",
       "...               ...      ...\n",
       "4995        17.438112    18.27\n",
       "4996        17.329201    17.85\n",
       "4997        17.202988    16.65\n",
       "4998        15.849868    15.85\n",
       "4999        14.996454    15.09\n",
       "\n",
       "[5000 rows x 2 columns]"
      ]
     },
     "execution_count": 19,
     "metadata": {},
     "output_type": "execute_result"
    }
   ],
   "source": [
    "val_predictions = model.predict(X_val).flatten()\n",
    "val_results = pd.DataFrame(data={'Val Predictions':val_predictions, 'Actuals':y_val})\n",
    "val_results"
   ]
  },
  {
   "cell_type": "code",
   "execution_count": 20,
   "id": "340207d6-6039-464b-92e9-f9e6b276567c",
   "metadata": {},
   "outputs": [
    {
     "data": {
      "text/plain": [
       "[<matplotlib.lines.Line2D at 0x2538435bd00>]"
      ]
     },
     "execution_count": 20,
     "metadata": {},
     "output_type": "execute_result"
    },
    {
     "data": {
      "image/png": "[encoded data removed]",
      "text/plain": [
       "<Figure size 432x288 with 1 Axes>"
      ]
     },
     "metadata": {
      "needs_background": "light"
     },
     "output_type": "display_data"
    }
   ],
   "source": [
    "plt.plot(val_results['Val Predictions'][:100])\n",
    "plt.plot(val_results['Actuals'][:100])"
   ]
  },
  {
   "cell_type": "code",
   "execution_count": 21,
   "id": "f7358d79-2c3a-43d4-9e45-6f6cf3d35664",
   "metadata": {},
   "outputs": [
    {
     "data": {
      "text/html": [
       "<div>\n",
       "<style scoped>\n",
       "    .dataframe tbody tr th:only-of-type {\n",
       "        vertical-align: middle;\n",
       "    }\n",
       "\n",
       "    .dataframe tbody tr th {\n",
       "        vertical-align: top;\n",
       "    }\n",
       "\n",
       "    .dataframe thead th {\n",
       "        text-align: right;\n",
       "    }\n",
       "</style>\n",
       "<table border=\"1\" class=\"dataframe\">\n",
       "  <thead>\n",
       "    <tr style=\"text-align: right;\">\n",
       "      <th></th>\n",
       "      <th>Test Predictions</th>\n",
       "      <th>Actuals</th>\n",
       "    </tr>\n",
       "  </thead>\n",
       "  <tbody>\n",
       "    <tr>\n",
       "      <th>0</th>\n",
       "      <td>14.317657</td>\n",
       "      <td>13.99</td>\n",
       "    </tr>\n",
       "    <tr>\n",
       "      <th>1</th>\n",
       "      <td>13.151199</td>\n",
       "      <td>13.46</td>\n",
       "    </tr>\n",
       "    <tr>\n",
       "      <th>2</th>\n",
       "      <td>12.813556</td>\n",
       "      <td>12.93</td>\n",
       "    </tr>\n",
       "    <tr>\n",
       "      <th>3</th>\n",
       "      <td>12.440071</td>\n",
       "      <td>12.43</td>\n",
       "    </tr>\n",
       "    <tr>\n",
       "      <th>4</th>\n",
       "      <td>12.000203</td>\n",
       "      <td>12.17</td>\n",
       "    </tr>\n",
       "    <tr>\n",
       "      <th>...</th>\n",
       "      <td>...</td>\n",
       "      <td>...</td>\n",
       "    </tr>\n",
       "    <tr>\n",
       "      <th>5081</th>\n",
       "      <td>-1.141928</td>\n",
       "      <td>-0.98</td>\n",
       "    </tr>\n",
       "    <tr>\n",
       "      <th>5082</th>\n",
       "      <td>-1.407380</td>\n",
       "      <td>-1.40</td>\n",
       "    </tr>\n",
       "    <tr>\n",
       "      <th>5083</th>\n",
       "      <td>-1.605908</td>\n",
       "      <td>-2.75</td>\n",
       "    </tr>\n",
       "    <tr>\n",
       "      <th>5084</th>\n",
       "      <td>-3.087414</td>\n",
       "      <td>-2.89</td>\n",
       "    </tr>\n",
       "    <tr>\n",
       "      <th>5085</th>\n",
       "      <td>-3.146893</td>\n",
       "      <td>-3.93</td>\n",
       "    </tr>\n",
       "  </tbody>\n",
       "</table>\n",
       "<p>5086 rows × 2 columns</p>\n",
       "</div>"
      ],
      "text/plain": [
       "      Test Predictions  Actuals\n",
       "0            14.317657    13.99\n",
       "1            13.151199    13.46\n",
       "2            12.813556    12.93\n",
       "3            12.440071    12.43\n",
       "4            12.000203    12.17\n",
       "...                ...      ...\n",
       "5081         -1.141928    -0.98\n",
       "5082         -1.407380    -1.40\n",
       "5083         -1.605908    -2.75\n",
       "5084         -3.087414    -2.89\n",
       "5085         -3.146893    -3.93\n",
       "\n",
       "[5086 rows x 2 columns]"
      ]
     },
     "execution_count": 21,
     "metadata": {},
     "output_type": "execute_result"
    }
   ],
   "source": [
    "test_predictions = model.predict(X_test).flatten()\n",
    "test_results = pd.DataFrame(data={'Test Predictions':test_predictions, 'Actuals':y_test})\n",
    "test_results"
   ]
  },
  {
   "cell_type": "code",
   "execution_count": 22,
   "id": "1da959be-e3c1-46e0-9d6d-b30ddeb5d52a",
   "metadata": {},
   "outputs": [
    {
     "data": {
      "text/plain": [
       "[<matplotlib.lines.Line2D at 0x253eda4e5b0>]"
      ]
     },
     "execution_count": 22,
     "metadata": {},
     "output_type": "execute_result"
    },
    {
     "data": {
      "image/png": "[encoded data removed]",
      "text/plain": [
       "<Figure size 432x288 with 1 Axes>"
      ]
     },
     "metadata": {
      "needs_background": "light"
     },
     "output_type": "display_data"
    }
   ],
   "source": [
    "plt.plot(test_results['Test Predictions'][:100])\n",
    "plt.plot(test_results['Actuals'][:100])"
   ]
  },
  {
   "cell_type": "code",
   "execution_count": null,
   "id": "ba065847-0fdb-4a7e-aa08-3d6fb50ef751",
   "metadata": {},
   "outputs": [],
   "source": []
  }
 ],
 "metadata": {
  "kernelspec": {
   "display_name": "Python 3 (ipykernel)",
   "language": "python",
   "name": "python3"
  },
  "language_info": {
   "codemirror_mode": {
    "name": "ipython",
    "version": 3
   },
   "file_extension": ".py",
   "mimetype": "text/x-python",
   "name": "python",
   "nbconvert_exporter": "python",
   "pygments_lexer": "ipython3",
   "version": "3.9.7"
  }
 },
 "nbformat": 4,
 "nbformat_minor": 5
}
