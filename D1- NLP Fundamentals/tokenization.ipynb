{
 "cells": [
  {
   "cell_type": "markdown",
   "id": "6df9466f-f203-4dfe-8107-294d231b5553",
   "metadata": {},
   "source": [
    "## Tokenization"
   ]
  },
  {
   "cell_type": "code",
   "execution_count": 7,
   "id": "36e24a6e-fb31-4f37-9045-661f962aea0c",
   "metadata": {},
   "outputs": [],
   "source": [
    "import nltk"
   ]
  },
  {
   "cell_type": "markdown",
   "id": "63d40966-8978-4303-9210-dc594766aef7",
   "metadata": {},
   "source": [
    "### Text Excerpt"
   ]
  },
  {
   "cell_type": "code",
   "execution_count": 8,
   "id": "12dab863-223c-4b09-a6d9-e2477cc9a54a",
   "metadata": {},
   "outputs": [],
   "source": [
    "corpus = \"In late 1886, a gaggle of workers from the Woolwich Arsenal Armament Factory decided to form a football team. They called themselves Dial Square as a reference to the sundial atop the entrance to the factory. On December 11, 1886, Dial Square romped to a 6-0 victory over Eastern Wanderers; the first game in their initial guise. Shortly afterwards the name ‘Royal Arsenal’ was adopted. A group of players from Nottingham Forest joined the Club and this connection with the future European Cup winners would spawn Arsenal’s famous red shirts. The group approached their former club, who had been formed some 20 years earlier, for spare kit. Forest duly obliged and Arsenal, dipped in red, never looked back.\""
   ]
  },
  {
   "cell_type": "markdown",
   "id": "71ebca0d-1a1a-4850-96aa-0ed6d3de39c9",
   "metadata": {},
   "source": [
    "### Sentence Tokenizer"
   ]
  },
  {
   "cell_type": "code",
   "execution_count": 9,
   "id": "bbb5a942-fe2f-41c5-8e7e-92e1546b318f",
   "metadata": {},
   "outputs": [],
   "source": [
    "phrases = nltk.sent_tokenize(corpus)"
   ]
  },
  {
   "cell_type": "code",
   "execution_count": 10,
   "id": "a411e66f-3ee1-4425-ac96-2d685c41b96c",
   "metadata": {},
   "outputs": [
    {
     "data": {
      "text/plain": [
       "['In late 1886, a gaggle of workers from the Woolwich Arsenal Armament Factory decided to form a football team.',\n",
       " 'They called themselves Dial Square as a reference to the sundial atop the entrance to the factory.',\n",
       " 'On December 11, 1886, Dial Square romped to a 6-0 victory over Eastern Wanderers; the first game in their initial guise.',\n",
       " 'Shortly afterwards the name ‘Royal Arsenal’ was adopted.',\n",
       " 'A group of players from Nottingham Forest joined the Club and this connection with the future European Cup winners would spawn Arsenal’s famous red shirts.',\n",
       " 'The group approached their former club, who had been formed some 20 years earlier, for spare kit.',\n",
       " 'Forest duly obliged and Arsenal, dipped in red, never looked back.']"
      ]
     },
     "execution_count": 10,
     "metadata": {},
     "output_type": "execute_result"
    }
   ],
   "source": [
    "phrases"
   ]
  },
  {
   "cell_type": "markdown",
   "id": "c5fe8b9a-5e42-47fb-b5e5-fc2ca77bbaed",
   "metadata": {},
   "source": [
    "### Word Tokenizer"
   ]
  },
  {
   "cell_type": "code",
   "execution_count": 11,
   "id": "d92b0d78-5b6a-43d5-9a89-7c8a4fa0bc2c",
   "metadata": {},
   "outputs": [],
   "source": [
    "words = nltk.word_tokenize(corpus)"
   ]
  },
  {
   "cell_type": "code",
   "execution_count": 12,
   "id": "4665d983-4435-4f33-a1af-7a3df66d8718",
   "metadata": {},
   "outputs": [
    {
     "data": {
      "text/plain": [
       "['In', 'late', '1886', ',', 'a']"
      ]
     },
     "execution_count": 12,
     "metadata": {},
     "output_type": "execute_result"
    }
   ],
   "source": [
    "words[0:5]"
   ]
  }
 ],
 "metadata": {
  "kernelspec": {
   "display_name": "Python 3 (ipykernel)",
   "language": "python",
   "name": "python3"
  },
  "language_info": {
   "codemirror_mode": {
    "name": "ipython",
    "version": 3
   },
   "file_extension": ".py",
   "mimetype": "text/x-python",
   "name": "python",
   "nbconvert_exporter": "python",
   "pygments_lexer": "ipython3",
   "version": "3.9.7"
  }
 },
 "nbformat": 4,
 "nbformat_minor": 5
}
