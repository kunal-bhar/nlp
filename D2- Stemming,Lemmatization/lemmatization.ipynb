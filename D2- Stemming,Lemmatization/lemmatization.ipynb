{
 "cells": [
  {
   "cell_type": "code",
   "execution_count": 1,
   "id": "9d85c92d-07ac-418d-990a-e5b8d281788b",
   "metadata": {},
   "outputs": [],
   "source": [
    "import  nltk\n",
    "from nltk.stem import WordNetLemmatizer\n",
    "from nltk.corpus import stopwords"
   ]
  },
  {
   "cell_type": "code",
   "execution_count": 2,
   "id": "d05c560a-879f-497a-8ede-349c8e90b926",
   "metadata": {},
   "outputs": [],
   "source": [
    "corpus = \"Life doesn’t have to be so damn hard. It really doesn’t. Most people, my past self included, have spent too much time convincing themselves that life has to be hard, a resignation to 9-to-5 drudgery in exchange for (sometimes) relaxing weekends and the occasional keep-it-short-or-get-fired vacation. The truth, at least the truth I live and will share in this book, is quite different. From leveraging currency differences to outsourcing your life and disappearing, I’ll show you how a small underground uses economic sleight-of-hand to do what most consider impossible. If you’ve picked up this book, chances are that you don’t want to sit behind a desk until you are 62. Whether your dream is escaping the rat race, real-life fantasy travel, long-term wandering, setting world records, or simply a dramatic career change, this book will give you all the tools you need to make it a reality in the here-and-now instead of in the often elusive retirement. There is a way to get the rewards for a life of hard work without waiting until the end\""
   ]
  },
  {
   "cell_type": "code",
   "execution_count": 3,
   "id": "261c2c0b-b1f7-4c95-b280-fb6493c349c0",
   "metadata": {},
   "outputs": [],
   "source": [
    "sentences = nltk.sent_tokenize(corpus)\n",
    "lemmatizer = WordNetLemmatizer()"
   ]
  },
  {
   "cell_type": "code",
   "execution_count": 4,
   "id": "b506ce52-4046-4a1e-acaa-5025dc0e982c",
   "metadata": {},
   "outputs": [
    {
     "data": {
      "text/plain": [
       "['Life doesn’t have to be so damn hard.',\n",
       " 'It really doesn’t.',\n",
       " 'Most people, my past self included, have spent too much time convincing themselves that life has to be hard, a resignation to 9-to-5 drudgery in exchange for (sometimes) relaxing weekends and the occasional keep-it-short-or-get-fired vacation.',\n",
       " 'The truth, at least the truth I live and will share in this book, is quite different.',\n",
       " 'From leveraging currency differences to outsourcing your life and disappearing, I’ll show you how a small underground uses economic sleight-of-hand to do what most consider impossible.',\n",
       " 'If you’ve picked up this book, chances are that you don’t want to sit behind a desk until you are 62.',\n",
       " 'Whether your dream is escaping the rat race, real-life fantasy travel, long-term wandering, setting world records, or simply a dramatic career change, this book will give you all the tools you need to make it a reality in the here-and-now instead of in the often elusive retirement.',\n",
       " 'There is a way to get the rewards for a life of hard work without waiting until the end']"
      ]
     },
     "execution_count": 4,
     "metadata": {},
     "output_type": "execute_result"
    }
   ],
   "source": [
    "sentences"
   ]
  },
  {
   "cell_type": "markdown",
   "id": "d5c4156f-c0a9-4070-81ba-01d217e8bd4c",
   "metadata": {},
   "source": [
    "### Stopwords"
   ]
  },
  {
   "cell_type": "code",
   "execution_count": 6,
   "id": "5858ba4c-28f4-4275-9fb9-8ee3f8ce3715",
   "metadata": {},
   "outputs": [
    {
     "data": {
      "text/plain": [
       "['i', 'me', 'my', 'myself', 'we', 'our', 'ours']"
      ]
     },
     "execution_count": 6,
     "metadata": {},
     "output_type": "execute_result"
    }
   ],
   "source": [
    "stopwords.words('english')[0:7]"
   ]
  },
  {
   "cell_type": "markdown",
   "id": "6dd5fd9c-2356-429a-ae72-74502c19b8a9",
   "metadata": {},
   "source": [
    "### Lemmatization x List Comprehension"
   ]
  },
  {
   "cell_type": "code",
   "execution_count": 7,
   "id": "8c76eb31-f377-4d69-9818-fefc6aba1833",
   "metadata": {},
   "outputs": [],
   "source": [
    "for i in range(len(sentences)):\n",
    "    words = nltk.word_tokenize(sentences[i])\n",
    "    words = [lemmatizer.lemmatize(word) for word in words if word not in set(stopwords.words('english'))]\n",
    "    sentences[i] = ' '.join(words)"
   ]
  },
  {
   "cell_type": "code",
   "execution_count": 8,
   "id": "ba58f5a3-d7bb-4ef4-a4af-cec980c3be2e",
   "metadata": {},
   "outputs": [
    {
     "data": {
      "text/plain": [
       "['Life ’ damn hard .',\n",
       " 'It really ’ .',\n",
       " 'Most people , past self included , spent much time convincing life hard , resignation 9-to-5 drudgery exchange ( sometimes ) relaxing weekend occasional keep-it-short-or-get-fired vacation .',\n",
       " 'The truth , least truth I live share book , quite different .',\n",
       " 'From leveraging currency difference outsourcing life disappearing , I ’ show small underground u economic sleight-of-hand consider impossible .',\n",
       " 'If ’ picked book , chance ’ want sit behind desk 62 .',\n",
       " 'Whether dream escaping rat race , real-life fantasy travel , long-term wandering , setting world record , simply dramatic career change , book give tool need make reality here-and-now instead often elusive retirement .',\n",
       " 'There way get reward life hard work without waiting end']"
      ]
     },
     "execution_count": 8,
     "metadata": {},
     "output_type": "execute_result"
    }
   ],
   "source": [
    "sentences"
   ]
  }
 ],
 "metadata": {
  "kernelspec": {
   "display_name": "Python 3 (ipykernel)",
   "language": "python",
   "name": "python3"
  },
  "language_info": {
   "codemirror_mode": {
    "name": "ipython",
    "version": 3
   },
   "file_extension": ".py",
   "mimetype": "text/x-python",
   "name": "python",
   "nbconvert_exporter": "python",
   "pygments_lexer": "ipython3",
   "version": "3.9.7"
  }
 },
 "nbformat": 4,
 "nbformat_minor": 5
}
