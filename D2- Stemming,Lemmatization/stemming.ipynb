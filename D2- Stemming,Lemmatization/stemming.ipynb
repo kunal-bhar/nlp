{
 "cells": [
  {
   "cell_type": "code",
   "execution_count": 1,
   "id": "7e2e3cbe-27ef-4190-b5df-add5d5bc376a",
   "metadata": {},
   "outputs": [],
   "source": [
    "import nltk\n",
    "from nltk.stem import PorterStemmer\n",
    "from nltk.corpus import stopwords"
   ]
  },
  {
   "cell_type": "code",
   "execution_count": 2,
   "id": "fbb4d93c-fa18-4343-aa79-b8fb23b71caf",
   "metadata": {},
   "outputs": [],
   "source": [
    "corpus = \"Life doesn’t have to be so damn hard. It really doesn’t. Most people, my past self included, have spent too much time convincing themselves that life has to be hard, a resignation to 9-to-5 drudgery in exchange for (sometimes) relaxing weekends and the occasional keep-it-short-or-get-fired vacation. The truth, at least the truth I live and will share in this book, is quite different. From leveraging currency differences to outsourcing your life and disappearing, I’ll show you how a small underground uses economic sleight-of-hand to do what most consider impossible. If you’ve picked up this book, chances are that you don’t want to sit behind a desk until you are 62. Whether your dream is escaping the rat race, real-life fantasy travel, long-term wandering, setting world records, or simply a dramatic career change, this book will give you all the tools you need to make it a reality in the here-and-now instead of in the often elusive retirement. There is a way to get the rewards for a life of hard work without waiting until the end\""
   ]
  },
  {
   "cell_type": "code",
   "execution_count": 3,
   "id": "eadb98ad-69c3-439a-a572-4a59fbed822b",
   "metadata": {},
   "outputs": [],
   "source": [
    "sentences = nltk.sent_tokenize(corpus)\n",
    "stemmer = PorterStemmer()"
   ]
  },
  {
   "cell_type": "code",
   "execution_count": 4,
   "id": "f2d4fb4d-e036-42fa-bc7b-a753ba4c398a",
   "metadata": {},
   "outputs": [
    {
     "data": {
      "text/plain": [
       "['Life doesn’t have to be so damn hard.',\n",
       " 'It really doesn’t.',\n",
       " 'Most people, my past self included, have spent too much time convincing themselves that life has to be hard, a resignation to 9-to-5 drudgery in exchange for (sometimes) relaxing weekends and the occasional keep-it-short-or-get-fired vacation.',\n",
       " 'The truth, at least the truth I live and will share in this book, is quite different.',\n",
       " 'From leveraging currency differences to outsourcing your life and disappearing, I’ll show you how a small underground uses economic sleight-of-hand to do what most consider impossible.',\n",
       " 'If you’ve picked up this book, chances are that you don’t want to sit behind a desk until you are 62.',\n",
       " 'Whether your dream is escaping the rat race, real-life fantasy travel, long-term wandering, setting world records, or simply a dramatic career change, this book will give you all the tools you need to make it a reality in the here-and-now instead of in the often elusive retirement.',\n",
       " 'There is a way to get the rewards for a life of hard work without waiting until the end']"
      ]
     },
     "execution_count": 4,
     "metadata": {},
     "output_type": "execute_result"
    }
   ],
   "source": [
    "sentences"
   ]
  },
  {
   "cell_type": "markdown",
   "id": "23020604-55a3-4c34-9ad2-958f339093fa",
   "metadata": {},
   "source": [
    "### Stopwords "
   ]
  },
  {
   "cell_type": "code",
   "execution_count": 5,
   "id": "358cba6f-5e45-4f59-9dd8-1bc7fcd3a52a",
   "metadata": {},
   "outputs": [
    {
     "data": {
      "text/plain": [
       "['i', 'me', 'my', 'myself', 'we', 'our', 'ours', 'ourselves', 'you', \"you're\"]"
      ]
     },
     "execution_count": 5,
     "metadata": {},
     "output_type": "execute_result"
    }
   ],
   "source": [
    "stopwords.words('english')[0:10]"
   ]
  },
  {
   "cell_type": "markdown",
   "id": "7dbdf02b-5ee1-4999-8364-132b7615147d",
   "metadata": {
    "tags": []
   },
   "source": [
    "### Stemming x List Comprehension"
   ]
  },
  {
   "cell_type": "code",
   "execution_count": 6,
   "id": "75e8f3f6-bf2a-45c8-9bd3-40600cc7c983",
   "metadata": {},
   "outputs": [],
   "source": [
    "for i in range(len(sentences)):\n",
    "    words = nltk.word_tokenize(sentences[i])\n",
    "    words = [stemmer.stem(word) for word in words if word not in set(stopwords.words('english'))]\n",
    "    sentences[i] = ' '.join(words)"
   ]
  },
  {
   "cell_type": "code",
   "execution_count": 7,
   "id": "73619aed-b1ed-45d8-981b-a9a46bc73b66",
   "metadata": {},
   "outputs": [
    {
     "data": {
      "text/plain": [
       "['life ’ damn hard .',\n",
       " 'it realli ’ .',\n",
       " 'most peopl , past self includ , spent much time convinc life hard , resign 9-to-5 drudgeri exchang ( sometim ) relax weekend occasion keep-it-short-or-get-fir vacat .',\n",
       " 'the truth , least truth i live share book , quit differ .',\n",
       " 'from leverag currenc differ outsourc life disappear , i ’ show small underground use econom sleight-of-hand consid imposs .',\n",
       " 'if ’ pick book , chanc ’ want sit behind desk 62 .',\n",
       " 'whether dream escap rat race , real-lif fantasi travel , long-term wander , set world record , simpli dramat career chang , book give tool need make realiti here-and-now instead often elus retir .',\n",
       " 'there way get reward life hard work without wait end']"
      ]
     },
     "execution_count": 7,
     "metadata": {},
     "output_type": "execute_result"
    }
   ],
   "source": [
    "sentences"
   ]
  }
 ],
 "metadata": {
  "kernelspec": {
   "display_name": "Python 3 (ipykernel)",
   "language": "python",
   "name": "python3"
  },
  "language_info": {
   "codemirror_mode": {
    "name": "ipython",
    "version": 3
   },
   "file_extension": ".py",
   "mimetype": "text/x-python",
   "name": "python",
   "nbconvert_exporter": "python",
   "pygments_lexer": "ipython3",
   "version": "3.9.7"
  }
 },
 "nbformat": 4,
 "nbformat_minor": 5
}
