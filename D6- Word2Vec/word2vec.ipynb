{
 "cells": [
  {
   "cell_type": "code",
   "execution_count": 1,
   "id": "a62757b8-c040-4fc7-8e80-a780be48f3d4",
   "metadata": {},
   "outputs": [],
   "source": [
    "import nltk\n",
    "\n"
   ]
  },
  {
   "cell_type": "code",
   "execution_count": 2,
   "id": "7772e395-2f1b-4ae1-b079-8e95b173ec94",
   "metadata": {},
   "outputs": [],
   "source": [
    "from gensim.models import Word2Vec\n",
    "from nltk.corpus import stopwords\n",
    "import re"
   ]
  },
  {
   "cell_type": "markdown",
   "id": "53844d16-b063-4876-835c-e68f8c8d8a99",
   "metadata": {},
   "source": [
    "### A structured and much larger corpus is ideal to get the most out of Word2Vec."
   ]
  },
  {
   "cell_type": "code",
   "execution_count": 3,
   "id": "583a2c88-a13f-4b63-941e-5c01a0d4a310",
   "metadata": {},
   "outputs": [],
   "source": [
    "corpus = \"D for Definition turns misguided common-sense upside down and introduces the rules and objectives of the new game. It replaces self-defeating assumptions and explains concepts such as relative wealth and eustress. This section explains the overall lifestyle design recipe—the fundamentals—before we add the three ingredients. E for Elimination kills the obsolete notion of time management once and for all. It shows exactly how I used the words of an often-forgotten Italian economist to turn 12- hour days into two-hour days in 48 hours. Increase your per-hour results ten times or more with counterintuitive NR techniques for cultivating selective ignorance, developing a low-information diet, and otherwise ignoring the unimportant. This section provides the first of the three luxury lifestyle design ingredients: time. A for Automation puts cash flow on autopilot using geographic arbitrage, outsourcing, and rules of nondecision. From bracketing to the routines of ultra-successful NR, it’s all here. This section provides the second ingredient of luxury lifestyle design: income. L for Liberation is the mobile manifesto for the globally inclined. The concept of mini-retirements is introduced, as are the means for flawless remote control and escaping the boss. Liberation is not about cheap travel; it is about forever breaking the bonds that confine you to a single location. This section delivers the third and final ingredient for luxury lifestyle design: mobility. I should note that most bosses are less than pleased if you spend one hour in the office each day, and employees should therefore read the steps in the entrepreneurially minded DEAL order but implement them as DELA. If you decide to remain in your current job, it is necessary to create freedom of location before you cut your work hours by 80%. Even if you have never considered becoming an entrepreneur in the modern sense, the DEAL process will turn you into an entrepreneur in the purer sense as first coined by French economist J. B. Say - one who shifts economic resources out of an area of lower and into an area of higher yield.\""
   ]
  },
  {
   "cell_type": "markdown",
   "id": "ddce461a-9c71-4500-875e-b1b3baca92b6",
   "metadata": {},
   "source": [
    "### Pre-Processing"
   ]
  },
  {
   "cell_type": "code",
   "execution_count": 4,
   "id": "eb49d283-5a1d-47f4-b485-5c5720139922",
   "metadata": {},
   "outputs": [],
   "source": [
    "sentences = nltk.sent_tokenize(corpus)"
   ]
  },
  {
   "cell_type": "code",
   "execution_count": 5,
   "id": "46392d7e-c8b7-4ad7-80bd-a87cc2d2aa01",
   "metadata": {},
   "outputs": [],
   "source": [
    "contents = []"
   ]
  },
  {
   "cell_type": "code",
   "execution_count": 6,
   "id": "92c23c1d-8b03-4b79-b56c-67dac3d785da",
   "metadata": {},
   "outputs": [],
   "source": [
    "for i in range(len(sentences)):\n",
    "    temp = re.sub('[^a-zA-Z]', ' ', sentences[i])\n",
    "    temp = temp.lower()\n",
    "    temp = temp.split()\n",
    "    temp = ' '.join(temp)\n",
    "    contents.append(temp)\n",
    "    "
   ]
  },
  {
   "cell_type": "code",
   "execution_count": 7,
   "id": "420946dd-c17e-44df-b827-59a7d453eac7",
   "metadata": {},
   "outputs": [],
   "source": [
    "contents = [nltk.word_tokenize(content) for content in contents]"
   ]
  },
  {
   "cell_type": "code",
   "execution_count": 8,
   "id": "3bb8f001-41ba-4525-b573-4c803bf02811",
   "metadata": {},
   "outputs": [],
   "source": [
    "for i in range(len(contents)):\n",
    "     contents[i] = [word for word in contents[i] if word not in stopwords.words('english')]"
   ]
  },
  {
   "cell_type": "code",
   "execution_count": 10,
   "id": "ca9566c0-76dd-46a5-8570-adcbe804d0d9",
   "metadata": {},
   "outputs": [
    {
     "data": {
      "text/plain": [
       "[['definition',\n",
       "  'turns',\n",
       "  'misguided',\n",
       "  'common',\n",
       "  'sense',\n",
       "  'upside',\n",
       "  'introduces',\n",
       "  'rules',\n",
       "  'objectives',\n",
       "  'new',\n",
       "  'game']]"
      ]
     },
     "execution_count": 10,
     "metadata": {},
     "output_type": "execute_result"
    }
   ],
   "source": [
    "contents[:1]"
   ]
  },
  {
   "cell_type": "markdown",
   "id": "394b2325-e8bc-40ad-87b7-87a434a01ec3",
   "metadata": {},
   "source": [
    "### Modelling"
   ]
  },
  {
   "cell_type": "code",
   "execution_count": 11,
   "id": "73852238-6db1-42e6-805d-d9de8575814a",
   "metadata": {},
   "outputs": [],
   "source": [
    "model = Word2Vec(contents, min_count=1)"
   ]
  },
  {
   "cell_type": "code",
   "execution_count": 19,
   "id": "6c04c50e-516e-4216-a715-e8559c4c4a0c",
   "metadata": {},
   "outputs": [
    {
     "data": {
      "text/plain": [
       "162"
      ]
     },
     "execution_count": 19,
     "metadata": {},
     "output_type": "execute_result"
    }
   ],
   "source": [
    "len(model.wv.index_to_key) # Size of Vocabulary\n",
    "\n"
   ]
  },
  {
   "cell_type": "code",
   "execution_count": 20,
   "id": "1faf44f8-d1f1-45da-b315-8d8b79655809",
   "metadata": {},
   "outputs": [],
   "source": [
    "vector = model.wv['work']"
   ]
  },
  {
   "cell_type": "code",
   "execution_count": 21,
   "id": "34602a6c-67db-4ff9-a77c-e1bce5166ceb",
   "metadata": {},
   "outputs": [
    {
     "data": {
      "text/plain": [
       "array([ 0.00249443,  0.005998  , -0.0096834 , -0.001436  ,  0.00511557,\n",
       "        0.00711384,  0.00688231,  0.00261018,  0.00684766, -0.0088863 ,\n",
       "        0.00538482, -0.00250233,  0.0037569 , -0.00961233, -0.00902436,\n",
       "        0.00498293, -0.00117535,  0.00740738, -0.00934754,  0.00988288,\n",
       "       -0.00594907,  0.0005359 ,  0.00461876, -0.00217725,  0.00733888,\n",
       "        0.00047434, -0.00292022, -0.00115797, -0.0094634 , -0.0041403 ,\n",
       "       -0.00395264,  0.00819757, -0.00997359, -0.0021321 ,  0.00739047,\n",
       "        0.0079375 , -0.00850597,  0.00132996, -0.00932409,  0.00691463,\n",
       "        0.00957812,  0.00330149, -0.00936762, -0.00060145, -0.00176938,\n",
       "        0.00432783,  0.0069582 ,  0.00450644, -0.0092511 ,  0.00739412,\n",
       "        0.00273037, -0.0007884 , -0.00289593,  0.00059524, -0.005703  ,\n",
       "        0.00528487, -0.00907622,  0.00029061,  0.00231306,  0.00241561,\n",
       "        0.00910039, -0.005272  ,  0.00964045,  0.0095163 , -0.00717658,\n",
       "        0.00274492,  0.00967668,  0.00303848, -0.00220403,  0.00492475,\n",
       "        0.00491128,  0.00578093, -0.00331893, -0.00809125, -0.00164518,\n",
       "       -0.00259977, -0.00319724,  0.00197435, -0.00966837,  0.0099041 ,\n",
       "       -0.00175316,  0.00034435,  0.00437935, -0.00994643,  0.00431665,\n",
       "        0.00940735,  0.00888919,  0.00102071, -0.00212628, -0.00869926,\n",
       "        0.00625875, -0.00308997,  0.00865316,  0.00920023, -0.00767004,\n",
       "       -0.00338237,  0.00530615,  0.00108544, -0.00242419, -0.00347332],\n",
       "      dtype=float32)"
      ]
     },
     "execution_count": 21,
     "metadata": {},
     "output_type": "execute_result"
    }
   ],
   "source": [
    "vector # W2V vectorizes each word against 100 dimensions"
   ]
  },
  {
   "cell_type": "markdown",
   "id": "fb8eaf2d-1b05-4583-a00b-c8ba91f39145",
   "metadata": {},
   "source": [
    "### Semantics"
   ]
  },
  {
   "cell_type": "code",
   "execution_count": 22,
   "id": "820a3362-6435-498e-abf5-676c9101f0da",
   "metadata": {},
   "outputs": [],
   "source": [
    "workx = model.wv.most_similar('work')\n",
    "freedomx = model.wv.most_similar('freedom')"
   ]
  },
  {
   "cell_type": "code",
   "execution_count": 23,
   "id": "f763f3a9-1e56-4991-8e5c-a6c9d3ae33eb",
   "metadata": {},
   "outputs": [
    {
     "data": {
      "text/plain": [
       "[('french', 0.2453354150056839),\n",
       " ('modern', 0.23271015286445618),\n",
       " ('low', 0.23143276572227478),\n",
       " ('entrepreneurially', 0.18203189969062805),\n",
       " ('introduces', 0.17594988644123077),\n",
       " ('say', 0.16798441112041473),\n",
       " ('obsolete', 0.16628308594226837),\n",
       " ('ingredient', 0.16496604681015015),\n",
       " ('section', 0.15149471163749695),\n",
       " ('lower', 0.14939026534557343)]"
      ]
     },
     "execution_count": 23,
     "metadata": {},
     "output_type": "execute_result"
    }
   ],
   "source": [
    "workx"
   ]
  },
  {
   "cell_type": "code",
   "execution_count": 24,
   "id": "6467b03e-f318-402a-9dd3-1564e6133048",
   "metadata": {},
   "outputs": [
    {
     "data": {
      "text/plain": [
       "[('eustress', 0.2815510332584381),\n",
       " ('modern', 0.2375253140926361),\n",
       " ('pleased', 0.2141195684671402),\n",
       " ('defeating', 0.20186085999011993),\n",
       " ('ingredient', 0.20124268531799316),\n",
       " ('shifts', 0.19086191058158875),\n",
       " ('economic', 0.18483036756515503),\n",
       " ('becoming', 0.18419398367404938),\n",
       " ('yield', 0.17575308680534363),\n",
       " ('ultra', 0.16725118458271027)]"
      ]
     },
     "execution_count": 24,
     "metadata": {},
     "output_type": "execute_result"
    }
   ],
   "source": [
    "freedomx"
   ]
  }
 ],
 "metadata": {
  "kernelspec": {
   "display_name": "Python 3 (ipykernel)",
   "language": "python",
   "name": "python3"
  },
  "language_info": {
   "codemirror_mode": {
    "name": "ipython",
    "version": 3
   },
   "file_extension": ".py",
   "mimetype": "text/x-python",
   "name": "python",
   "nbconvert_exporter": "python",
   "pygments_lexer": "ipython3",
   "version": "3.9.7"
  }
 },
 "nbformat": 4,
 "nbformat_minor": 5
}
