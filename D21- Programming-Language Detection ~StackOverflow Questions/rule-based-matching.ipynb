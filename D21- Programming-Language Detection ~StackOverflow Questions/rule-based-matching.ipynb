{
 "cells": [
  {
   "cell_type": "markdown",
   "id": "34223679-cdb1-4213-9552-50cd2e7bdb4c",
   "metadata": {},
   "source": [
    "### Rule-Based String Detection using spaCy"
   ]
  },
  {
   "cell_type": "code",
   "execution_count": 1,
   "id": "f6ddd8cb-934f-49e0-b19b-19bb94518bae",
   "metadata": {},
   "outputs": [],
   "source": [
    "import spacy"
   ]
  },
  {
   "cell_type": "code",
   "execution_count": 2,
   "id": "466c6ec8-b17b-401b-aa46-36f7dfcd4334",
   "metadata": {},
   "outputs": [],
   "source": [
    "nlp = spacy.load('en_core_web_sm')"
   ]
  },
  {
   "cell_type": "code",
   "execution_count": 34,
   "id": "2d0a2a05-141f-461c-99bb-52afa36ce159",
   "metadata": {},
   "outputs": [],
   "source": [
    "def has_lang_token(doc):\n",
    "    for t in doc:\n",
    "        if t.lower_ in ['go', 'golang', 'python', 'ruby', 'objective-c']:\n",
    "            if t.pos_ != 'VERB':\n",
    "                return True\n",
    "    return False \n",
    "# this function works fine for single token strings like 'go' but fails to perform for languages like objective-c"
   ]
  },
  {
   "cell_type": "code",
   "execution_count": 35,
   "id": "7b2ec0c0-7112-480c-a1be-600c3e119a00",
   "metadata": {},
   "outputs": [],
   "source": [
    "doc = nlp('I am an iOS dev and I like to code in objective-c')"
   ]
  },
  {
   "cell_type": "code",
   "execution_count": 36,
   "id": "f20dab82-bd3d-46c7-8018-dbda9ddf5a1c",
   "metadata": {},
   "outputs": [
    {
     "data": {
      "text/plain": [
       "[I, am, an, iOS, dev, and, I, like, to, code, in, objective, -, c]"
      ]
     },
     "execution_count": 36,
     "metadata": {},
     "output_type": "execute_result"
    }
   ],
   "source": [
    "[t for t in doc]"
   ]
  },
  {
   "cell_type": "code",
   "execution_count": 37,
   "id": "4740e136-64ab-4214-908f-eada12b14c80",
   "metadata": {},
   "outputs": [
    {
     "data": {
      "text/plain": [
       "False"
      ]
     },
     "execution_count": 37,
     "metadata": {},
     "output_type": "execute_result"
    }
   ],
   "source": [
    "has_lang_token(doc)"
   ]
  },
  {
   "cell_type": "code",
   "execution_count": 38,
   "id": "0e39b30a-6de5-456b-8627-986ee36f1489",
   "metadata": {},
   "outputs": [],
   "source": [
    "from spacy.matcher import Matcher "
   ]
  },
  {
   "cell_type": "code",
   "execution_count": 39,
   "id": "94d44d76-7972-4afc-ad8f-065c420dfd89",
   "metadata": {},
   "outputs": [],
   "source": [
    "obj_c_pattern1 = [{'LOWER': 'objective'},\n",
    "                  {'IS_PUNCT': True, 'OP': '?'}, # deals with the multi-token split\n",
    "                  {'LOWER': 'c'}]\n",
    "\n",
    "obj_c_pattern2 = [{'LOWER': 'objectivec'}]\n",
    "\n",
    "golang_pattern1 = [{'LOWER': 'golang'}] \n",
    "golang_pattern2 = [{'LOWER': 'go', \n",
    "                    'POS': {'NOT_IN': ['VERB']}}]\n",
    "\n",
    "python_pattern = [{'LOWER': 'python'}]\n",
    "ruby_pattern   = [{'LOWER': 'ruby'}]\n",
    "js_pattern     = [{'LOWER': {'IN': ['js', 'javascript']}}]\n",
    "\n",
    "# rule-based matching using custom-patterns, can exp more using spaCy docs"
   ]
  },
  {
   "cell_type": "code",
   "execution_count": 40,
   "id": "b2cd3811-29d2-464c-a3b5-159fee7f1e50",
   "metadata": {},
   "outputs": [],
   "source": [
    "matcher = Matcher(nlp.vocab, validate=True)\n",
    "matcher.add(\"OBJ_C_LANG\", None, obj_c_pattern1, obj_c_pattern2)\n",
    "matcher.add(\"PYTHON_LANG\", None, python_pattern)\n",
    "matcher.add(\"GO_LANG\", None, golang_pattern1, golang_pattern2)\n",
    "matcher.add(\"JS_LANG\", None, js_pattern)\n",
    "matcher.add(\"RUBY_LANG\", None, ruby_pattern)\n"
   ]
  },
  {
   "cell_type": "code",
   "execution_count": 41,
   "id": "92bbb86f-f8ef-4422-9a6a-c1e9b042e0af",
   "metadata": {},
   "outputs": [
    {
     "data": {
      "text/plain": [
       "[(4002319739860662978, 11, 14)]"
      ]
     },
     "execution_count": 41,
     "metadata": {},
     "output_type": "execute_result"
    }
   ],
   "source": [
    "matcher(doc)"
   ]
  },
  {
   "cell_type": "code",
   "execution_count": 42,
   "id": "a361cf2d-f769-41bd-b152-84f4f5a7fa67",
   "metadata": {},
   "outputs": [
    {
     "data": {
      "text/plain": [
       "objective-c"
      ]
     },
     "execution_count": 42,
     "metadata": {},
     "output_type": "execute_result"
    }
   ],
   "source": [
    "doc[11: 14] # we see index 11: 14 in doc is actually objective-c"
   ]
  },
  {
   "cell_type": "markdown",
   "id": "9f993de1-586f-44aa-94f6-04ea1b2dc611",
   "metadata": {},
   "source": [
    "### Multiple-Language Detection by looping through the object"
   ]
  },
  {
   "cell_type": "code",
   "execution_count": 43,
   "id": "8c2a07a8-2aa0-424d-9548-b67bee12d415",
   "metadata": {},
   "outputs": [
    {
     "name": "stdout",
     "output_type": "stream",
     "text": [
      "golang\n",
      "objective-c\n"
     ]
    }
   ],
   "source": [
    "doc = nlp('I am an iOS dev who codes in both go/golang as well as objective-c')\n",
    "for match_id, start, end in matcher(doc):\n",
    "    print(doc[start: end]) "
   ]
  },
  {
   "cell_type": "code",
   "execution_count": 44,
   "id": "335ac7cc-8d03-4a06-85ac-53fbf3834549",
   "metadata": {},
   "outputs": [
    {
     "name": "stdout",
     "output_type": "stream",
     "text": [
      "python\n",
      "golang\n",
      "objective-c\n"
     ]
    }
   ],
   "source": [
    "doc = nlp(\"I am an iOS dev who codes in all of python, go/golang as well as objective-c\")\n",
    "for match_id, start, end in matcher(doc):\n",
    "    print(doc[start: end])"
   ]
  },
  {
   "cell_type": "code",
   "execution_count": 45,
   "id": "baba1e05-af2a-407d-a34b-d5a6302094e6",
   "metadata": {},
   "outputs": [
    {
     "name": "stdout",
     "output_type": "stream",
     "text": [
      "js\n",
      "ruby\n"
     ]
    }
   ],
   "source": [
    "doc = nlp(\"I've done some js and ruby programming\")\n",
    "for match_id, start, end in matcher(doc):\n",
    "    print(doc[start: end])"
   ]
  },
  {
   "cell_type": "markdown",
   "id": "a863f264-56d9-4ac1-8d41-49d5611681fc",
   "metadata": {
    "tags": []
   },
   "source": [
    "### Dataset \n",
    "https://www.kaggle.com/datasets/stackoverflow/stacksample"
   ]
  },
  {
   "cell_type": "code",
   "execution_count": 46,
   "id": "36402cdb-dc0e-4403-a588-ac0a869d3baf",
   "metadata": {},
   "outputs": [],
   "source": [
    "import pandas as pd\n",
    "df = (pd.read_csv(\"Questions.csv\", nrows=1_000_000, \n",
    "                  encoding=\"ISO-8859-1\", usecols=['Title', 'Id']))"
   ]
  },
  {
   "cell_type": "code",
   "execution_count": 47,
   "id": "d6a2bbe1-a835-4958-ab6f-791568417a42",
   "metadata": {},
   "outputs": [],
   "source": [
    "titles = (_ for _ in df['Title'] if \"python\" in _.lower())\n"
   ]
  },
  {
   "cell_type": "markdown",
   "id": "622e96b7-0c97-445f-be72-cf74575c0124",
   "metadata": {},
   "source": [
    "### Benchmarking"
   ]
  },
  {
   "cell_type": "code",
   "execution_count": 48,
   "id": "79ef8331-2b69-4f03-8174-0e0417228d75",
   "metadata": {},
   "outputs": [
    {
     "name": "stdout",
     "output_type": "stream",
     "text": [
      "mod_python/MySQL error on INSERT with a lot of data: \"OperationalError: (2006, 'MySQL server has gone away')\"\n",
      "Running subversion under apache and mod_python\n",
      "What's the best way to embed IronPython inside my C# App?\n",
      "How to set the PYTHONPATH in Emacs?\n",
      "wxPython wxDC object from win32gui.GetDC\n",
      "Need skeleton code to call Excel VBA from PythonWin\n",
      "Questions for python->scheme conversion\n",
      "wxPython and sharing objects between windows\n",
      "Django on IronPython\n",
      "IronPython Webframework\n",
      "A SuggestBox for wxPython?\n",
      "Intercepting Method Access on the Host Program of IronPython\n",
      "Is there anything like IPython / IRB for Perl?\n"
     ]
    }
   ],
   "source": [
    "for i in range(200):\n",
    "    doc = nlp(next(titles))\n",
    "    if len(matcher(doc)) == 0:\n",
    "        print(doc) # o/p all titles containing matcher strings but that haven't been picked up due to semantics; satisfactory"
   ]
  },
  {
   "cell_type": "code",
   "execution_count": null,
   "id": "8a1ae7ea-1aa8-40c4-be16-85b36acfcd52",
   "metadata": {},
   "outputs": [],
   "source": []
  }
 ],
 "metadata": {
  "kernelspec": {
   "display_name": "Python 3 (ipykernel)",
   "language": "python",
   "name": "python3"
  },
  "language_info": {
   "codemirror_mode": {
    "name": "ipython",
    "version": 3
   },
   "file_extension": ".py",
   "mimetype": "text/x-python",
   "name": "python",
   "nbconvert_exporter": "python",
   "pygments_lexer": "ipython3",
   "version": "3.9.7"
  }
 },
 "nbformat": 4,
 "nbformat_minor": 5
}
