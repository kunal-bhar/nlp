{
 "cells": [
  {
   "cell_type": "code",
   "execution_count": 3,
   "id": "26205c14-c594-40da-afec-d581eb75cb61",
   "metadata": {},
   "outputs": [],
   "source": [
    "import pandas as pd"
   ]
  },
  {
   "cell_type": "markdown",
   "id": "27efb077-61bc-4100-84db-17403c384182",
   "metadata": {},
   "source": [
    "### Initialize Dataset"
   ]
  },
  {
   "cell_type": "code",
   "execution_count": 4,
   "id": "d26d618b-fe68-49f5-a396-16affc84dbf1",
   "metadata": {},
   "outputs": [],
   "source": [
    "messages = pd.read_csv('SMSSpamCollection', sep='\\t', names=['label', 'message'])"
   ]
  },
  {
   "cell_type": "code",
   "execution_count": 5,
   "id": "b096d756-51d3-4c98-b6b5-84c0f97c9efd",
   "metadata": {},
   "outputs": [
    {
     "data": {
      "text/html": [
       "<div>\n",
       "<style scoped>\n",
       "    .dataframe tbody tr th:only-of-type {\n",
       "        vertical-align: middle;\n",
       "    }\n",
       "\n",
       "    .dataframe tbody tr th {\n",
       "        vertical-align: top;\n",
       "    }\n",
       "\n",
       "    .dataframe thead th {\n",
       "        text-align: right;\n",
       "    }\n",
       "</style>\n",
       "<table border=\"1\" class=\"dataframe\">\n",
       "  <thead>\n",
       "    <tr style=\"text-align: right;\">\n",
       "      <th></th>\n",
       "      <th>label</th>\n",
       "      <th>message</th>\n",
       "    </tr>\n",
       "  </thead>\n",
       "  <tbody>\n",
       "    <tr>\n",
       "      <th>3480</th>\n",
       "      <td>ham</td>\n",
       "      <td>Be sure to check your yahoo email. We sent pho...</td>\n",
       "    </tr>\n",
       "    <tr>\n",
       "      <th>1594</th>\n",
       "      <td>spam</td>\n",
       "      <td>PRIVATE! Your 2003 Account Statement for shows...</td>\n",
       "    </tr>\n",
       "    <tr>\n",
       "      <th>2793</th>\n",
       "      <td>ham</td>\n",
       "      <td>Well there's still a bit left if you guys want...</td>\n",
       "    </tr>\n",
       "    <tr>\n",
       "      <th>4230</th>\n",
       "      <td>ham</td>\n",
       "      <td>Have you bookedthe hut? And also your time off...</td>\n",
       "    </tr>\n",
       "  </tbody>\n",
       "</table>\n",
       "</div>"
      ],
      "text/plain": [
       "     label                                            message\n",
       "3480   ham  Be sure to check your yahoo email. We sent pho...\n",
       "1594  spam  PRIVATE! Your 2003 Account Statement for shows...\n",
       "2793   ham  Well there's still a bit left if you guys want...\n",
       "4230   ham  Have you bookedthe hut? And also your time off..."
      ]
     },
     "execution_count": 5,
     "metadata": {},
     "output_type": "execute_result"
    }
   ],
   "source": [
    "messages.sample(4)"
   ]
  },
  {
   "cell_type": "code",
   "execution_count": 6,
   "id": "fd949bc1-05ae-4b03-8c93-e1ce99df4eab",
   "metadata": {},
   "outputs": [],
   "source": [
    "import re\n",
    "import nltk\n",
    "from nltk.corpus import stopwords\n",
    "from nltk.stem import WordNetLemmatizer"
   ]
  },
  {
   "cell_type": "code",
   "execution_count": 7,
   "id": "b18462e0-a8d8-4e6d-9642-68523ea830f7",
   "metadata": {},
   "outputs": [],
   "source": [
    "wordnet = WordNetLemmatizer()\n",
    "content = []"
   ]
  },
  {
   "cell_type": "markdown",
   "id": "9e20a871-68e1-4a6a-b4e4-aaa722489800",
   "metadata": {},
   "source": [
    "### Pre-processing"
   ]
  },
  {
   "cell_type": "code",
   "execution_count": 8,
   "id": "75b8ac26-2e82-4f00-95ca-4d767aea9898",
   "metadata": {},
   "outputs": [],
   "source": [
    "for i in range(0, len(messages)):\n",
    "    temp = re.sub('[^a-zA-Z]', ' ', messages['message'][i])\n",
    "    temp = temp.lower()\n",
    "    temp = temp.split()\n",
    "    temp = [wordnet.lemmatize(word) for word in temp if not word in set(stopwords.words('english'))]\n",
    "    temp = ' '.join(temp)\n",
    "    content.append(temp)"
   ]
  },
  {
   "cell_type": "code",
   "execution_count": 9,
   "id": "ec087b9f-5ef0-421a-a6de-b7373ab47e7c",
   "metadata": {},
   "outputs": [],
   "source": [
    "from sklearn.feature_extraction.text import CountVectorizer"
   ]
  },
  {
   "cell_type": "code",
   "execution_count": 10,
   "id": "0e479185-b2d9-40f4-98e7-c9c630c8affd",
   "metadata": {},
   "outputs": [],
   "source": [
    "cv = CountVectorizer(max_features=4000)"
   ]
  },
  {
   "cell_type": "code",
   "execution_count": 11,
   "id": "bfd72d97-f591-4a32-ae12-a9caf27b04c7",
   "metadata": {},
   "outputs": [],
   "source": [
    "X = cv.fit_transform(content).toarray()"
   ]
  },
  {
   "cell_type": "code",
   "execution_count": 12,
   "id": "35e6f08d-5142-4aef-811d-c8d294308baf",
   "metadata": {
    "tags": []
   },
   "outputs": [
    {
     "data": {
      "text/plain": [
       "array([[0, 0, 0, ..., 0, 0, 0],\n",
       "       [0, 0, 0, ..., 0, 0, 0],\n",
       "       [0, 0, 0, ..., 0, 0, 0],\n",
       "       ...,\n",
       "       [0, 0, 0, ..., 0, 0, 0],\n",
       "       [0, 0, 0, ..., 0, 0, 0],\n",
       "       [0, 0, 0, ..., 0, 0, 0]], dtype=int64)"
      ]
     },
     "execution_count": 12,
     "metadata": {},
     "output_type": "execute_result"
    }
   ],
   "source": [
    "X"
   ]
  },
  {
   "cell_type": "markdown",
   "id": "cb3fd6ea-5233-4abc-90f1-e994c60c735e",
   "metadata": {},
   "source": [
    "### Encoding with Dummy Variables"
   ]
  },
  {
   "cell_type": "code",
   "execution_count": 13,
   "id": "74372862-fe2b-42ae-b72f-76809b1ece16",
   "metadata": {},
   "outputs": [],
   "source": [
    "y = pd.get_dummies(messages['label'])"
   ]
  },
  {
   "cell_type": "code",
   "execution_count": 14,
   "id": "6e635745-1d80-45dc-afd3-dea87c922070",
   "metadata": {},
   "outputs": [],
   "source": [
    "y = y.iloc[:,1].values"
   ]
  },
  {
   "cell_type": "code",
   "execution_count": 15,
   "id": "126307ac-a6c3-44a1-a4df-c0cb8dfeea7f",
   "metadata": {},
   "outputs": [
    {
     "data": {
      "text/plain": [
       "array([0, 0, 1, ..., 0, 0, 0], dtype=uint8)"
      ]
     },
     "execution_count": 15,
     "metadata": {},
     "output_type": "execute_result"
    }
   ],
   "source": [
    "y"
   ]
  },
  {
   "cell_type": "markdown",
   "id": "b161b3e3-a0f0-48d5-ba83-22bd50885275",
   "metadata": {},
   "source": [
    "### Modelling (Naive-Bayes)"
   ]
  },
  {
   "cell_type": "code",
   "execution_count": 16,
   "id": "bf5cc2a5-743b-4180-91bc-7e8c0914c310",
   "metadata": {},
   "outputs": [],
   "source": [
    "from sklearn.model_selection import train_test_split\n",
    "X_train, X_test, y_train, y_test = train_test_split(X, y, test_size=0.20, random_state=0)"
   ]
  },
  {
   "cell_type": "code",
   "execution_count": 17,
   "id": "08657b0f-4b42-4542-9ed1-e50cca179c1d",
   "metadata": {},
   "outputs": [],
   "source": [
    "from sklearn.naive_bayes import MultinomialNB\n",
    "spam_detection = MultinomialNB().fit(X_train,y_train)"
   ]
  },
  {
   "cell_type": "code",
   "execution_count": 18,
   "id": "9b0ed603-79d5-44b2-b7f4-95522d686e5c",
   "metadata": {},
   "outputs": [],
   "source": [
    "y_pred = spam_detection.predict(X_test)"
   ]
  },
  {
   "cell_type": "markdown",
   "id": "82c7bfb4-2f47-4d2c-a770-aef8909a9a10",
   "metadata": {},
   "source": [
    "### Metrics"
   ]
  },
  {
   "cell_type": "code",
   "execution_count": 19,
   "id": "52ce86f3-5da0-4d27-a9b8-4d467ff6fa50",
   "metadata": {},
   "outputs": [],
   "source": [
    "from sklearn.metrics import confusion_matrix\n",
    "cm = confusion_matrix(y_test,y_pred)"
   ]
  },
  {
   "cell_type": "code",
   "execution_count": 20,
   "id": "ffa26ec8-66d5-439c-b344-5dd3287fdbed",
   "metadata": {},
   "outputs": [
    {
     "data": {
      "text/plain": [
       "array([[946,   9],\n",
       "       [  9, 151]], dtype=int64)"
      ]
     },
     "execution_count": 20,
     "metadata": {},
     "output_type": "execute_result"
    }
   ],
   "source": [
    "cm"
   ]
  },
  {
   "cell_type": "code",
   "execution_count": 23,
   "id": "b635c9cb-564b-48d3-aaa2-6adb089e8ed6",
   "metadata": {},
   "outputs": [
    {
     "data": {
      "text/plain": [
       "(0.9838565022421525, 0.94375, 0.94375)"
      ]
     },
     "execution_count": 23,
     "metadata": {},
     "output_type": "execute_result"
    }
   ],
   "source": [
    "from sklearn.metrics import accuracy_score,precision_score,recall_score\n",
    "acc = accuracy_score(y_test,y_pred)\n",
    "pre = precision_score(y_test,y_pred)\n",
    "rec = recall_score(y_test,y_pred)\n",
    "acc, pre, rec"
   ]
  },
  {
   "cell_type": "code",
   "execution_count": 24,
   "id": "e635ac95-93ce-4c0e-a524-6a87dd21eeed",
   "metadata": {},
   "outputs": [
    {
     "data": {
      "image/png": "[encoded data removed]",
      "text/plain": [
       "<Figure size 432x288 with 1 Axes>"
      ]
     },
     "metadata": {
      "needs_background": "light"
     },
     "output_type": "display_data"
    }
   ],
   "source": [
    "import matplotlib\n",
    "from sklearn.metrics import PrecisionRecallDisplay\n",
    "\n",
    "display = PrecisionRecallDisplay.from_estimator(\n",
    "    spam_detection, X_test, y_test, name=\"SpamAccuracy\"\n",
    ")\n",
    "_ = display.ax_.set_title(\"Precision-Recall curve\")"
   ]
  },
  {
   "cell_type": "markdown",
   "id": "49dba120-03d7-4177-8abb-758492defd8b",
   "metadata": {},
   "source": [
    "#### Metrics can be further improved by tweaking features during pre-processing and semantic enhancement."
   ]
  }
 ],
 "metadata": {
  "kernelspec": {
   "display_name": "Python 3 (ipykernel)",
   "language": "python",
   "name": "python3"
  },
  "language_info": {
   "codemirror_mode": {
    "name": "ipython",
    "version": 3
   },
   "file_extension": ".py",
   "mimetype": "text/x-python",
   "name": "python",
   "nbconvert_exporter": "python",
   "pygments_lexer": "ipython3",
   "version": "3.9.7"
  }
 },
 "nbformat": 4,
 "nbformat_minor": 5
}
