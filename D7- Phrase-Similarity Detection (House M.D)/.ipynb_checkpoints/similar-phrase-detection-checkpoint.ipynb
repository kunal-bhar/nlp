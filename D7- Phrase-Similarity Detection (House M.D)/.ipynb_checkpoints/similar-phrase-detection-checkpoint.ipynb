{
 "cells": [
  {
   "cell_type": "code",
   "execution_count": 1,
   "id": "c525abdd-f9c8-460a-be45-2857e1b3c0be",
   "metadata": {},
   "outputs": [],
   "source": [
    "import pandas as pd\n",
    "import os\n",
    "import gensim\n",
    "import spacy"
   ]
  },
  {
   "cell_type": "code",
   "execution_count": 2,
   "id": "c2fd8476-32e0-407e-a59b-f0a5613d8b31",
   "metadata": {},
   "outputs": [],
   "source": [
    "data = pd.read_csv('HouseOnlyDataset.csv')"
   ]
  },
  {
   "cell_type": "markdown",
   "id": "49a09279-2ba0-42ba-b50f-aaf445f30bb1",
   "metadata": {},
   "source": [
    "#### Dataset of dialogues by Greg House, lead of Med-Drama House M.D."
   ]
  },
  {
   "cell_type": "code",
   "execution_count": 3,
   "id": "0644376b-b287-4e6b-8da7-053862221cb4",
   "metadata": {},
   "outputs": [
    {
     "data": {
      "text/html": [
       "<div>\n",
       "<style scoped>\n",
       "    .dataframe tbody tr th:only-of-type {\n",
       "        vertical-align: middle;\n",
       "    }\n",
       "\n",
       "    .dataframe tbody tr th {\n",
       "        vertical-align: top;\n",
       "    }\n",
       "\n",
       "    .dataframe thead th {\n",
       "        text-align: right;\n",
       "    }\n",
       "</style>\n",
       "<table border=\"1\" class=\"dataframe\">\n",
       "  <thead>\n",
       "    <tr style=\"text-align: right;\">\n",
       "      <th></th>\n",
       "      <th>name</th>\n",
       "      <th>line</th>\n",
       "    </tr>\n",
       "  </thead>\n",
       "  <tbody>\n",
       "    <tr>\n",
       "      <th>0</th>\n",
       "      <td>House</td>\n",
       "      <td>See that? They all assume I'm a Patient becau...</td>\n",
       "    </tr>\n",
       "    <tr>\n",
       "      <th>1</th>\n",
       "      <td>House</td>\n",
       "      <td>I don't want them to think I'm a doctor.</td>\n",
       "    </tr>\n",
       "    <tr>\n",
       "      <th>2</th>\n",
       "      <td>House</td>\n",
       "      <td>People don't want a sick doctor.</td>\n",
       "    </tr>\n",
       "    <tr>\n",
       "      <th>3</th>\n",
       "      <td>House</td>\n",
       "      <td>The one who can't talk, I liked that part.</td>\n",
       "    </tr>\n",
       "    <tr>\n",
       "      <th>4</th>\n",
       "      <td>House</td>\n",
       "      <td>And your cousin doesn't like the diagnosis. I...</td>\n",
       "    </tr>\n",
       "  </tbody>\n",
       "</table>\n",
       "</div>"
      ],
      "text/plain": [
       "    name                                               line\n",
       "0  House   See that? They all assume I'm a Patient becau...\n",
       "1  House           I don't want them to think I'm a doctor.\n",
       "2  House                   People don't want a sick doctor.\n",
       "3  House         The one who can't talk, I liked that part.\n",
       "4  House   And your cousin doesn't like the diagnosis. I..."
      ]
     },
     "execution_count": 3,
     "metadata": {},
     "output_type": "execute_result"
    }
   ],
   "source": [
    "data.head()"
   ]
  },
  {
   "cell_type": "code",
   "execution_count": 4,
   "id": "467761f6-a42b-4b9a-9908-b5138141170f",
   "metadata": {},
   "outputs": [],
   "source": [
    "df = data.drop('name', axis='columns')\n",
    "df['id'] =df.index\n"
   ]
  },
  {
   "cell_type": "code",
   "execution_count": 5,
   "id": "83b1f6e6-af2a-463d-9350-657accd21e4f",
   "metadata": {},
   "outputs": [
    {
     "data": {
      "text/html": [
       "<div>\n",
       "<style scoped>\n",
       "    .dataframe tbody tr th:only-of-type {\n",
       "        vertical-align: middle;\n",
       "    }\n",
       "\n",
       "    .dataframe tbody tr th {\n",
       "        vertical-align: top;\n",
       "    }\n",
       "\n",
       "    .dataframe thead th {\n",
       "        text-align: right;\n",
       "    }\n",
       "</style>\n",
       "<table border=\"1\" class=\"dataframe\">\n",
       "  <thead>\n",
       "    <tr style=\"text-align: right;\">\n",
       "      <th></th>\n",
       "      <th>line</th>\n",
       "      <th>id</th>\n",
       "    </tr>\n",
       "  </thead>\n",
       "  <tbody>\n",
       "    <tr>\n",
       "      <th>0</th>\n",
       "      <td>See that? They all assume I'm a Patient becau...</td>\n",
       "      <td>0</td>\n",
       "    </tr>\n",
       "    <tr>\n",
       "      <th>1</th>\n",
       "      <td>I don't want them to think I'm a doctor.</td>\n",
       "      <td>1</td>\n",
       "    </tr>\n",
       "    <tr>\n",
       "      <th>2</th>\n",
       "      <td>People don't want a sick doctor.</td>\n",
       "      <td>2</td>\n",
       "    </tr>\n",
       "    <tr>\n",
       "      <th>3</th>\n",
       "      <td>The one who can't talk, I liked that part.</td>\n",
       "      <td>3</td>\n",
       "    </tr>\n",
       "    <tr>\n",
       "      <th>4</th>\n",
       "      <td>And your cousin doesn't like the diagnosis. I...</td>\n",
       "      <td>4</td>\n",
       "    </tr>\n",
       "  </tbody>\n",
       "</table>\n",
       "</div>"
      ],
      "text/plain": [
       "                                                line  id\n",
       "0   See that? They all assume I'm a Patient becau...   0\n",
       "1           I don't want them to think I'm a doctor.   1\n",
       "2                   People don't want a sick doctor.   2\n",
       "3         The one who can't talk, I liked that part.   3\n",
       "4   And your cousin doesn't like the diagnosis. I...   4"
      ]
     },
     "execution_count": 5,
     "metadata": {},
     "output_type": "execute_result"
    }
   ],
   "source": [
    "df.head()"
   ]
  },
  {
   "cell_type": "markdown",
   "id": "5054ec56-7f0f-4aca-8e9b-d1bb8d85d103",
   "metadata": {},
   "source": [
    "#### Pivot Sentence for Similarity Detection"
   ]
  },
  {
   "cell_type": "code",
   "execution_count": 6,
   "id": "9126be63-a0f4-49c3-8f61-b659e4df5067",
   "metadata": {},
   "outputs": [],
   "source": [
    "reference = df.loc[df['id']==1169, 'line'].iloc[0]"
   ]
  },
  {
   "cell_type": "code",
   "execution_count": 7,
   "id": "3c473e80-7d19-4a51-8096-7e326f5cfe0a",
   "metadata": {},
   "outputs": [
    {
     "data": {
      "text/plain": [
       "' A medical tube, saving his life.'"
      ]
     },
     "execution_count": 7,
     "metadata": {},
     "output_type": "execute_result"
    }
   ],
   "source": [
    "reference"
   ]
  },
  {
   "cell_type": "markdown",
   "id": "d5fdb102-c040-4f74-af64-c108ffe1cbfb",
   "metadata": {},
   "source": [
    "#### Modelling with spaCy>Encore Web "
   ]
  },
  {
   "cell_type": "code",
   "execution_count": 8,
   "id": "7983d246-aeae-4188-95ff-61c130f392bd",
   "metadata": {},
   "outputs": [],
   "source": [
    "nlp = spacy.load('en_core_web_lg')"
   ]
  },
  {
   "cell_type": "code",
   "execution_count": 9,
   "id": "a1c5f54e-d6bf-4da6-8af1-a36f330b4145",
   "metadata": {},
   "outputs": [],
   "source": [
    "reference_vec = nlp(reference)"
   ]
  },
  {
   "cell_type": "code",
   "execution_count": 10,
   "id": "31904a2a-72d5-433c-bf4d-c929b5a86985",
   "metadata": {},
   "outputs": [],
   "source": [
    "all_docs = [nlp(row) for row in df['line']]"
   ]
  },
  {
   "cell_type": "code",
   "execution_count": 13,
   "id": "bb23a2ad-c3a2-4c93-a31b-9a0d70b95161",
   "metadata": {},
   "outputs": [],
   "source": [
    "sims = []\n",
    "doc_id = []\n",
    "for i in range(len(all_docs)):\n",
    "    similar = all_docs[i].similarity(reference_vec)\n",
    "    sims.append(similar)\n",
    "    doc_id.append(i)\n",
    "    sims_docs = pd.DataFrame(list(zip(doc_id, sims)), columns = ['doc_id', 'sims'])"
   ]
  },
  {
   "cell_type": "markdown",
   "id": "74c56165-4a27-4b98-9459-78a620f1b3e4",
   "metadata": {},
   "source": [
    "#### Sorting by Similarity Score"
   ]
  },
  {
   "cell_type": "code",
   "execution_count": 22,
   "id": "6f80cbeb-9ed6-4cdf-9ded-7d3e4de216da",
   "metadata": {},
   "outputs": [],
   "source": [
    "sims_sorted = sims_docs.sort_values(by = 'sims', ascending = False)"
   ]
  },
  {
   "cell_type": "code",
   "execution_count": 23,
   "id": "4e6d6a8a-f1cb-46aa-91af-824bcb652c68",
   "metadata": {},
   "outputs": [],
   "source": [
    "top_sims_sorted = df.iloc[sims_sorted['doc_id'][1:6]]"
   ]
  },
  {
   "cell_type": "code",
   "execution_count": 24,
   "id": "e3ec675a-4b53-4b41-ba01-2b21d42851a7",
   "metadata": {},
   "outputs": [
    {
     "data": {
      "text/html": [
       "<div>\n",
       "<style scoped>\n",
       "    .dataframe tbody tr th:only-of-type {\n",
       "        vertical-align: middle;\n",
       "    }\n",
       "\n",
       "    .dataframe tbody tr th {\n",
       "        vertical-align: top;\n",
       "    }\n",
       "\n",
       "    .dataframe thead th {\n",
       "        text-align: right;\n",
       "    }\n",
       "</style>\n",
       "<table border=\"1\" class=\"dataframe\">\n",
       "  <thead>\n",
       "    <tr style=\"text-align: right;\">\n",
       "      <th></th>\n",
       "      <th>line</th>\n",
       "      <th>id</th>\n",
       "    </tr>\n",
       "  </thead>\n",
       "  <tbody>\n",
       "    <tr>\n",
       "      <th>6686</th>\n",
       "      <td>No, you idiot! It's titanium. Like from a sur...</td>\n",
       "      <td>6686</td>\n",
       "    </tr>\n",
       "    <tr>\n",
       "      <th>21705</th>\n",
       "      <td>I recently hacked into your old files. Found ...</td>\n",
       "      <td>21705</td>\n",
       "    </tr>\n",
       "    <tr>\n",
       "      <th>8310</th>\n",
       "      <td>I saved a life. Two minutes out of the chair ...</td>\n",
       "      <td>8310</td>\n",
       "    </tr>\n",
       "    <tr>\n",
       "      <th>12842</th>\n",
       "      <td>Dad's right. This is no time for gossip. A Pa...</td>\n",
       "      <td>12842</td>\n",
       "    </tr>\n",
       "    <tr>\n",
       "      <th>19647</th>\n",
       "      <td>Your Patient? No. Plenty of time to save her ...</td>\n",
       "      <td>19647</td>\n",
       "    </tr>\n",
       "  </tbody>\n",
       "</table>\n",
       "</div>"
      ],
      "text/plain": [
       "                                                    line     id\n",
       "6686    No, you idiot! It's titanium. Like from a sur...   6686\n",
       "21705   I recently hacked into your old files. Found ...  21705\n",
       "8310    I saved a life. Two minutes out of the chair ...   8310\n",
       "12842   Dad's right. This is no time for gossip. A Pa...  12842\n",
       "19647   Your Patient? No. Plenty of time to save her ...  19647"
      ]
     },
     "execution_count": 24,
     "metadata": {},
     "output_type": "execute_result"
    }
   ],
   "source": [
    "top_sims_sorted"
   ]
  },
  {
   "cell_type": "code",
   "execution_count": 32,
   "id": "7b51e8a4-c8ec-4a47-b73a-c1a59d3d3f58",
   "metadata": {},
   "outputs": [],
   "source": [
    "sims_output = pd.concat([top_sims_sorted, sims_sorted['sims'][1:6]], axis = 1)"
   ]
  },
  {
   "cell_type": "markdown",
   "id": "7d01bcaa-55d6-4719-8e01-b4bd102ea495",
   "metadata": {},
   "source": [
    "#### Output DataFrame"
   ]
  },
  {
   "cell_type": "code",
   "execution_count": 33,
   "id": "6929de66-8313-4dd1-8fb3-b5e8de33cd05",
   "metadata": {},
   "outputs": [
    {
     "data": {
      "text/html": [
       "<div>\n",
       "<style scoped>\n",
       "    .dataframe tbody tr th:only-of-type {\n",
       "        vertical-align: middle;\n",
       "    }\n",
       "\n",
       "    .dataframe tbody tr th {\n",
       "        vertical-align: top;\n",
       "    }\n",
       "\n",
       "    .dataframe thead th {\n",
       "        text-align: right;\n",
       "    }\n",
       "</style>\n",
       "<table border=\"1\" class=\"dataframe\">\n",
       "  <thead>\n",
       "    <tr style=\"text-align: right;\">\n",
       "      <th></th>\n",
       "      <th>line</th>\n",
       "      <th>id</th>\n",
       "      <th>sims</th>\n",
       "    </tr>\n",
       "  </thead>\n",
       "  <tbody>\n",
       "    <tr>\n",
       "      <th>6686</th>\n",
       "      <td>No, you idiot! It's titanium. Like from a sur...</td>\n",
       "      <td>6686</td>\n",
       "      <td>0.892180</td>\n",
       "    </tr>\n",
       "    <tr>\n",
       "      <th>21705</th>\n",
       "      <td>I recently hacked into your old files. Found ...</td>\n",
       "      <td>21705</td>\n",
       "      <td>0.888499</td>\n",
       "    </tr>\n",
       "    <tr>\n",
       "      <th>8310</th>\n",
       "      <td>I saved a life. Two minutes out of the chair ...</td>\n",
       "      <td>8310</td>\n",
       "      <td>0.888060</td>\n",
       "    </tr>\n",
       "    <tr>\n",
       "      <th>12842</th>\n",
       "      <td>Dad's right. This is no time for gossip. A Pa...</td>\n",
       "      <td>12842</td>\n",
       "      <td>0.886894</td>\n",
       "    </tr>\n",
       "    <tr>\n",
       "      <th>19647</th>\n",
       "      <td>Your Patient? No. Plenty of time to save her ...</td>\n",
       "      <td>19647</td>\n",
       "      <td>0.885991</td>\n",
       "    </tr>\n",
       "  </tbody>\n",
       "</table>\n",
       "</div>"
      ],
      "text/plain": [
       "                                                    line     id      sims\n",
       "6686    No, you idiot! It's titanium. Like from a sur...   6686  0.892180\n",
       "21705   I recently hacked into your old files. Found ...  21705  0.888499\n",
       "8310    I saved a life. Two minutes out of the chair ...   8310  0.888060\n",
       "12842   Dad's right. This is no time for gossip. A Pa...  12842  0.886894\n",
       "19647   Your Patient? No. Plenty of time to save her ...  19647  0.885991"
      ]
     },
     "execution_count": 33,
     "metadata": {},
     "output_type": "execute_result"
    }
   ],
   "source": [
    "sims_output"
   ]
  },
  {
   "cell_type": "code",
   "execution_count": 34,
   "id": "702788fc-0cea-41c6-b267-ed957523cfa9",
   "metadata": {},
   "outputs": [
    {
     "name": "stdout",
     "output_type": "stream",
     "text": [
      "<built-in method format of str object at 0x00000294E778DD30>\n",
      "<built-in method format of str object at 0x00000294E778DD30>\n",
      "<built-in method format of str object at 0x00000294E778DD30>\n",
      "<built-in method format of str object at 0x00000294E778DD30>\n",
      "<built-in method format of str object at 0x00000294E778DD30>\n"
     ]
    }
   ],
   "source": [
    "for (line, similar) in zip(sims_output['line'], sims_output['sims']):\n",
    "    print(\"The top similar sentences are: {}\\n with a Similarity Score of {:.2f}\\n\".format)"
   ]
  },
  {
   "cell_type": "markdown",
   "id": "4ee1d693-1784-43e5-91d6-3325ebd8c33a",
   "metadata": {},
   "source": [
    "#### Similar Sentences/Scores"
   ]
  },
  {
   "cell_type": "code",
   "execution_count": 43,
   "id": "718c22b2-3fd7-44f3-b6b6-be21688db85b",
   "metadata": {},
   "outputs": [
    {
     "name": "stdout",
     "output_type": "stream",
     "text": [
      " No, you idiot! It's titanium. Like from a surgical pin, like the kind the kid had inserted into his broken arm four years ago, nice medical history.\n",
      "0.8921801113936079\n"
     ]
    }
   ],
   "source": [
    "print(sims_output.loc[sims_output['id']==6686, 'line'].iloc[0])\n",
    "print(sims_output.loc[sims_output['id']==6686, 'sims'].iloc[0])"
   ]
  },
  {
   "cell_type": "code",
   "execution_count": 46,
   "id": "3ddd9ce7-29c0-4448-94d6-4a31d6b3305e",
   "metadata": {},
   "outputs": [
    {
     "name": "stdout",
     "output_type": "stream",
     "text": [
      " I recently hacked into your old files. Found a six-year-old boy with bilateral retinoblastoma. Doctors wanted to take his eyes out before the cancer spread to his brain, and you fought them. AdvoCated for a new photon beam radiation. Saved the kid's vision. PRobably saved his life.\n",
      "0.8884990462447957\n"
     ]
    }
   ],
   "source": [
    "print(sims_output.loc[sims_output['id']==21705, 'line'].iloc[0])\n",
    "print(sims_output.loc[sims_output['id']==21705, 'sims'].iloc[0])"
   ]
  },
  {
   "cell_type": "code",
   "execution_count": 47,
   "id": "498e4e4d-4559-47cc-8c3b-23fc11f32a1b",
   "metadata": {},
   "outputs": [
    {
     "name": "stdout",
     "output_type": "stream",
     "text": [
      " I saved a life. Two minutes out of the chair to save a kid's life.\n",
      "0.8880598940439731\n"
     ]
    }
   ],
   "source": [
    "print(sims_output.loc[sims_output['id']==8310, 'line'].iloc[0])\n",
    "print(sims_output.loc[sims_output['id']==8310, 'sims'].iloc[0])"
   ]
  }
 ],
 "metadata": {
  "kernelspec": {
   "display_name": "Python 3 (ipykernel)",
   "language": "python",
   "name": "python3"
  },
  "language_info": {
   "codemirror_mode": {
    "name": "ipython",
    "version": 3
   },
   "file_extension": ".py",
   "mimetype": "text/x-python",
   "name": "python",
   "nbconvert_exporter": "python",
   "pygments_lexer": "ipython3",
   "version": "3.9.7"
  }
 },
 "nbformat": 4,
 "nbformat_minor": 5
}
