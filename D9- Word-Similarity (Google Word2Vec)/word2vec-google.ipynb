{
 "cells": [
  {
   "cell_type": "markdown",
   "id": "0a5aec17-2286-4b29-bae2-d2b3033e14ce",
   "metadata": {},
   "source": [
    "### Using the Google Word2Vec Pre-Trainer for similarity detection\n",
    ".most_similar() function returns closest word cosine-distance to the argument in the range (0,1]"
   ]
  },
  {
   "cell_type": "code",
   "execution_count": 1,
   "id": "7dd2bef4-5264-4379-9369-c783d4de7994",
   "metadata": {},
   "outputs": [],
   "source": [
    "from gensim.models import KeyedVectors"
   ]
  },
  {
   "cell_type": "code",
   "execution_count": 4,
   "id": "a3c48084-47cb-4eb4-a956-eb8895db77c5",
   "metadata": {},
   "outputs": [],
   "source": [
    "model = KeyedVectors.load_word2vec_format('GoogleNews-vectors-negative300.bin', binary=True)\n",
    "# file: https://code.google.com/archive/p/word2vec/"
   ]
  },
  {
   "cell_type": "markdown",
   "id": "675d4296-56b1-4d9c-92ec-2ddeb8a18f63",
   "metadata": {},
   "source": [
    "### Single-Word Semantics"
   ]
  },
  {
   "cell_type": "code",
   "execution_count": 5,
   "id": "8db070ea-02d6-4910-80a1-121556d00904",
   "metadata": {},
   "outputs": [
    {
     "data": {
      "text/plain": [
       "[('king', 1.0),\n",
       " ('kings', 0.7138045430183411),\n",
       " ('queen', 0.6510957479476929),\n",
       " ('monarch', 0.6413194537162781),\n",
       " ('crown_prince', 0.6204219460487366),\n",
       " ('prince', 0.6159993410110474),\n",
       " ('sultan', 0.5864824056625366),\n",
       " ('ruler', 0.5797566771507263),\n",
       " ('princes', 0.5646551847457886),\n",
       " ('Prince_Paras', 0.5432944297790527)]"
      ]
     },
     "execution_count": 5,
     "metadata": {},
     "output_type": "execute_result"
    }
   ],
   "source": [
    "vec = model['king']\n",
    "model.most_similar([vec])"
   ]
  },
  {
   "cell_type": "code",
   "execution_count": 6,
   "id": "4ac91d74-e70a-443c-b8fc-11ebe1904085",
   "metadata": {},
   "outputs": [
    {
     "data": {
      "text/plain": [
       "[('noodles', 1.0),\n",
       " ('fried_noodles', 0.7416923642158508),\n",
       " ('rice_noodles', 0.7329601645469666),\n",
       " ('noodle', 0.7218667268753052),\n",
       " ('dumplings', 0.7061870694160461),\n",
       " ('steamed_dumplings', 0.7038652300834656),\n",
       " ('congee', 0.6925066113471985),\n",
       " ('noodle_dish', 0.6917508840560913),\n",
       " ('potstickers', 0.689974308013916),\n",
       " ('beef_noodle_soup', 0.6890636086463928)]"
      ]
     },
     "execution_count": 6,
     "metadata": {},
     "output_type": "execute_result"
    }
   ],
   "source": [
    "vec = model['noodles']\n",
    "model.most_similar([vec])"
   ]
  },
  {
   "cell_type": "code",
   "execution_count": 7,
   "id": "36d3fec9-0447-4d1a-898d-794c7ca64bf8",
   "metadata": {},
   "outputs": [
    {
     "data": {
      "text/plain": [
       "[('Delhi', 1.0000001192092896),\n",
       " ('Kolkata', 0.7663769125938416),\n",
       " ('Mumbai', 0.7306069135665894),\n",
       " ('Lucknow', 0.7277829647064209),\n",
       " ('Patna', 0.7159016728401184),\n",
       " ('Guwahati', 0.7072612643241882),\n",
       " ('Jaipur', 0.6992814540863037),\n",
       " ('Hyderabad', 0.6983197331428528),\n",
       " ('Ranchi', 0.6962575912475586),\n",
       " ('Bhubaneswar', 0.6959234476089478)]"
      ]
     },
     "execution_count": 7,
     "metadata": {},
     "output_type": "execute_result"
    }
   ],
   "source": [
    "vec = model['Delhi']\n",
    "model.most_similar([vec])"
   ]
  },
  {
   "cell_type": "code",
   "execution_count": 8,
   "id": "671fe487-5d6e-413f-86a8-a51a16465e41",
   "metadata": {},
   "outputs": [
    {
     "data": {
      "text/plain": [
       "[('python', 1.0000001192092896),\n",
       " ('pythons', 0.6688377857208252),\n",
       " ('Burmese_python', 0.6680364608764648),\n",
       " ('snake', 0.6606292724609375),\n",
       " ('crocodile', 0.6591362953186035),\n",
       " ('boa_constrictor', 0.6443519592285156),\n",
       " ('alligator', 0.6421656608581543),\n",
       " ('reptile', 0.6387744545936584),\n",
       " ('albino_python', 0.6158879995346069),\n",
       " ('croc', 0.6083583831787109)]"
      ]
     },
     "execution_count": 8,
     "metadata": {},
     "output_type": "execute_result"
    }
   ],
   "source": [
    "vec = model['python']\n",
    "model.most_similar([vec])"
   ]
  },
  {
   "cell_type": "markdown",
   "id": "a0c9a3bf-ed48-4f54-9c0f-f8d015cd535c",
   "metadata": {},
   "source": [
    "### Documentation Examples/Well-Known Equatables"
   ]
  },
  {
   "cell_type": "code",
   "execution_count": 9,
   "id": "c59c5a3a-46e5-4a1e-bedc-ddec35dcf821",
   "metadata": {},
   "outputs": [
    {
     "data": {
      "text/plain": [
       "[('king', 0.8449392318725586),\n",
       " ('queen', 0.7300518155097961),\n",
       " ('monarch', 0.645466148853302),\n",
       " ('princess', 0.6156251430511475),\n",
       " ('crown_prince', 0.5818676948547363),\n",
       " ('prince', 0.5777117609977722),\n",
       " ('kings', 0.5613664388656616),\n",
       " ('sultan', 0.5376776456832886),\n",
       " ('Queen_Consort', 0.5344247221946716),\n",
       " ('queens', 0.5289887189865112)]"
      ]
     },
     "execution_count": 9,
     "metadata": {},
     "output_type": "execute_result"
    }
   ],
   "source": [
    "vec = model['king'] - model['man'] + model['woman']\n",
    "model.most_similar([vec])"
   ]
  },
  {
   "cell_type": "code",
   "execution_count": 10,
   "id": "c55262e8-b2af-4aff-8a17-c5d480a40321",
   "metadata": {},
   "outputs": [
    {
     "data": {
      "text/plain": [
       "[('Berlin', 0.7196934819221497),\n",
       " ('Munich', 0.6638467311859131),\n",
       " ('London', 0.6443512439727783),\n",
       " ('Frankfurt', 0.6250364780426025),\n",
       " ('Cologne', 0.6203813552856445),\n",
       " ('Germany', 0.6155319809913635),\n",
       " ('German', 0.6154781579971313),\n",
       " ('Hamburg', 0.6073653697967529),\n",
       " ('Dusseldorf', 0.5999920964241028),\n",
       " ('Stuttgart', 0.5898027420043945)]"
      ]
     },
     "execution_count": 10,
     "metadata": {},
     "output_type": "execute_result"
    }
   ],
   "source": [
    "vec = model['London'] - model['United_Kingdom'] + model['Germany']\n",
    "model.most_similar([vec])"
   ]
  },
  {
   "cell_type": "code",
   "execution_count": 11,
   "id": "db975cca-e63d-48f0-a7cb-997af21d79ad",
   "metadata": {},
   "outputs": [
    {
     "data": {
      "text/plain": [
       "[('Milan', 0.7251641750335693),\n",
       " ('Rome', 0.7073155045509338),\n",
       " ('Italy', 0.6847636103630066),\n",
       " ('Paris', 0.6693719029426575),\n",
       " ('Palermo_Sicily', 0.6014109253883362),\n",
       " ('Italian', 0.596384584903717),\n",
       " ('Tuscany', 0.5672276616096497),\n",
       " ('Sicily', 0.5654013752937317),\n",
       " ('Bologna', 0.5645887851715088),\n",
       " ('Bologna_Italy', 0.5513801574707031)]"
      ]
     },
     "execution_count": 11,
     "metadata": {},
     "output_type": "execute_result"
    }
   ],
   "source": [
    "vec = model['Paris'] - model['France'] + model['Italy']\n",
    "model.most_similar([vec])"
   ]
  },
  {
   "cell_type": "markdown",
   "id": "2bcd5ab1-149f-4d26-ba24-807d75594f97",
   "metadata": {},
   "source": [
    "### Eval for Custom Cases"
   ]
  },
  {
   "cell_type": "code",
   "execution_count": 12,
   "id": "653770b1-affd-406b-8f1e-a0de0ad432f0",
   "metadata": {},
   "outputs": [
    {
     "data": {
      "text/plain": [
       "[('Nadal', 0.6385261416435242),\n",
       " ('Del_Potro', 0.611546516418457),\n",
       " ('Federer', 0.6039702296257019),\n",
       " ('Messi', 0.594856858253479),\n",
       " ('Wawrinka', 0.5935012698173523),\n",
       " ('Verdasco', 0.5804503560066223),\n",
       " ('Djokovic', 0.5797949433326721),\n",
       " ('Safin', 0.5705609321594238),\n",
       " ('Gasquet', 0.567422091960907),\n",
       " ('Soderling', 0.5669620633125305)]"
      ]
     },
     "execution_count": 12,
     "metadata": {},
     "output_type": "execute_result"
    }
   ],
   "source": [
    "vec = model['Messi'] - model['football'] - model['soccer'] + model['tennis']\n",
    "model.most_similar([vec])"
   ]
  },
  {
   "cell_type": "code",
   "execution_count": 13,
   "id": "e53f906e-05fd-453f-9a8c-c49a0fbb55bd",
   "metadata": {},
   "outputs": [
    {
     "data": {
      "text/plain": [
       "[('Tendulkar', 0.6496143341064453),\n",
       " ('Yuvraj', 0.6315003633499146),\n",
       " ('Sehwag', 0.6310281157493591),\n",
       " ('Kumble', 0.6087824106216431),\n",
       " ('Ponting', 0.6032574772834778),\n",
       " ('Laxman', 0.6028616428375244),\n",
       " ('Dravid', 0.6026806831359863),\n",
       " ('Sachin_Tendulkar', 0.5939244031906128),\n",
       " ('Dhoni', 0.5885454416275024),\n",
       " ('Gambhir', 0.5869281888008118)]"
      ]
     },
     "execution_count": 13,
     "metadata": {},
     "output_type": "execute_result"
    }
   ],
   "source": [
    "vec = model['Messi'] - model['football'] - model['soccer'] + model['cricket']\n",
    "model.most_similar([vec])"
   ]
  },
  {
   "cell_type": "code",
   "execution_count": 14,
   "id": "8d877233-2355-41f3-8967-fc27a3ea63de",
   "metadata": {},
   "outputs": [
    {
     "data": {
      "text/plain": [
       "[('Sehwag', 0.8434016704559326),\n",
       " ('Ishant', 0.7596193552017212),\n",
       " ('Yuvraj', 0.7554063200950623),\n",
       " ('Kumble', 0.7540284395217896),\n",
       " ('Tendulkar', 0.7483786344528198),\n",
       " ('Sreesanth', 0.748140811920166),\n",
       " ('Zaheer_Khan', 0.7296646237373352),\n",
       " ('Virender_Sehwag', 0.7282272577285767),\n",
       " ('Dravid', 0.7277641296386719),\n",
       " ('Dhoni', 0.7238598465919495)]"
      ]
     },
     "execution_count": 14,
     "metadata": {},
     "output_type": "execute_result"
    }
   ],
   "source": [
    "vec = model['Sehwag'] - model['batsman'] + model['bowler']\n",
    "model.most_similar([vec])"
   ]
  },
  {
   "cell_type": "code",
   "execution_count": 15,
   "id": "7980bf5f-2ea5-4b39-a8b8-6f3718c205a2",
   "metadata": {},
   "outputs": [
    {
     "data": {
      "text/plain": [
       "[('Manmohan_Singh', 0.7296329140663147),\n",
       " ('Vajpayee', 0.7220031023025513),\n",
       " ('Putin', 0.7125787138938904),\n",
       " ('Advani', 0.6949706673622131),\n",
       " ('Prime_Minister_Manmohan_Singh', 0.6784853339195251),\n",
       " ('Manmohan', 0.6628985404968262),\n",
       " ('Chidambaram', 0.6581931114196777),\n",
       " ('Gadkari', 0.6460315585136414),\n",
       " ('Modi', 0.641083300113678),\n",
       " ('Mukherjee', 0.6406071186065674)]"
      ]
     },
     "execution_count": 15,
     "metadata": {},
     "output_type": "execute_result"
    }
   ],
   "source": [
    "vec = model['Putin'] - model['Russia'] + model['India']\n",
    "model.most_similar([vec])"
   ]
  },
  {
   "cell_type": "code",
   "execution_count": null,
   "id": "9d21b386-b16a-4277-a53b-69f8b18f3bb0",
   "metadata": {},
   "outputs": [],
   "source": [
    "# further use K-means clustering for performing phrase-similarity "
   ]
  }
 ],
 "metadata": {
  "kernelspec": {
   "display_name": "Python 3 (ipykernel)",
   "language": "python",
   "name": "python3"
  },
  "language_info": {
   "codemirror_mode": {
    "name": "ipython",
    "version": 3
   },
   "file_extension": ".py",
   "mimetype": "text/x-python",
   "name": "python",
   "nbconvert_exporter": "python",
   "pygments_lexer": "ipython3",
   "version": "3.9.7"
  }
 },
 "nbformat": 4,
 "nbformat_minor": 5
}
